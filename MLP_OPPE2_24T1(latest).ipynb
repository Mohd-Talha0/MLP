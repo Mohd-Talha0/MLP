{
  "cells": [
    {
      "cell_type": "markdown",
      "metadata": {
        "id": "view-in-github",
        "colab_type": "text"
      },
      "source": [
        "<a href=\"https://colab.research.google.com/github/Mohd-Talha0/MLP/blob/main/MLP_OPPE2_24T1(latest).ipynb\" target=\"_parent\"><img src=\"https://colab.research.google.com/assets/colab-badge.svg\" alt=\"Open In Colab\"/></a>"
      ]
    },
    {
      "cell_type": "code",
      "source": [
        "from google.colab import drive\n",
        "drive.mount('/content/drive')"
      ],
      "metadata": {
        "colab": {
          "base_uri": "https://localhost:8080/"
        },
        "id": "304yQNhR1fSG",
        "outputId": "6ea2a694-665c-4c45-8420-0e01e2c3fa2e"
      },
      "execution_count": null,
      "outputs": [
        {
          "output_type": "stream",
          "name": "stdout",
          "text": [
            "Mounted at /content/drive\n"
          ]
        }
      ]
    },
    {
      "cell_type": "code",
      "source": [
        "datasets_path     = '/content/drive/MyDrive/MLP/MLP_OPPE2_T12024/Datasets'\n",
        "old_datasets_path = '/content/drive/MyDrive/MLP/MLP_OPPE2_T12024/old_datasets'"
      ],
      "metadata": {
        "id": "nr7aLlqV12Zu"
      },
      "execution_count": null,
      "outputs": []
    },
    {
      "cell_type": "code",
      "source": [
        "import numpy as np\n",
        "import pandas as pd\n",
        "import datetime\n",
        "import os\n",
        "from pathlib import Path\n",
        "\n",
        "import matplotlib.pyplot as plt\n",
        "import seaborn as sns"
      ],
      "metadata": {
        "id": "B4O34Yu51-r-"
      },
      "execution_count": null,
      "outputs": []
    },
    {
      "cell_type": "code",
      "source": [
        "# # Only to be executed once\n",
        "# for i_path in Path(datasets_path).glob('*.csv'):\n",
        "#   new_name = str(i_path.parent)+'/T124OPPE2_Preprocessing_'+i_path.stem.upper()+'.csv'\n",
        "#   (pd.read_csv(str(i_path))\n",
        "#   .to_csv(new_name, index=False))"
      ],
      "metadata": {
        "id": "vP68a2Db2M4k"
      },
      "execution_count": null,
      "outputs": []
    },
    {
      "cell_type": "markdown",
      "source": [
        "# Prepare the dataset"
      ],
      "metadata": {
        "id": "5MZcf19CDNlm"
      }
    },
    {
      "cell_type": "code",
      "source": [
        "# counter =0\n",
        "# for i_path in Path(old_datasets_path).glob('*Preprocessing*.csv'):\n",
        "\n",
        "#   i_df = pd.read_csv(str(i_path))\n",
        "\n",
        "#   # convert 0 and 1 to 'No' and 'Yes'\n",
        "#   i_df = (i_df\n",
        "#           .assign(hypertension  = i_df.hypertension.  apply(lambda x: 'Yes' if x==1 else 'No'))\n",
        "#           .assign(heart_disease = i_df.heart_disease. apply(lambda x: 'Yes' if x==1 else 'No'))\n",
        "#           .assign(stroke        = i_df.stroke.        apply(lambda x: 'Yes' if x==1 else 'No'))\n",
        "#           )\n",
        "\n",
        "#   # add noise to numrical features\n",
        "#   np.random.seed(counter)\n",
        "#   counter+=1\n",
        "#   i_df=(i_df\n",
        "#         .assign(avg_glucose_level=\n",
        "#                 i_df.avg_glucose_level+np.random.randn(len(i_df.avg_glucose_level)))\n",
        "#         .assign(bmi=\n",
        "#                 i_df.bmi+np.random.randn(len(i_df.avg_glucose_level)))\n",
        "#         .assign(avg_glucose_level=lambda df: df.avg_glucose_level.apply(lambda x: round(x,2)))\n",
        "#         .assign(bmi=lambda df: df.bmi.apply(lambda x: round(x,1)))\n",
        "#         .assign(avg_glucose_level=lambda df: df.avg_glucose_level.apply(lambda x: round(x,1)))\n",
        "#         )\n",
        "\n",
        "#   i_df=(i_df\n",
        "#         .assign(Residence_type=\n",
        "#                 i_df.Residence_type.apply(lambda x: 'City' if x=='Urban' else 'Village'))\n",
        "#         .assign(gender=\n",
        "#                 i_df.gender.apply(lambda x: 'Male' if x=='Male' else 'Female'))\n",
        "#         )\n",
        "\n",
        "#   # gender Male, Female or Other\n",
        "#   # hypertension 0 and 1,\n",
        "#   # heart_disease 0 and 1,\n",
        "#   # ever_married Yes, No\n",
        "#   # work_type Private, Self-employed, children,Govt_job,Never_worked\n",
        "#   # Residence_type Urban, Rural\n",
        "#   # avg_glucose_level  float\n",
        "#   # bmi float\n",
        "#   # smoking_status never smoked, formerly smoked, smokes\n",
        "#   # stroke 0 and 1 presence of strokes\n",
        "\n",
        "#   # rename features\n",
        "#   i_df.rename(columns={'gender':'Gender',\n",
        "#                        'hypertension':'HasTension',\n",
        "#                        'age':'Age',\n",
        "#                        'heart_disease':'AnyHeartDisease',\n",
        "#                        'ever_married':'NeverMarried',\n",
        "#                        'work_type':'Occupation',\n",
        "#                        'Residence_type':'LivesIn',\n",
        "#                        'avg_glucose_level':'GlucoseLevel',\n",
        "#                        'bmi':'BMI',\n",
        "#                        'smoking_status':'SmokingStatus',\n",
        "#                        'stroke':'HeartAttack'},\n",
        "#               inplace = True)\n",
        "\n",
        "#   # insert missing values in cateforical and numerical features\n",
        "#   # randomly choose number of missing values\n",
        "\n",
        "#   # missing values in Gender are negative\n",
        "#   num_missing = np.random.randint(5,10)\n",
        "#   missing_indices=np.random.choice(range(len(i_df)), num_missing)\n",
        "#   i_df.loc[missing_indices,'Gender']= 'Unknown'\n",
        "\n",
        "#   # missing values in age are negative\n",
        "#   num_missing = np.random.randint(5,10)\n",
        "#   missing_indices=np.random.choice(range(len(i_df)), num_missing)\n",
        "#   i_df.loc[missing_indices,'Age']= -3\n",
        "\n",
        "#   # missing values in livesin are negative\n",
        "#   num_missing = np.random.randint(5,10)\n",
        "#   missing_indices=np.random.choice(range(len(i_df)), num_missing)\n",
        "#   i_df.loc[missing_indices,'LivesIn']= 'Unknown'\n",
        "\n",
        "#   # missing values in glucoselevel are negative\n",
        "#   num_missing = np.random.randint(5,10)\n",
        "#   missing_indices=np.random.choice(range(len(i_df)), num_missing)\n",
        "#   i_df.loc[missing_indices,'GlucoseLevel']= -2\n",
        "\n",
        "#   # shuffle the dataset\n",
        "#   i_df = i_df.sample(frac=1)\n",
        "\n",
        "#   i_df.to_csv(f'{datasets_path}/{i_path.name}',\n",
        "#               index=False)\n",
        "\n",
        "#   # break;"
      ],
      "metadata": {
        "id": "QFec0AiZDPgS"
      },
      "execution_count": null,
      "outputs": []
    },
    {
      "cell_type": "markdown",
      "metadata": {
        "id": "1MZTr62Fb4xZ"
      },
      "source": [
        "# OPPE 2 Details:\n",
        "\n"
      ]
    },
    {
      "cell_type": "markdown",
      "metadata": {
        "id": "vH9EdnfQ_4E7"
      },
      "source": [
        "### Date: 07 April 2024"
      ]
    },
    {
      "cell_type": "markdown",
      "metadata": {
        "id": "TevAPxiI_5U6"
      },
      "source": [
        "### Roll No:"
      ]
    },
    {
      "cell_type": "markdown",
      "metadata": {
        "id": "E3wSrh2zT0Ci"
      },
      "source": [
        "### Max Marks: 100\n",
        "Part 1 Marks: 40\n",
        "\n",
        "Part 2 Marks: 60"
      ]
    },
    {
      "cell_type": "markdown",
      "source": [
        "# Dataset description\n",
        "1. `Gender`: Gender of the patient.\n",
        "2. `HasTension`: If the patient is known to have hyper tension.\n",
        "3. `Age`: Age of the patient in years.\n",
        "4. `AnyHeartDisease`: If the patient is known to have any cardio pathy.\n",
        "5. `NeverMarried`: Status of the patient if he/she was never married.\n",
        "6. `Occupation`: Occupation or job type of the patient.\n",
        "7. `LivesIn`: If the patient lives in a city or village.\n",
        "8. `GlucoseLevel`: Randomly sampled glucose level of a patient.\n",
        "9. `BMI`: Body mass index.\n",
        "10. `SmokingStatus`: How frequent a patient smokes or if he has smoked before.\n",
        "11. `HeartAttack`: If the patient has a cardiac arrest before."
      ],
      "metadata": {
        "id": "jLScYk5Vws7m"
      }
    },
    {
      "cell_type": "code",
      "source": [
        "# np.random.seed(5)\n",
        "# i_df.iloc[np.random.choice(range(len(i_df.gender)), 5),1]"
      ],
      "metadata": {
        "id": "hXgUGIY2rrDR"
      },
      "execution_count": null,
      "outputs": []
    },
    {
      "cell_type": "code",
      "source": [
        "# i_df.avg_glucose_level+np.random.rand(len(i_df.avg_glucose_level))"
      ],
      "metadata": {
        "id": "lJspvp5tqQwM"
      },
      "execution_count": null,
      "outputs": []
    },
    {
      "cell_type": "code",
      "source": [
        "# i_df.shape"
      ],
      "metadata": {
        "id": "j6gvzmHDP1-C"
      },
      "execution_count": null,
      "outputs": []
    },
    {
      "cell_type": "markdown",
      "source": [
        "# Part 1: Preprocessing"
      ],
      "metadata": {
        "id": "SzDmZrG6x6ek"
      }
    },
    {
      "cell_type": "markdown",
      "source": [
        "### **Note**: For numerical type questions, always enter the answer correct upto 3 decimal places without rounding off, unless otherwise stated."
      ],
      "metadata": {
        "id": "SYkPYa42XFkL"
      }
    },
    {
      "cell_type": "markdown",
      "metadata": {
        "id": "_LyYUasJRLpY"
      },
      "source": [
        "#Preamble: Load the dataset and examine it."
      ]
    },
    {
      "cell_type": "markdown",
      "metadata": {
        "id": "fT8gFQRKJ2WF"
      },
      "source": [
        "### Q1. [marks : 0] Which dataset are you using for this exam? Write the last two letters of the dataset file name.\n",
        "\n",
        "\n",
        "Hint: the version number will be last two letters of the dataset file name.\n",
        "\n",
        "Options:\n",
        "\n",
        "A) V1\n",
        "\n",
        "B) V2\n",
        "\n",
        "C) V3\n",
        "\n",
        "Note: the shape of the data is (4000, 11)\n",
        "\n",
        "Answer:\n",
        "\n",
        "V1: A\n",
        "\n",
        "V2: B\n",
        "\n",
        "V3: C"
      ]
    },
    {
      "cell_type": "code",
      "source": [
        "dataset_id = 1"
      ],
      "metadata": {
        "id": "sOqWUsu260XR"
      },
      "execution_count": null,
      "outputs": []
    },
    {
      "cell_type": "code",
      "execution_count": null,
      "metadata": {
        "id": "cFsAx2xfOEnp"
      },
      "outputs": [],
      "source": [
        "data = pd.read_csv(f\"{datasets_path}/T124OPPE2_Preprocessing_V{dataset_id}.csv\")"
      ]
    },
    {
      "cell_type": "code",
      "source": [
        "data.shape"
      ],
      "metadata": {
        "colab": {
          "base_uri": "https://localhost:8080/"
        },
        "id": "lGxuAnebLALe",
        "outputId": "ce02c307-32f3-4a13-c716-12b6d5cb23b2"
      },
      "execution_count": null,
      "outputs": [
        {
          "output_type": "execute_result",
          "data": {
            "text/plain": [
              "(4000, 11)"
            ]
          },
          "metadata": {},
          "execution_count": 77
        }
      ]
    },
    {
      "cell_type": "markdown",
      "metadata": {
        "id": "jLAexDe0NkPI"
      },
      "source": [
        "# Preprocessing Questions"
      ]
    },
    {
      "cell_type": "code",
      "execution_count": null,
      "metadata": {
        "id": "z-1o0eGJPDLt",
        "colab": {
          "base_uri": "https://localhost:8080/"
        },
        "outputId": "63b2517a-dd79-48f8-afa9-05f3da570e4b"
      },
      "outputs": [
        {
          "output_type": "execute_result",
          "data": {
            "text/plain": [
              "(4000, 11)"
            ]
          },
          "metadata": {},
          "execution_count": 59
        }
      ],
      "source": [
        "data.shape"
      ]
    },
    {
      "cell_type": "code",
      "execution_count": null,
      "metadata": {
        "id": "AIS8FJLDfPvX"
      },
      "outputs": [],
      "source": [
        "features = data.columns"
      ]
    },
    {
      "cell_type": "markdown",
      "source": [
        "## Please consider all kind of unknown values  in dataset as missing values."
      ],
      "metadata": {
        "id": "PTu2rwOHEmk5"
      }
    },
    {
      "cell_type": "markdown",
      "metadata": {
        "id": "bSFs4fSveyB2"
      },
      "source": [
        "### Q.2.1 [NAT][2 Mark] What is the total number of missing or unknown values in the column `Gender`?\n",
        "\n",
        "(Hint: carefully look at the values the feature takes and find out implausible value(s).)\n",
        "\n",
        "Ans:\n",
        "\n",
        "V1: 7\n",
        "\n",
        "V2: 5\n",
        "\n",
        "V3: 6\n",
        "\n"
      ]
    },
    {
      "cell_type": "code",
      "execution_count": null,
      "metadata": {
        "id": "P0d8tHncebK-",
        "colab": {
          "base_uri": "https://localhost:8080/"
        },
        "outputId": "ada2b2a7-ee4c-4f3d-fda6-c0b4c0f84485"
      },
      "outputs": [
        {
          "output_type": "execute_result",
          "data": {
            "text/plain": [
              "Gender\n",
              "Female     2366\n",
              "Male       1627\n",
              "Unknown       7\n",
              "Name: count, dtype: int64"
            ]
          },
          "metadata": {},
          "execution_count": 61
        }
      ],
      "source": [
        "data.Gender.value_counts()"
      ]
    },
    {
      "cell_type": "markdown",
      "metadata": {
        "id": "QqGyXpSzaX-J"
      },
      "source": [
        "### Q.2.2 [NAT][2 Marks] What is the total number of missing or unknown values in the column `Age`?\n",
        "\n",
        "(Hint: carefully look at the values the feature takes and find out implausible value(s).)\n",
        "\n",
        "Ans:\n",
        "\n",
        "V1: 8\n",
        "\n",
        "V2: 9\n",
        "\n",
        "V3: 8\n"
      ]
    },
    {
      "cell_type": "code",
      "execution_count": null,
      "metadata": {
        "colab": {
          "base_uri": "https://localhost:8080/"
        },
        "outputId": "0578b72d-b2bc-4315-f5fd-38ebe02708fa",
        "id": "GzyyEDNkaX-T"
      },
      "outputs": [
        {
          "output_type": "execute_result",
          "data": {
            "text/plain": [
              "(8, 11)"
            ]
          },
          "metadata": {},
          "execution_count": 197
        }
      ],
      "source": [
        "data.query('Age<=0').shape\n",
        "# data.Age.value_counts()"
      ]
    },
    {
      "cell_type": "markdown",
      "metadata": {
        "id": "klKURh_a3N2m"
      },
      "source": [
        "### Q.2.3 [NAT][2 Marks] What is the total number of missing or unknown values in the column `GlucoseLevel`?\n",
        "\n",
        "(Hint: carefully look at the values the feature takes and find out implausible value(s).)\n",
        "\n",
        "Ans:\n",
        "\n",
        "V1: 9\n",
        "\n",
        "V2: 6\n",
        "\n",
        "V3: 5\n",
        "\n"
      ]
    },
    {
      "cell_type": "code",
      "execution_count": null,
      "metadata": {
        "colab": {
          "base_uri": "https://localhost:8080/"
        },
        "outputId": "f7c74031-3c95-44b4-e821-2b69a7b0b782",
        "id": "4ZxoahR73N2m"
      },
      "outputs": [
        {
          "output_type": "execute_result",
          "data": {
            "text/plain": [
              "(5, 11)"
            ]
          },
          "metadata": {},
          "execution_count": 198
        }
      ],
      "source": [
        "data.query('GlucoseLevel<=0').shape\n",
        "# data.Age.value_counts()"
      ]
    },
    {
      "cell_type": "markdown",
      "metadata": {
        "id": "ylPEQ_La20Wm"
      },
      "source": [
        "### Q.2.4 [NAT][2 Mark] What is the total number of missing or unknown values in the column `LivesIn`?\n",
        "\n",
        "(Hint: carefully look at the values the feature takes and find out implausible value(s).)\n",
        "\n",
        "Ans:\n",
        "\n",
        "V1: 5\n",
        "\n",
        "V2: 8\n",
        "\n",
        "V3: 5\n"
      ]
    },
    {
      "cell_type": "code",
      "execution_count": null,
      "metadata": {
        "colab": {
          "base_uri": "https://localhost:8080/"
        },
        "outputId": "b524264a-e0ce-4dcf-94ab-ccf1ec2e8596",
        "id": "WzJTmV7Y20Wz"
      },
      "outputs": [
        {
          "output_type": "execute_result",
          "data": {
            "text/plain": [
              "LivesIn\n",
              "City       2072\n",
              "Village    1923\n",
              "Unknown       5\n",
              "Name: count, dtype: int64"
            ]
          },
          "metadata": {},
          "execution_count": 199
        }
      ],
      "source": [
        "# data.query('LivesIn <0').shape\n",
        "data.LivesIn.value_counts()"
      ]
    },
    {
      "cell_type": "markdown",
      "metadata": {
        "id": "BjGdeFYCuxA_"
      },
      "source": [
        "### Q.2.5 [NAT][2 Marks] What is the total number of missing or unknown values in the column `BMI`?\n",
        "\n",
        "(Hint: carefully look at the values the feature takes and find out implausible value(s).)\n",
        "\n",
        "Ans:\n",
        "\n",
        "V1: 149\n",
        "\n",
        "V2: 155\n",
        "\n",
        "V3: 162\n"
      ]
    },
    {
      "cell_type": "code",
      "execution_count": null,
      "metadata": {
        "colab": {
          "base_uri": "https://localhost:8080/"
        },
        "outputId": "0736347e-3926-4578-d1fb-426cb3ecbde7",
        "id": "drbBlRYSuxBK"
      },
      "outputs": [
        {
          "output_type": "execute_result",
          "data": {
            "text/plain": [
              "149"
            ]
          },
          "metadata": {},
          "execution_count": 13
        }
      ],
      "source": [
        "data.BMI.isna().sum()"
      ]
    },
    {
      "cell_type": "markdown",
      "metadata": {
        "id": "zL4TfA1_v2KB"
      },
      "source": [
        "### Q.2.6 [NAT][2 Mark] What is the total number of missing or unknown values in the column `SmokingStatus`?\n",
        "\n",
        "(Hint: carefully look at the values the feature takes and find out implausible value(s).)\n",
        "\n",
        "Ans:\n",
        "\n",
        "V1: 1204\n",
        "\n",
        "V2: 1234\n",
        "\n",
        "V3: 1214\n",
        "\n"
      ]
    },
    {
      "cell_type": "code",
      "execution_count": null,
      "metadata": {
        "colab": {
          "base_uri": "https://localhost:8080/"
        },
        "outputId": "9b7a9c0d-13e2-41c2-9ac5-e1c6fa34f5ff",
        "id": "LG4lsGG8v2KP"
      },
      "outputs": [
        {
          "output_type": "execute_result",
          "data": {
            "text/plain": [
              "SmokingStatus\n",
              "never smoked       1485\n",
              "Unknown            1214\n",
              "formerly smoked     691\n",
              "smokes              610\n",
              "Name: count, dtype: int64"
            ]
          },
          "metadata": {},
          "execution_count": 201
        }
      ],
      "source": [
        "data.SmokingStatus.value_counts()"
      ]
    },
    {
      "cell_type": "markdown",
      "metadata": {
        "id": "sMZZMxcIQZi2"
      },
      "source": [
        "### Q.3 [NAT][3 Marks] What is the mean value of the `BMI` in the dataset? Ignore the missing values if any.\n",
        "\n",
        "Answer:\n",
        "\n",
        "V1: 28.8857 Range: 28.88 to 28.890\n",
        "\n",
        "V2: 28.9372 Range: 28.932 to 28.942\n",
        "\n",
        "V3: 28.9275 Range: 28.922 to 28.932\n"
      ]
    },
    {
      "cell_type": "code",
      "source": [
        "data.BMI.mean()"
      ],
      "metadata": {
        "colab": {
          "base_uri": "https://localhost:8080/"
        },
        "id": "6jbU2Zyh3yep",
        "outputId": "d5fe3ca3-a45f-4260-b480-64edb2e48186"
      },
      "execution_count": null,
      "outputs": [
        {
          "output_type": "execute_result",
          "data": {
            "text/plain": [
              "28.857958971695663"
            ]
          },
          "metadata": {},
          "execution_count": 14
        }
      ]
    },
    {
      "cell_type": "markdown",
      "metadata": {
        "id": "8TpGCkocMpDO"
      },
      "source": [
        "### Q.4 [MCQ][3 Marks] How many people live in city, smoked at least once in life and had a heartattack? Ignore records/rows with any missing values.\n",
        "\n",
        "\n",
        "(a) 52\n",
        "\n",
        "(b) 53\n",
        "\n",
        "(c) 54\n",
        "\n",
        "(d) 55\n",
        "\n",
        "(e) 56\n",
        "\n",
        "(f) None of these.\n",
        "\n",
        "V1: A\n",
        "\n",
        "V2: B\n",
        "\n",
        "V3: B\n",
        "\n",
        "\n"
      ]
    },
    {
      "cell_type": "code",
      "execution_count": null,
      "metadata": {
        "id": "j-YWztCCQICw",
        "colab": {
          "base_uri": "https://localhost:8080/",
          "height": 1000
        },
        "outputId": "4f6d1117-d654-4031-c620-ba45b8b94632"
      },
      "outputs": [
        {
          "output_type": "execute_result",
          "data": {
            "text/plain": [
              "      Gender   Age HasTension AnyHeartDisease NeverMarried     Occupation  \\\n",
              "274   Female  82.0        Yes             Yes          Yes       Govt_job   \n",
              "288   Female  81.0         No              No           No       Govt_job   \n",
              "386     Male  71.0         No              No          Yes        Private   \n",
              "435   Female  68.0        Yes             Yes          Yes        Private   \n",
              "486   Female  63.0         No              No          Yes        Private   \n",
              "505   Female  58.0         No              No          Yes        Private   \n",
              "580     Male  82.0         No              No          Yes       Govt_job   \n",
              "595     Male  78.0        Yes              No          Yes        Private   \n",
              "632   Female  65.0         No              No          Yes        Private   \n",
              "929     Male  78.0        Yes              No          Yes  Self-employed   \n",
              "992     Male  59.0         No              No          Yes        Private   \n",
              "1030    Male  60.0         No             Yes          Yes        Private   \n",
              "1273  Female  54.0         No              No          Yes        Private   \n",
              "1285  Female  76.0         No              No          Yes        Private   \n",
              "1320  Female  56.0         No              No          Yes        Private   \n",
              "1397  Female  49.0         No              No          Yes        Private   \n",
              "1426    Male  61.0        Yes             Yes          Yes        Private   \n",
              "1485    Male  68.0         No              No          Yes  Self-employed   \n",
              "1490    Male  51.0        Yes              No          Yes        Private   \n",
              "1587    Male  65.0         No              No          Yes  Self-employed   \n",
              "1672  Female  38.0         No              No           No  Self-employed   \n",
              "1687  Female  77.0        Yes              No          Yes  Self-employed   \n",
              "1727    Male  58.0         No              No          Yes        Private   \n",
              "1757    Male  82.0         No             Yes          Yes        Private   \n",
              "2030  Female  57.0         No              No          Yes        Private   \n",
              "2065    Male  80.0         No             Yes          Yes  Self-employed   \n",
              "2098  Female  79.0         No             Yes           No        Private   \n",
              "2099    Male  47.0         No              No          Yes        Private   \n",
              "2125    Male  75.0        Yes              No          Yes        Private   \n",
              "2128    Male  63.0         No             Yes          Yes  Self-employed   \n",
              "2168    Male  67.0         No             Yes          Yes        Private   \n",
              "2181  Female  79.0        Yes              No           No       Govt_job   \n",
              "2204  Female  79.0         No              No          Yes        Private   \n",
              "2210    Male  78.0         No              No          Yes        Private   \n",
              "2275  Female  60.0         No              No          Yes        Private   \n",
              "2335    Male  80.0         No             Yes          Yes        Private   \n",
              "2596    Male  68.0         No             Yes          Yes        Private   \n",
              "2621    Male  78.0         No              No          Yes  Self-employed   \n",
              "2662    Male  81.0         No              No          Yes        Private   \n",
              "2853  Female  71.0         No              No          Yes  Self-employed   \n",
              "2897  Female  70.0        Yes              No          Yes  Self-employed   \n",
              "2913    Male  59.0         No              No          Yes        Private   \n",
              "2931  Female  76.0         No              No          Yes  Self-employed   \n",
              "3267    Male  57.0        Yes              No          Yes        Private   \n",
              "3329    Male  74.0         No              No          Yes        Private   \n",
              "3349  Female  76.0        Yes             Yes          Yes  Self-employed   \n",
              "3563  Female  55.0        Yes             Yes          Yes        Private   \n",
              "3641    Male  64.0         No             Yes          Yes        Private   \n",
              "3691    Male  80.0        Yes             Yes          Yes        Private   \n",
              "3841    Male  57.0        Yes              No          Yes       Govt_job   \n",
              "3928    Male  81.0        Yes             Yes          Yes        Private   \n",
              "3966    Male  76.0         No              No          Yes        Private   \n",
              "\n",
              "     LivesIn  GlucoseLevel   BMI    SmokingStatus HeartAttack  \n",
              "274     City         216.2  29.5  formerly smoked         Yes  \n",
              "288     City          70.1  26.4           smokes         Yes  \n",
              "386     City         103.0  27.3  formerly smoked         Yes  \n",
              "435     City         247.5  39.5  formerly smoked         Yes  \n",
              "486     City          91.2   NaN  formerly smoked         Yes  \n",
              "505     City         108.0  38.2  formerly smoked         Yes  \n",
              "580     City         201.9  27.2  formerly smoked         Yes  \n",
              "595     City          75.7   NaN  formerly smoked         Yes  \n",
              "632     City         205.9  47.6  formerly smoked         Yes  \n",
              "929     City          92.5   NaN  formerly smoked         Yes  \n",
              "992     City          86.0  30.0  formerly smoked         Yes  \n",
              "1030    City          91.6  37.4           smokes         Yes  \n",
              "1273    City         102.1  26.8           smokes         Yes  \n",
              "1285    City          57.7   NaN  formerly smoked         Yes  \n",
              "1320    City         184.9  41.9  formerly smoked         Yes  \n",
              "1397    City         168.7  34.2           smokes         Yes  \n",
              "1426    City         112.5  35.6           smokes         Yes  \n",
              "1485    City          79.9  26.2           smokes         Yes  \n",
              "1490    City         112.0  42.2  formerly smoked         Yes  \n",
              "1587    City          71.4   NaN  formerly smoked         Yes  \n",
              "1672    City          82.0  24.6  formerly smoked         Yes  \n",
              "1687    City         198.8  28.2  formerly smoked         Yes  \n",
              "1727    City          80.8   NaN           smokes         Yes  \n",
              "1757    City         144.7  27.0           smokes         Yes  \n",
              "2030    City         221.8  36.8           smokes         Yes  \n",
              "2065    City         252.1  30.3  formerly smoked         Yes  \n",
              "2098    City         204.4  30.6           smokes         Yes  \n",
              "2099    City          85.5  40.2  formerly smoked         Yes  \n",
              "2125    City         222.4  25.5           smokes         Yes  \n",
              "2128    City         118.1  33.8  formerly smoked         Yes  \n",
              "2168    City         228.9  37.7  formerly smoked         Yes  \n",
              "2181    City          97.9  21.3  formerly smoked         Yes  \n",
              "2204    City         100.2  22.1           smokes         Yes  \n",
              "2210    City         236.7   NaN  formerly smoked         Yes  \n",
              "2275    City          96.3  25.7           smokes         Yes  \n",
              "2335    City          68.9  24.7           smokes         Yes  \n",
              "2596    City         224.7  32.5  formerly smoked         Yes  \n",
              "2621    City         131.1  24.3  formerly smoked         Yes  \n",
              "2662    City         186.2  31.2  formerly smoked         Yes  \n",
              "2853    City         197.2  33.3  formerly smoked         Yes  \n",
              "2897    City          88.7  34.7  formerly smoked         Yes  \n",
              "2913    City         200.2  34.5  formerly smoked         Yes  \n",
              "2931    City         106.2   NaN  formerly smoked         Yes  \n",
              "3267    City         211.7  43.6           smokes         Yes  \n",
              "3329    City          73.7  31.2           smokes         Yes  \n",
              "3349    City         198.8   NaN           smokes         Yes  \n",
              "3563    City         210.7  40.8           smokes         Yes  \n",
              "3641    City         193.2  37.5           smokes         Yes  \n",
              "3691    City         175.8  31.1  formerly smoked         Yes  \n",
              "3841    City          78.0  27.9  formerly smoked         Yes  \n",
              "3928    City         252.7  28.7           smokes         Yes  \n",
              "3966    City         139.7  30.4  formerly smoked         Yes  "
            ],
            "text/html": [
              "\n",
              "  <div id=\"df-d7180fc6-34da-48dc-9321-d48347f879e0\" class=\"colab-df-container\">\n",
              "    <div>\n",
              "<style scoped>\n",
              "    .dataframe tbody tr th:only-of-type {\n",
              "        vertical-align: middle;\n",
              "    }\n",
              "\n",
              "    .dataframe tbody tr th {\n",
              "        vertical-align: top;\n",
              "    }\n",
              "\n",
              "    .dataframe thead th {\n",
              "        text-align: right;\n",
              "    }\n",
              "</style>\n",
              "<table border=\"1\" class=\"dataframe\">\n",
              "  <thead>\n",
              "    <tr style=\"text-align: right;\">\n",
              "      <th></th>\n",
              "      <th>Gender</th>\n",
              "      <th>Age</th>\n",
              "      <th>HasTension</th>\n",
              "      <th>AnyHeartDisease</th>\n",
              "      <th>NeverMarried</th>\n",
              "      <th>Occupation</th>\n",
              "      <th>LivesIn</th>\n",
              "      <th>GlucoseLevel</th>\n",
              "      <th>BMI</th>\n",
              "      <th>SmokingStatus</th>\n",
              "      <th>HeartAttack</th>\n",
              "    </tr>\n",
              "  </thead>\n",
              "  <tbody>\n",
              "    <tr>\n",
              "      <th>274</th>\n",
              "      <td>Female</td>\n",
              "      <td>82.0</td>\n",
              "      <td>Yes</td>\n",
              "      <td>Yes</td>\n",
              "      <td>Yes</td>\n",
              "      <td>Govt_job</td>\n",
              "      <td>City</td>\n",
              "      <td>216.2</td>\n",
              "      <td>29.5</td>\n",
              "      <td>formerly smoked</td>\n",
              "      <td>Yes</td>\n",
              "    </tr>\n",
              "    <tr>\n",
              "      <th>288</th>\n",
              "      <td>Female</td>\n",
              "      <td>81.0</td>\n",
              "      <td>No</td>\n",
              "      <td>No</td>\n",
              "      <td>No</td>\n",
              "      <td>Govt_job</td>\n",
              "      <td>City</td>\n",
              "      <td>70.1</td>\n",
              "      <td>26.4</td>\n",
              "      <td>smokes</td>\n",
              "      <td>Yes</td>\n",
              "    </tr>\n",
              "    <tr>\n",
              "      <th>386</th>\n",
              "      <td>Male</td>\n",
              "      <td>71.0</td>\n",
              "      <td>No</td>\n",
              "      <td>No</td>\n",
              "      <td>Yes</td>\n",
              "      <td>Private</td>\n",
              "      <td>City</td>\n",
              "      <td>103.0</td>\n",
              "      <td>27.3</td>\n",
              "      <td>formerly smoked</td>\n",
              "      <td>Yes</td>\n",
              "    </tr>\n",
              "    <tr>\n",
              "      <th>435</th>\n",
              "      <td>Female</td>\n",
              "      <td>68.0</td>\n",
              "      <td>Yes</td>\n",
              "      <td>Yes</td>\n",
              "      <td>Yes</td>\n",
              "      <td>Private</td>\n",
              "      <td>City</td>\n",
              "      <td>247.5</td>\n",
              "      <td>39.5</td>\n",
              "      <td>formerly smoked</td>\n",
              "      <td>Yes</td>\n",
              "    </tr>\n",
              "    <tr>\n",
              "      <th>486</th>\n",
              "      <td>Female</td>\n",
              "      <td>63.0</td>\n",
              "      <td>No</td>\n",
              "      <td>No</td>\n",
              "      <td>Yes</td>\n",
              "      <td>Private</td>\n",
              "      <td>City</td>\n",
              "      <td>91.2</td>\n",
              "      <td>NaN</td>\n",
              "      <td>formerly smoked</td>\n",
              "      <td>Yes</td>\n",
              "    </tr>\n",
              "    <tr>\n",
              "      <th>505</th>\n",
              "      <td>Female</td>\n",
              "      <td>58.0</td>\n",
              "      <td>No</td>\n",
              "      <td>No</td>\n",
              "      <td>Yes</td>\n",
              "      <td>Private</td>\n",
              "      <td>City</td>\n",
              "      <td>108.0</td>\n",
              "      <td>38.2</td>\n",
              "      <td>formerly smoked</td>\n",
              "      <td>Yes</td>\n",
              "    </tr>\n",
              "    <tr>\n",
              "      <th>580</th>\n",
              "      <td>Male</td>\n",
              "      <td>82.0</td>\n",
              "      <td>No</td>\n",
              "      <td>No</td>\n",
              "      <td>Yes</td>\n",
              "      <td>Govt_job</td>\n",
              "      <td>City</td>\n",
              "      <td>201.9</td>\n",
              "      <td>27.2</td>\n",
              "      <td>formerly smoked</td>\n",
              "      <td>Yes</td>\n",
              "    </tr>\n",
              "    <tr>\n",
              "      <th>595</th>\n",
              "      <td>Male</td>\n",
              "      <td>78.0</td>\n",
              "      <td>Yes</td>\n",
              "      <td>No</td>\n",
              "      <td>Yes</td>\n",
              "      <td>Private</td>\n",
              "      <td>City</td>\n",
              "      <td>75.7</td>\n",
              "      <td>NaN</td>\n",
              "      <td>formerly smoked</td>\n",
              "      <td>Yes</td>\n",
              "    </tr>\n",
              "    <tr>\n",
              "      <th>632</th>\n",
              "      <td>Female</td>\n",
              "      <td>65.0</td>\n",
              "      <td>No</td>\n",
              "      <td>No</td>\n",
              "      <td>Yes</td>\n",
              "      <td>Private</td>\n",
              "      <td>City</td>\n",
              "      <td>205.9</td>\n",
              "      <td>47.6</td>\n",
              "      <td>formerly smoked</td>\n",
              "      <td>Yes</td>\n",
              "    </tr>\n",
              "    <tr>\n",
              "      <th>929</th>\n",
              "      <td>Male</td>\n",
              "      <td>78.0</td>\n",
              "      <td>Yes</td>\n",
              "      <td>No</td>\n",
              "      <td>Yes</td>\n",
              "      <td>Self-employed</td>\n",
              "      <td>City</td>\n",
              "      <td>92.5</td>\n",
              "      <td>NaN</td>\n",
              "      <td>formerly smoked</td>\n",
              "      <td>Yes</td>\n",
              "    </tr>\n",
              "    <tr>\n",
              "      <th>992</th>\n",
              "      <td>Male</td>\n",
              "      <td>59.0</td>\n",
              "      <td>No</td>\n",
              "      <td>No</td>\n",
              "      <td>Yes</td>\n",
              "      <td>Private</td>\n",
              "      <td>City</td>\n",
              "      <td>86.0</td>\n",
              "      <td>30.0</td>\n",
              "      <td>formerly smoked</td>\n",
              "      <td>Yes</td>\n",
              "    </tr>\n",
              "    <tr>\n",
              "      <th>1030</th>\n",
              "      <td>Male</td>\n",
              "      <td>60.0</td>\n",
              "      <td>No</td>\n",
              "      <td>Yes</td>\n",
              "      <td>Yes</td>\n",
              "      <td>Private</td>\n",
              "      <td>City</td>\n",
              "      <td>91.6</td>\n",
              "      <td>37.4</td>\n",
              "      <td>smokes</td>\n",
              "      <td>Yes</td>\n",
              "    </tr>\n",
              "    <tr>\n",
              "      <th>1273</th>\n",
              "      <td>Female</td>\n",
              "      <td>54.0</td>\n",
              "      <td>No</td>\n",
              "      <td>No</td>\n",
              "      <td>Yes</td>\n",
              "      <td>Private</td>\n",
              "      <td>City</td>\n",
              "      <td>102.1</td>\n",
              "      <td>26.8</td>\n",
              "      <td>smokes</td>\n",
              "      <td>Yes</td>\n",
              "    </tr>\n",
              "    <tr>\n",
              "      <th>1285</th>\n",
              "      <td>Female</td>\n",
              "      <td>76.0</td>\n",
              "      <td>No</td>\n",
              "      <td>No</td>\n",
              "      <td>Yes</td>\n",
              "      <td>Private</td>\n",
              "      <td>City</td>\n",
              "      <td>57.7</td>\n",
              "      <td>NaN</td>\n",
              "      <td>formerly smoked</td>\n",
              "      <td>Yes</td>\n",
              "    </tr>\n",
              "    <tr>\n",
              "      <th>1320</th>\n",
              "      <td>Female</td>\n",
              "      <td>56.0</td>\n",
              "      <td>No</td>\n",
              "      <td>No</td>\n",
              "      <td>Yes</td>\n",
              "      <td>Private</td>\n",
              "      <td>City</td>\n",
              "      <td>184.9</td>\n",
              "      <td>41.9</td>\n",
              "      <td>formerly smoked</td>\n",
              "      <td>Yes</td>\n",
              "    </tr>\n",
              "    <tr>\n",
              "      <th>1397</th>\n",
              "      <td>Female</td>\n",
              "      <td>49.0</td>\n",
              "      <td>No</td>\n",
              "      <td>No</td>\n",
              "      <td>Yes</td>\n",
              "      <td>Private</td>\n",
              "      <td>City</td>\n",
              "      <td>168.7</td>\n",
              "      <td>34.2</td>\n",
              "      <td>smokes</td>\n",
              "      <td>Yes</td>\n",
              "    </tr>\n",
              "    <tr>\n",
              "      <th>1426</th>\n",
              "      <td>Male</td>\n",
              "      <td>61.0</td>\n",
              "      <td>Yes</td>\n",
              "      <td>Yes</td>\n",
              "      <td>Yes</td>\n",
              "      <td>Private</td>\n",
              "      <td>City</td>\n",
              "      <td>112.5</td>\n",
              "      <td>35.6</td>\n",
              "      <td>smokes</td>\n",
              "      <td>Yes</td>\n",
              "    </tr>\n",
              "    <tr>\n",
              "      <th>1485</th>\n",
              "      <td>Male</td>\n",
              "      <td>68.0</td>\n",
              "      <td>No</td>\n",
              "      <td>No</td>\n",
              "      <td>Yes</td>\n",
              "      <td>Self-employed</td>\n",
              "      <td>City</td>\n",
              "      <td>79.9</td>\n",
              "      <td>26.2</td>\n",
              "      <td>smokes</td>\n",
              "      <td>Yes</td>\n",
              "    </tr>\n",
              "    <tr>\n",
              "      <th>1490</th>\n",
              "      <td>Male</td>\n",
              "      <td>51.0</td>\n",
              "      <td>Yes</td>\n",
              "      <td>No</td>\n",
              "      <td>Yes</td>\n",
              "      <td>Private</td>\n",
              "      <td>City</td>\n",
              "      <td>112.0</td>\n",
              "      <td>42.2</td>\n",
              "      <td>formerly smoked</td>\n",
              "      <td>Yes</td>\n",
              "    </tr>\n",
              "    <tr>\n",
              "      <th>1587</th>\n",
              "      <td>Male</td>\n",
              "      <td>65.0</td>\n",
              "      <td>No</td>\n",
              "      <td>No</td>\n",
              "      <td>Yes</td>\n",
              "      <td>Self-employed</td>\n",
              "      <td>City</td>\n",
              "      <td>71.4</td>\n",
              "      <td>NaN</td>\n",
              "      <td>formerly smoked</td>\n",
              "      <td>Yes</td>\n",
              "    </tr>\n",
              "    <tr>\n",
              "      <th>1672</th>\n",
              "      <td>Female</td>\n",
              "      <td>38.0</td>\n",
              "      <td>No</td>\n",
              "      <td>No</td>\n",
              "      <td>No</td>\n",
              "      <td>Self-employed</td>\n",
              "      <td>City</td>\n",
              "      <td>82.0</td>\n",
              "      <td>24.6</td>\n",
              "      <td>formerly smoked</td>\n",
              "      <td>Yes</td>\n",
              "    </tr>\n",
              "    <tr>\n",
              "      <th>1687</th>\n",
              "      <td>Female</td>\n",
              "      <td>77.0</td>\n",
              "      <td>Yes</td>\n",
              "      <td>No</td>\n",
              "      <td>Yes</td>\n",
              "      <td>Self-employed</td>\n",
              "      <td>City</td>\n",
              "      <td>198.8</td>\n",
              "      <td>28.2</td>\n",
              "      <td>formerly smoked</td>\n",
              "      <td>Yes</td>\n",
              "    </tr>\n",
              "    <tr>\n",
              "      <th>1727</th>\n",
              "      <td>Male</td>\n",
              "      <td>58.0</td>\n",
              "      <td>No</td>\n",
              "      <td>No</td>\n",
              "      <td>Yes</td>\n",
              "      <td>Private</td>\n",
              "      <td>City</td>\n",
              "      <td>80.8</td>\n",
              "      <td>NaN</td>\n",
              "      <td>smokes</td>\n",
              "      <td>Yes</td>\n",
              "    </tr>\n",
              "    <tr>\n",
              "      <th>1757</th>\n",
              "      <td>Male</td>\n",
              "      <td>82.0</td>\n",
              "      <td>No</td>\n",
              "      <td>Yes</td>\n",
              "      <td>Yes</td>\n",
              "      <td>Private</td>\n",
              "      <td>City</td>\n",
              "      <td>144.7</td>\n",
              "      <td>27.0</td>\n",
              "      <td>smokes</td>\n",
              "      <td>Yes</td>\n",
              "    </tr>\n",
              "    <tr>\n",
              "      <th>2030</th>\n",
              "      <td>Female</td>\n",
              "      <td>57.0</td>\n",
              "      <td>No</td>\n",
              "      <td>No</td>\n",
              "      <td>Yes</td>\n",
              "      <td>Private</td>\n",
              "      <td>City</td>\n",
              "      <td>221.8</td>\n",
              "      <td>36.8</td>\n",
              "      <td>smokes</td>\n",
              "      <td>Yes</td>\n",
              "    </tr>\n",
              "    <tr>\n",
              "      <th>2065</th>\n",
              "      <td>Male</td>\n",
              "      <td>80.0</td>\n",
              "      <td>No</td>\n",
              "      <td>Yes</td>\n",
              "      <td>Yes</td>\n",
              "      <td>Self-employed</td>\n",
              "      <td>City</td>\n",
              "      <td>252.1</td>\n",
              "      <td>30.3</td>\n",
              "      <td>formerly smoked</td>\n",
              "      <td>Yes</td>\n",
              "    </tr>\n",
              "    <tr>\n",
              "      <th>2098</th>\n",
              "      <td>Female</td>\n",
              "      <td>79.0</td>\n",
              "      <td>No</td>\n",
              "      <td>Yes</td>\n",
              "      <td>No</td>\n",
              "      <td>Private</td>\n",
              "      <td>City</td>\n",
              "      <td>204.4</td>\n",
              "      <td>30.6</td>\n",
              "      <td>smokes</td>\n",
              "      <td>Yes</td>\n",
              "    </tr>\n",
              "    <tr>\n",
              "      <th>2099</th>\n",
              "      <td>Male</td>\n",
              "      <td>47.0</td>\n",
              "      <td>No</td>\n",
              "      <td>No</td>\n",
              "      <td>Yes</td>\n",
              "      <td>Private</td>\n",
              "      <td>City</td>\n",
              "      <td>85.5</td>\n",
              "      <td>40.2</td>\n",
              "      <td>formerly smoked</td>\n",
              "      <td>Yes</td>\n",
              "    </tr>\n",
              "    <tr>\n",
              "      <th>2125</th>\n",
              "      <td>Male</td>\n",
              "      <td>75.0</td>\n",
              "      <td>Yes</td>\n",
              "      <td>No</td>\n",
              "      <td>Yes</td>\n",
              "      <td>Private</td>\n",
              "      <td>City</td>\n",
              "      <td>222.4</td>\n",
              "      <td>25.5</td>\n",
              "      <td>smokes</td>\n",
              "      <td>Yes</td>\n",
              "    </tr>\n",
              "    <tr>\n",
              "      <th>2128</th>\n",
              "      <td>Male</td>\n",
              "      <td>63.0</td>\n",
              "      <td>No</td>\n",
              "      <td>Yes</td>\n",
              "      <td>Yes</td>\n",
              "      <td>Self-employed</td>\n",
              "      <td>City</td>\n",
              "      <td>118.1</td>\n",
              "      <td>33.8</td>\n",
              "      <td>formerly smoked</td>\n",
              "      <td>Yes</td>\n",
              "    </tr>\n",
              "    <tr>\n",
              "      <th>2168</th>\n",
              "      <td>Male</td>\n",
              "      <td>67.0</td>\n",
              "      <td>No</td>\n",
              "      <td>Yes</td>\n",
              "      <td>Yes</td>\n",
              "      <td>Private</td>\n",
              "      <td>City</td>\n",
              "      <td>228.9</td>\n",
              "      <td>37.7</td>\n",
              "      <td>formerly smoked</td>\n",
              "      <td>Yes</td>\n",
              "    </tr>\n",
              "    <tr>\n",
              "      <th>2181</th>\n",
              "      <td>Female</td>\n",
              "      <td>79.0</td>\n",
              "      <td>Yes</td>\n",
              "      <td>No</td>\n",
              "      <td>No</td>\n",
              "      <td>Govt_job</td>\n",
              "      <td>City</td>\n",
              "      <td>97.9</td>\n",
              "      <td>21.3</td>\n",
              "      <td>formerly smoked</td>\n",
              "      <td>Yes</td>\n",
              "    </tr>\n",
              "    <tr>\n",
              "      <th>2204</th>\n",
              "      <td>Female</td>\n",
              "      <td>79.0</td>\n",
              "      <td>No</td>\n",
              "      <td>No</td>\n",
              "      <td>Yes</td>\n",
              "      <td>Private</td>\n",
              "      <td>City</td>\n",
              "      <td>100.2</td>\n",
              "      <td>22.1</td>\n",
              "      <td>smokes</td>\n",
              "      <td>Yes</td>\n",
              "    </tr>\n",
              "    <tr>\n",
              "      <th>2210</th>\n",
              "      <td>Male</td>\n",
              "      <td>78.0</td>\n",
              "      <td>No</td>\n",
              "      <td>No</td>\n",
              "      <td>Yes</td>\n",
              "      <td>Private</td>\n",
              "      <td>City</td>\n",
              "      <td>236.7</td>\n",
              "      <td>NaN</td>\n",
              "      <td>formerly smoked</td>\n",
              "      <td>Yes</td>\n",
              "    </tr>\n",
              "    <tr>\n",
              "      <th>2275</th>\n",
              "      <td>Female</td>\n",
              "      <td>60.0</td>\n",
              "      <td>No</td>\n",
              "      <td>No</td>\n",
              "      <td>Yes</td>\n",
              "      <td>Private</td>\n",
              "      <td>City</td>\n",
              "      <td>96.3</td>\n",
              "      <td>25.7</td>\n",
              "      <td>smokes</td>\n",
              "      <td>Yes</td>\n",
              "    </tr>\n",
              "    <tr>\n",
              "      <th>2335</th>\n",
              "      <td>Male</td>\n",
              "      <td>80.0</td>\n",
              "      <td>No</td>\n",
              "      <td>Yes</td>\n",
              "      <td>Yes</td>\n",
              "      <td>Private</td>\n",
              "      <td>City</td>\n",
              "      <td>68.9</td>\n",
              "      <td>24.7</td>\n",
              "      <td>smokes</td>\n",
              "      <td>Yes</td>\n",
              "    </tr>\n",
              "    <tr>\n",
              "      <th>2596</th>\n",
              "      <td>Male</td>\n",
              "      <td>68.0</td>\n",
              "      <td>No</td>\n",
              "      <td>Yes</td>\n",
              "      <td>Yes</td>\n",
              "      <td>Private</td>\n",
              "      <td>City</td>\n",
              "      <td>224.7</td>\n",
              "      <td>32.5</td>\n",
              "      <td>formerly smoked</td>\n",
              "      <td>Yes</td>\n",
              "    </tr>\n",
              "    <tr>\n",
              "      <th>2621</th>\n",
              "      <td>Male</td>\n",
              "      <td>78.0</td>\n",
              "      <td>No</td>\n",
              "      <td>No</td>\n",
              "      <td>Yes</td>\n",
              "      <td>Self-employed</td>\n",
              "      <td>City</td>\n",
              "      <td>131.1</td>\n",
              "      <td>24.3</td>\n",
              "      <td>formerly smoked</td>\n",
              "      <td>Yes</td>\n",
              "    </tr>\n",
              "    <tr>\n",
              "      <th>2662</th>\n",
              "      <td>Male</td>\n",
              "      <td>81.0</td>\n",
              "      <td>No</td>\n",
              "      <td>No</td>\n",
              "      <td>Yes</td>\n",
              "      <td>Private</td>\n",
              "      <td>City</td>\n",
              "      <td>186.2</td>\n",
              "      <td>31.2</td>\n",
              "      <td>formerly smoked</td>\n",
              "      <td>Yes</td>\n",
              "    </tr>\n",
              "    <tr>\n",
              "      <th>2853</th>\n",
              "      <td>Female</td>\n",
              "      <td>71.0</td>\n",
              "      <td>No</td>\n",
              "      <td>No</td>\n",
              "      <td>Yes</td>\n",
              "      <td>Self-employed</td>\n",
              "      <td>City</td>\n",
              "      <td>197.2</td>\n",
              "      <td>33.3</td>\n",
              "      <td>formerly smoked</td>\n",
              "      <td>Yes</td>\n",
              "    </tr>\n",
              "    <tr>\n",
              "      <th>2897</th>\n",
              "      <td>Female</td>\n",
              "      <td>70.0</td>\n",
              "      <td>Yes</td>\n",
              "      <td>No</td>\n",
              "      <td>Yes</td>\n",
              "      <td>Self-employed</td>\n",
              "      <td>City</td>\n",
              "      <td>88.7</td>\n",
              "      <td>34.7</td>\n",
              "      <td>formerly smoked</td>\n",
              "      <td>Yes</td>\n",
              "    </tr>\n",
              "    <tr>\n",
              "      <th>2913</th>\n",
              "      <td>Male</td>\n",
              "      <td>59.0</td>\n",
              "      <td>No</td>\n",
              "      <td>No</td>\n",
              "      <td>Yes</td>\n",
              "      <td>Private</td>\n",
              "      <td>City</td>\n",
              "      <td>200.2</td>\n",
              "      <td>34.5</td>\n",
              "      <td>formerly smoked</td>\n",
              "      <td>Yes</td>\n",
              "    </tr>\n",
              "    <tr>\n",
              "      <th>2931</th>\n",
              "      <td>Female</td>\n",
              "      <td>76.0</td>\n",
              "      <td>No</td>\n",
              "      <td>No</td>\n",
              "      <td>Yes</td>\n",
              "      <td>Self-employed</td>\n",
              "      <td>City</td>\n",
              "      <td>106.2</td>\n",
              "      <td>NaN</td>\n",
              "      <td>formerly smoked</td>\n",
              "      <td>Yes</td>\n",
              "    </tr>\n",
              "    <tr>\n",
              "      <th>3267</th>\n",
              "      <td>Male</td>\n",
              "      <td>57.0</td>\n",
              "      <td>Yes</td>\n",
              "      <td>No</td>\n",
              "      <td>Yes</td>\n",
              "      <td>Private</td>\n",
              "      <td>City</td>\n",
              "      <td>211.7</td>\n",
              "      <td>43.6</td>\n",
              "      <td>smokes</td>\n",
              "      <td>Yes</td>\n",
              "    </tr>\n",
              "    <tr>\n",
              "      <th>3329</th>\n",
              "      <td>Male</td>\n",
              "      <td>74.0</td>\n",
              "      <td>No</td>\n",
              "      <td>No</td>\n",
              "      <td>Yes</td>\n",
              "      <td>Private</td>\n",
              "      <td>City</td>\n",
              "      <td>73.7</td>\n",
              "      <td>31.2</td>\n",
              "      <td>smokes</td>\n",
              "      <td>Yes</td>\n",
              "    </tr>\n",
              "    <tr>\n",
              "      <th>3349</th>\n",
              "      <td>Female</td>\n",
              "      <td>76.0</td>\n",
              "      <td>Yes</td>\n",
              "      <td>Yes</td>\n",
              "      <td>Yes</td>\n",
              "      <td>Self-employed</td>\n",
              "      <td>City</td>\n",
              "      <td>198.8</td>\n",
              "      <td>NaN</td>\n",
              "      <td>smokes</td>\n",
              "      <td>Yes</td>\n",
              "    </tr>\n",
              "    <tr>\n",
              "      <th>3563</th>\n",
              "      <td>Female</td>\n",
              "      <td>55.0</td>\n",
              "      <td>Yes</td>\n",
              "      <td>Yes</td>\n",
              "      <td>Yes</td>\n",
              "      <td>Private</td>\n",
              "      <td>City</td>\n",
              "      <td>210.7</td>\n",
              "      <td>40.8</td>\n",
              "      <td>smokes</td>\n",
              "      <td>Yes</td>\n",
              "    </tr>\n",
              "    <tr>\n",
              "      <th>3641</th>\n",
              "      <td>Male</td>\n",
              "      <td>64.0</td>\n",
              "      <td>No</td>\n",
              "      <td>Yes</td>\n",
              "      <td>Yes</td>\n",
              "      <td>Private</td>\n",
              "      <td>City</td>\n",
              "      <td>193.2</td>\n",
              "      <td>37.5</td>\n",
              "      <td>smokes</td>\n",
              "      <td>Yes</td>\n",
              "    </tr>\n",
              "    <tr>\n",
              "      <th>3691</th>\n",
              "      <td>Male</td>\n",
              "      <td>80.0</td>\n",
              "      <td>Yes</td>\n",
              "      <td>Yes</td>\n",
              "      <td>Yes</td>\n",
              "      <td>Private</td>\n",
              "      <td>City</td>\n",
              "      <td>175.8</td>\n",
              "      <td>31.1</td>\n",
              "      <td>formerly smoked</td>\n",
              "      <td>Yes</td>\n",
              "    </tr>\n",
              "    <tr>\n",
              "      <th>3841</th>\n",
              "      <td>Male</td>\n",
              "      <td>57.0</td>\n",
              "      <td>Yes</td>\n",
              "      <td>No</td>\n",
              "      <td>Yes</td>\n",
              "      <td>Govt_job</td>\n",
              "      <td>City</td>\n",
              "      <td>78.0</td>\n",
              "      <td>27.9</td>\n",
              "      <td>formerly smoked</td>\n",
              "      <td>Yes</td>\n",
              "    </tr>\n",
              "    <tr>\n",
              "      <th>3928</th>\n",
              "      <td>Male</td>\n",
              "      <td>81.0</td>\n",
              "      <td>Yes</td>\n",
              "      <td>Yes</td>\n",
              "      <td>Yes</td>\n",
              "      <td>Private</td>\n",
              "      <td>City</td>\n",
              "      <td>252.7</td>\n",
              "      <td>28.7</td>\n",
              "      <td>smokes</td>\n",
              "      <td>Yes</td>\n",
              "    </tr>\n",
              "    <tr>\n",
              "      <th>3966</th>\n",
              "      <td>Male</td>\n",
              "      <td>76.0</td>\n",
              "      <td>No</td>\n",
              "      <td>No</td>\n",
              "      <td>Yes</td>\n",
              "      <td>Private</td>\n",
              "      <td>City</td>\n",
              "      <td>139.7</td>\n",
              "      <td>30.4</td>\n",
              "      <td>formerly smoked</td>\n",
              "      <td>Yes</td>\n",
              "    </tr>\n",
              "  </tbody>\n",
              "</table>\n",
              "</div>\n",
              "    <div class=\"colab-df-buttons\">\n",
              "\n",
              "  <div class=\"colab-df-container\">\n",
              "    <button class=\"colab-df-convert\" onclick=\"convertToInteractive('df-d7180fc6-34da-48dc-9321-d48347f879e0')\"\n",
              "            title=\"Convert this dataframe to an interactive table.\"\n",
              "            style=\"display:none;\">\n",
              "\n",
              "  <svg xmlns=\"http://www.w3.org/2000/svg\" height=\"24px\" viewBox=\"0 -960 960 960\">\n",
              "    <path d=\"M120-120v-720h720v720H120Zm60-500h600v-160H180v160Zm220 220h160v-160H400v160Zm0 220h160v-160H400v160ZM180-400h160v-160H180v160Zm440 0h160v-160H620v160ZM180-180h160v-160H180v160Zm440 0h160v-160H620v160Z\"/>\n",
              "  </svg>\n",
              "    </button>\n",
              "\n",
              "  <style>\n",
              "    .colab-df-container {\n",
              "      display:flex;\n",
              "      gap: 12px;\n",
              "    }\n",
              "\n",
              "    .colab-df-convert {\n",
              "      background-color: #E8F0FE;\n",
              "      border: none;\n",
              "      border-radius: 50%;\n",
              "      cursor: pointer;\n",
              "      display: none;\n",
              "      fill: #1967D2;\n",
              "      height: 32px;\n",
              "      padding: 0 0 0 0;\n",
              "      width: 32px;\n",
              "    }\n",
              "\n",
              "    .colab-df-convert:hover {\n",
              "      background-color: #E2EBFA;\n",
              "      box-shadow: 0px 1px 2px rgba(60, 64, 67, 0.3), 0px 1px 3px 1px rgba(60, 64, 67, 0.15);\n",
              "      fill: #174EA6;\n",
              "    }\n",
              "\n",
              "    .colab-df-buttons div {\n",
              "      margin-bottom: 4px;\n",
              "    }\n",
              "\n",
              "    [theme=dark] .colab-df-convert {\n",
              "      background-color: #3B4455;\n",
              "      fill: #D2E3FC;\n",
              "    }\n",
              "\n",
              "    [theme=dark] .colab-df-convert:hover {\n",
              "      background-color: #434B5C;\n",
              "      box-shadow: 0px 1px 3px 1px rgba(0, 0, 0, 0.15);\n",
              "      filter: drop-shadow(0px 1px 2px rgba(0, 0, 0, 0.3));\n",
              "      fill: #FFFFFF;\n",
              "    }\n",
              "  </style>\n",
              "\n",
              "    <script>\n",
              "      const buttonEl =\n",
              "        document.querySelector('#df-d7180fc6-34da-48dc-9321-d48347f879e0 button.colab-df-convert');\n",
              "      buttonEl.style.display =\n",
              "        google.colab.kernel.accessAllowed ? 'block' : 'none';\n",
              "\n",
              "      async function convertToInteractive(key) {\n",
              "        const element = document.querySelector('#df-d7180fc6-34da-48dc-9321-d48347f879e0');\n",
              "        const dataTable =\n",
              "          await google.colab.kernel.invokeFunction('convertToInteractive',\n",
              "                                                    [key], {});\n",
              "        if (!dataTable) return;\n",
              "\n",
              "        const docLinkHtml = 'Like what you see? Visit the ' +\n",
              "          '<a target=\"_blank\" href=https://colab.research.google.com/notebooks/data_table.ipynb>data table notebook</a>'\n",
              "          + ' to learn more about interactive tables.';\n",
              "        element.innerHTML = '';\n",
              "        dataTable['output_type'] = 'display_data';\n",
              "        await google.colab.output.renderOutput(dataTable, element);\n",
              "        const docLink = document.createElement('div');\n",
              "        docLink.innerHTML = docLinkHtml;\n",
              "        element.appendChild(docLink);\n",
              "      }\n",
              "    </script>\n",
              "  </div>\n",
              "\n",
              "\n",
              "<div id=\"df-98426ecd-02e5-4c84-8831-e306f7074ed9\">\n",
              "  <button class=\"colab-df-quickchart\" onclick=\"quickchart('df-98426ecd-02e5-4c84-8831-e306f7074ed9')\"\n",
              "            title=\"Suggest charts\"\n",
              "            style=\"display:none;\">\n",
              "\n",
              "<svg xmlns=\"http://www.w3.org/2000/svg\" height=\"24px\"viewBox=\"0 0 24 24\"\n",
              "     width=\"24px\">\n",
              "    <g>\n",
              "        <path d=\"M19 3H5c-1.1 0-2 .9-2 2v14c0 1.1.9 2 2 2h14c1.1 0 2-.9 2-2V5c0-1.1-.9-2-2-2zM9 17H7v-7h2v7zm4 0h-2V7h2v10zm4 0h-2v-4h2v4z\"/>\n",
              "    </g>\n",
              "</svg>\n",
              "  </button>\n",
              "\n",
              "<style>\n",
              "  .colab-df-quickchart {\n",
              "      --bg-color: #E8F0FE;\n",
              "      --fill-color: #1967D2;\n",
              "      --hover-bg-color: #E2EBFA;\n",
              "      --hover-fill-color: #174EA6;\n",
              "      --disabled-fill-color: #AAA;\n",
              "      --disabled-bg-color: #DDD;\n",
              "  }\n",
              "\n",
              "  [theme=dark] .colab-df-quickchart {\n",
              "      --bg-color: #3B4455;\n",
              "      --fill-color: #D2E3FC;\n",
              "      --hover-bg-color: #434B5C;\n",
              "      --hover-fill-color: #FFFFFF;\n",
              "      --disabled-bg-color: #3B4455;\n",
              "      --disabled-fill-color: #666;\n",
              "  }\n",
              "\n",
              "  .colab-df-quickchart {\n",
              "    background-color: var(--bg-color);\n",
              "    border: none;\n",
              "    border-radius: 50%;\n",
              "    cursor: pointer;\n",
              "    display: none;\n",
              "    fill: var(--fill-color);\n",
              "    height: 32px;\n",
              "    padding: 0;\n",
              "    width: 32px;\n",
              "  }\n",
              "\n",
              "  .colab-df-quickchart:hover {\n",
              "    background-color: var(--hover-bg-color);\n",
              "    box-shadow: 0 1px 2px rgba(60, 64, 67, 0.3), 0 1px 3px 1px rgba(60, 64, 67, 0.15);\n",
              "    fill: var(--button-hover-fill-color);\n",
              "  }\n",
              "\n",
              "  .colab-df-quickchart-complete:disabled,\n",
              "  .colab-df-quickchart-complete:disabled:hover {\n",
              "    background-color: var(--disabled-bg-color);\n",
              "    fill: var(--disabled-fill-color);\n",
              "    box-shadow: none;\n",
              "  }\n",
              "\n",
              "  .colab-df-spinner {\n",
              "    border: 2px solid var(--fill-color);\n",
              "    border-color: transparent;\n",
              "    border-bottom-color: var(--fill-color);\n",
              "    animation:\n",
              "      spin 1s steps(1) infinite;\n",
              "  }\n",
              "\n",
              "  @keyframes spin {\n",
              "    0% {\n",
              "      border-color: transparent;\n",
              "      border-bottom-color: var(--fill-color);\n",
              "      border-left-color: var(--fill-color);\n",
              "    }\n",
              "    20% {\n",
              "      border-color: transparent;\n",
              "      border-left-color: var(--fill-color);\n",
              "      border-top-color: var(--fill-color);\n",
              "    }\n",
              "    30% {\n",
              "      border-color: transparent;\n",
              "      border-left-color: var(--fill-color);\n",
              "      border-top-color: var(--fill-color);\n",
              "      border-right-color: var(--fill-color);\n",
              "    }\n",
              "    40% {\n",
              "      border-color: transparent;\n",
              "      border-right-color: var(--fill-color);\n",
              "      border-top-color: var(--fill-color);\n",
              "    }\n",
              "    60% {\n",
              "      border-color: transparent;\n",
              "      border-right-color: var(--fill-color);\n",
              "    }\n",
              "    80% {\n",
              "      border-color: transparent;\n",
              "      border-right-color: var(--fill-color);\n",
              "      border-bottom-color: var(--fill-color);\n",
              "    }\n",
              "    90% {\n",
              "      border-color: transparent;\n",
              "      border-bottom-color: var(--fill-color);\n",
              "    }\n",
              "  }\n",
              "</style>\n",
              "\n",
              "  <script>\n",
              "    async function quickchart(key) {\n",
              "      const quickchartButtonEl =\n",
              "        document.querySelector('#' + key + ' button');\n",
              "      quickchartButtonEl.disabled = true;  // To prevent multiple clicks.\n",
              "      quickchartButtonEl.classList.add('colab-df-spinner');\n",
              "      try {\n",
              "        const charts = await google.colab.kernel.invokeFunction(\n",
              "            'suggestCharts', [key], {});\n",
              "      } catch (error) {\n",
              "        console.error('Error during call to suggestCharts:', error);\n",
              "      }\n",
              "      quickchartButtonEl.classList.remove('colab-df-spinner');\n",
              "      quickchartButtonEl.classList.add('colab-df-quickchart-complete');\n",
              "    }\n",
              "    (() => {\n",
              "      let quickchartButtonEl =\n",
              "        document.querySelector('#df-98426ecd-02e5-4c84-8831-e306f7074ed9 button');\n",
              "      quickchartButtonEl.style.display =\n",
              "        google.colab.kernel.accessAllowed ? 'block' : 'none';\n",
              "    })();\n",
              "  </script>\n",
              "</div>\n",
              "    </div>\n",
              "  </div>\n"
            ],
            "application/vnd.google.colaboratory.intrinsic+json": {
              "type": "dataframe",
              "summary": "{\n  \"name\": \"data\",\n  \"rows\": 52,\n  \"fields\": [\n    {\n      \"column\": \"Gender\",\n      \"properties\": {\n        \"dtype\": \"category\",\n        \"num_unique_values\": 2,\n        \"samples\": [\n          \"Male\",\n          \"Female\"\n        ],\n        \"semantic_type\": \"\",\n        \"description\": \"\"\n      }\n    },\n    {\n      \"column\": \"Age\",\n      \"properties\": {\n        \"dtype\": \"number\",\n        \"std\": 11.042407627604497,\n        \"min\": 38.0,\n        \"max\": 82.0,\n        \"num_unique_values\": 28,\n        \"samples\": [\n          60.0,\n          74.0\n        ],\n        \"semantic_type\": \"\",\n        \"description\": \"\"\n      }\n    },\n    {\n      \"column\": \"HasTension\",\n      \"properties\": {\n        \"dtype\": \"category\",\n        \"num_unique_values\": 2,\n        \"samples\": [\n          \"No\",\n          \"Yes\"\n        ],\n        \"semantic_type\": \"\",\n        \"description\": \"\"\n      }\n    },\n    {\n      \"column\": \"AnyHeartDisease\",\n      \"properties\": {\n        \"dtype\": \"category\",\n        \"num_unique_values\": 2,\n        \"samples\": [\n          \"No\",\n          \"Yes\"\n        ],\n        \"semantic_type\": \"\",\n        \"description\": \"\"\n      }\n    },\n    {\n      \"column\": \"NeverMarried\",\n      \"properties\": {\n        \"dtype\": \"category\",\n        \"num_unique_values\": 2,\n        \"samples\": [\n          \"No\",\n          \"Yes\"\n        ],\n        \"semantic_type\": \"\",\n        \"description\": \"\"\n      }\n    },\n    {\n      \"column\": \"Occupation\",\n      \"properties\": {\n        \"dtype\": \"category\",\n        \"num_unique_values\": 3,\n        \"samples\": [\n          \"Govt_job\",\n          \"Private\"\n        ],\n        \"semantic_type\": \"\",\n        \"description\": \"\"\n      }\n    },\n    {\n      \"column\": \"LivesIn\",\n      \"properties\": {\n        \"dtype\": \"category\",\n        \"num_unique_values\": 1,\n        \"samples\": [\n          \"City\"\n        ],\n        \"semantic_type\": \"\",\n        \"description\": \"\"\n      }\n    },\n    {\n      \"column\": \"GlucoseLevel\",\n      \"properties\": {\n        \"dtype\": \"number\",\n        \"std\": 62.02765825328345,\n        \"min\": 57.7,\n        \"max\": 252.7,\n        \"num_unique_values\": 51,\n        \"samples\": [\n          211.7\n        ],\n        \"semantic_type\": \"\",\n        \"description\": \"\"\n      }\n    },\n    {\n      \"column\": \"BMI\",\n      \"properties\": {\n        \"dtype\": \"number\",\n        \"std\": 6.2796530224168485,\n        \"min\": 21.3,\n        \"max\": 47.6,\n        \"num_unique_values\": 42,\n        \"samples\": [\n          21.3\n        ],\n        \"semantic_type\": \"\",\n        \"description\": \"\"\n      }\n    },\n    {\n      \"column\": \"SmokingStatus\",\n      \"properties\": {\n        \"dtype\": \"category\",\n        \"num_unique_values\": 2,\n        \"samples\": [\n          \"smokes\"\n        ],\n        \"semantic_type\": \"\",\n        \"description\": \"\"\n      }\n    },\n    {\n      \"column\": \"HeartAttack\",\n      \"properties\": {\n        \"dtype\": \"category\",\n        \"num_unique_values\": 1,\n        \"samples\": [\n          \"Yes\"\n        ],\n        \"semantic_type\": \"\",\n        \"description\": \"\"\n      }\n    }\n  ]\n}"
            }
          },
          "metadata": {},
          "execution_count": 65
        }
      ],
      "source": [
        "data.query('LivesIn ==\"City\" and HeartAttack==\"Yes\" and (SmokingStatus==\"smokes\" or SmokingStatus==\"formerly smoked\")')"
      ]
    },
    {
      "cell_type": "markdown",
      "metadata": {
        "id": "Z2iDJXL4Iqj-"
      },
      "source": [
        "###Q.5 [MCQ][Marks 4] Which of the following categories have highest frequency? Ignore rows with missing values.\n",
        "\n",
        "A) female patients without tension, without any heart disease and never married\n",
        "\n",
        "B) female patients without tension, without any heart disease and either currently  married or married before\n",
        "\n",
        "C) male patients without tension, without any heart disease and never married\n",
        "\n",
        "D) male patients with tension, with a heart disease and never married\n",
        "\n",
        "E) There is a tie between 2 or more options.\n",
        "\n",
        "Answer:\n",
        "\n",
        "V1: A\n",
        "\n",
        "V2: A\n",
        "\n",
        "V3: A\n"
      ]
    },
    {
      "cell_type": "code",
      "source": [
        "no_miss = (data\n",
        "           .dropna()\n",
        "           .query(\"Gender!= 'Unknown' and Age>0 and GlucoseLevel >0\")\n",
        "           .query(\"SmokingStatus!= 'Unknown' and LivesIn!= 'Unknown'\"))\n",
        "\n",
        "(no_miss\n",
        " .groupby(['Gender', 'HasTension',\n",
        "           'AnyHeartDisease',\n",
        "           'NeverMarried'], as_index =False)['Age']\n",
        " .count()\n",
        " .rename(columns={'Age':'PatientCount'})\n",
        " .sort_values(by=['PatientCount'], ascending=[False]))"
      ],
      "metadata": {
        "colab": {
          "base_uri": "https://localhost:8080/",
          "height": 551
        },
        "id": "uU7JeUHt516g",
        "outputId": "258b0015-9af9-4d13-dbed-b8770344f311"
      },
      "execution_count": null,
      "outputs": [
        {
          "output_type": "execute_result",
          "data": {
            "text/plain": [
              "    Gender HasTension AnyHeartDisease NeverMarried  PatientCount\n",
              "1   Female         No              No          Yes          1017\n",
              "9     Male         No              No          Yes           596\n",
              "0   Female         No              No           No           374\n",
              "8     Male         No              No           No           239\n",
              "5   Female        Yes              No          Yes           148\n",
              "13    Male        Yes              No          Yes           106\n",
              "11    Male         No             Yes          Yes            64\n",
              "3   Female         No             Yes          Yes            42\n",
              "15    Male        Yes             Yes          Yes            21\n",
              "4   Female        Yes              No           No            20\n",
              "7   Female        Yes             Yes          Yes            13\n",
              "12    Male        Yes              No           No             9\n",
              "2   Female         No             Yes           No             7\n",
              "10    Male         No             Yes           No             4\n",
              "6   Female        Yes             Yes           No             2\n",
              "14    Male        Yes             Yes           No             1"
            ],
            "text/html": [
              "\n",
              "  <div id=\"df-2f3f0096-9e9d-452e-a604-36f2c17e2ef7\" class=\"colab-df-container\">\n",
              "    <div>\n",
              "<style scoped>\n",
              "    .dataframe tbody tr th:only-of-type {\n",
              "        vertical-align: middle;\n",
              "    }\n",
              "\n",
              "    .dataframe tbody tr th {\n",
              "        vertical-align: top;\n",
              "    }\n",
              "\n",
              "    .dataframe thead th {\n",
              "        text-align: right;\n",
              "    }\n",
              "</style>\n",
              "<table border=\"1\" class=\"dataframe\">\n",
              "  <thead>\n",
              "    <tr style=\"text-align: right;\">\n",
              "      <th></th>\n",
              "      <th>Gender</th>\n",
              "      <th>HasTension</th>\n",
              "      <th>AnyHeartDisease</th>\n",
              "      <th>NeverMarried</th>\n",
              "      <th>PatientCount</th>\n",
              "    </tr>\n",
              "  </thead>\n",
              "  <tbody>\n",
              "    <tr>\n",
              "      <th>1</th>\n",
              "      <td>Female</td>\n",
              "      <td>No</td>\n",
              "      <td>No</td>\n",
              "      <td>Yes</td>\n",
              "      <td>1017</td>\n",
              "    </tr>\n",
              "    <tr>\n",
              "      <th>9</th>\n",
              "      <td>Male</td>\n",
              "      <td>No</td>\n",
              "      <td>No</td>\n",
              "      <td>Yes</td>\n",
              "      <td>596</td>\n",
              "    </tr>\n",
              "    <tr>\n",
              "      <th>0</th>\n",
              "      <td>Female</td>\n",
              "      <td>No</td>\n",
              "      <td>No</td>\n",
              "      <td>No</td>\n",
              "      <td>374</td>\n",
              "    </tr>\n",
              "    <tr>\n",
              "      <th>8</th>\n",
              "      <td>Male</td>\n",
              "      <td>No</td>\n",
              "      <td>No</td>\n",
              "      <td>No</td>\n",
              "      <td>239</td>\n",
              "    </tr>\n",
              "    <tr>\n",
              "      <th>5</th>\n",
              "      <td>Female</td>\n",
              "      <td>Yes</td>\n",
              "      <td>No</td>\n",
              "      <td>Yes</td>\n",
              "      <td>148</td>\n",
              "    </tr>\n",
              "    <tr>\n",
              "      <th>13</th>\n",
              "      <td>Male</td>\n",
              "      <td>Yes</td>\n",
              "      <td>No</td>\n",
              "      <td>Yes</td>\n",
              "      <td>106</td>\n",
              "    </tr>\n",
              "    <tr>\n",
              "      <th>11</th>\n",
              "      <td>Male</td>\n",
              "      <td>No</td>\n",
              "      <td>Yes</td>\n",
              "      <td>Yes</td>\n",
              "      <td>64</td>\n",
              "    </tr>\n",
              "    <tr>\n",
              "      <th>3</th>\n",
              "      <td>Female</td>\n",
              "      <td>No</td>\n",
              "      <td>Yes</td>\n",
              "      <td>Yes</td>\n",
              "      <td>42</td>\n",
              "    </tr>\n",
              "    <tr>\n",
              "      <th>15</th>\n",
              "      <td>Male</td>\n",
              "      <td>Yes</td>\n",
              "      <td>Yes</td>\n",
              "      <td>Yes</td>\n",
              "      <td>21</td>\n",
              "    </tr>\n",
              "    <tr>\n",
              "      <th>4</th>\n",
              "      <td>Female</td>\n",
              "      <td>Yes</td>\n",
              "      <td>No</td>\n",
              "      <td>No</td>\n",
              "      <td>20</td>\n",
              "    </tr>\n",
              "    <tr>\n",
              "      <th>7</th>\n",
              "      <td>Female</td>\n",
              "      <td>Yes</td>\n",
              "      <td>Yes</td>\n",
              "      <td>Yes</td>\n",
              "      <td>13</td>\n",
              "    </tr>\n",
              "    <tr>\n",
              "      <th>12</th>\n",
              "      <td>Male</td>\n",
              "      <td>Yes</td>\n",
              "      <td>No</td>\n",
              "      <td>No</td>\n",
              "      <td>9</td>\n",
              "    </tr>\n",
              "    <tr>\n",
              "      <th>2</th>\n",
              "      <td>Female</td>\n",
              "      <td>No</td>\n",
              "      <td>Yes</td>\n",
              "      <td>No</td>\n",
              "      <td>7</td>\n",
              "    </tr>\n",
              "    <tr>\n",
              "      <th>10</th>\n",
              "      <td>Male</td>\n",
              "      <td>No</td>\n",
              "      <td>Yes</td>\n",
              "      <td>No</td>\n",
              "      <td>4</td>\n",
              "    </tr>\n",
              "    <tr>\n",
              "      <th>6</th>\n",
              "      <td>Female</td>\n",
              "      <td>Yes</td>\n",
              "      <td>Yes</td>\n",
              "      <td>No</td>\n",
              "      <td>2</td>\n",
              "    </tr>\n",
              "    <tr>\n",
              "      <th>14</th>\n",
              "      <td>Male</td>\n",
              "      <td>Yes</td>\n",
              "      <td>Yes</td>\n",
              "      <td>No</td>\n",
              "      <td>1</td>\n",
              "    </tr>\n",
              "  </tbody>\n",
              "</table>\n",
              "</div>\n",
              "    <div class=\"colab-df-buttons\">\n",
              "\n",
              "  <div class=\"colab-df-container\">\n",
              "    <button class=\"colab-df-convert\" onclick=\"convertToInteractive('df-2f3f0096-9e9d-452e-a604-36f2c17e2ef7')\"\n",
              "            title=\"Convert this dataframe to an interactive table.\"\n",
              "            style=\"display:none;\">\n",
              "\n",
              "  <svg xmlns=\"http://www.w3.org/2000/svg\" height=\"24px\" viewBox=\"0 -960 960 960\">\n",
              "    <path d=\"M120-120v-720h720v720H120Zm60-500h600v-160H180v160Zm220 220h160v-160H400v160Zm0 220h160v-160H400v160ZM180-400h160v-160H180v160Zm440 0h160v-160H620v160ZM180-180h160v-160H180v160Zm440 0h160v-160H620v160Z\"/>\n",
              "  </svg>\n",
              "    </button>\n",
              "\n",
              "  <style>\n",
              "    .colab-df-container {\n",
              "      display:flex;\n",
              "      gap: 12px;\n",
              "    }\n",
              "\n",
              "    .colab-df-convert {\n",
              "      background-color: #E8F0FE;\n",
              "      border: none;\n",
              "      border-radius: 50%;\n",
              "      cursor: pointer;\n",
              "      display: none;\n",
              "      fill: #1967D2;\n",
              "      height: 32px;\n",
              "      padding: 0 0 0 0;\n",
              "      width: 32px;\n",
              "    }\n",
              "\n",
              "    .colab-df-convert:hover {\n",
              "      background-color: #E2EBFA;\n",
              "      box-shadow: 0px 1px 2px rgba(60, 64, 67, 0.3), 0px 1px 3px 1px rgba(60, 64, 67, 0.15);\n",
              "      fill: #174EA6;\n",
              "    }\n",
              "\n",
              "    .colab-df-buttons div {\n",
              "      margin-bottom: 4px;\n",
              "    }\n",
              "\n",
              "    [theme=dark] .colab-df-convert {\n",
              "      background-color: #3B4455;\n",
              "      fill: #D2E3FC;\n",
              "    }\n",
              "\n",
              "    [theme=dark] .colab-df-convert:hover {\n",
              "      background-color: #434B5C;\n",
              "      box-shadow: 0px 1px 3px 1px rgba(0, 0, 0, 0.15);\n",
              "      filter: drop-shadow(0px 1px 2px rgba(0, 0, 0, 0.3));\n",
              "      fill: #FFFFFF;\n",
              "    }\n",
              "  </style>\n",
              "\n",
              "    <script>\n",
              "      const buttonEl =\n",
              "        document.querySelector('#df-2f3f0096-9e9d-452e-a604-36f2c17e2ef7 button.colab-df-convert');\n",
              "      buttonEl.style.display =\n",
              "        google.colab.kernel.accessAllowed ? 'block' : 'none';\n",
              "\n",
              "      async function convertToInteractive(key) {\n",
              "        const element = document.querySelector('#df-2f3f0096-9e9d-452e-a604-36f2c17e2ef7');\n",
              "        const dataTable =\n",
              "          await google.colab.kernel.invokeFunction('convertToInteractive',\n",
              "                                                    [key], {});\n",
              "        if (!dataTable) return;\n",
              "\n",
              "        const docLinkHtml = 'Like what you see? Visit the ' +\n",
              "          '<a target=\"_blank\" href=https://colab.research.google.com/notebooks/data_table.ipynb>data table notebook</a>'\n",
              "          + ' to learn more about interactive tables.';\n",
              "        element.innerHTML = '';\n",
              "        dataTable['output_type'] = 'display_data';\n",
              "        await google.colab.output.renderOutput(dataTable, element);\n",
              "        const docLink = document.createElement('div');\n",
              "        docLink.innerHTML = docLinkHtml;\n",
              "        element.appendChild(docLink);\n",
              "      }\n",
              "    </script>\n",
              "  </div>\n",
              "\n",
              "\n",
              "<div id=\"df-b64b1b87-76cd-451d-a279-838a8f5dd6fc\">\n",
              "  <button class=\"colab-df-quickchart\" onclick=\"quickchart('df-b64b1b87-76cd-451d-a279-838a8f5dd6fc')\"\n",
              "            title=\"Suggest charts\"\n",
              "            style=\"display:none;\">\n",
              "\n",
              "<svg xmlns=\"http://www.w3.org/2000/svg\" height=\"24px\"viewBox=\"0 0 24 24\"\n",
              "     width=\"24px\">\n",
              "    <g>\n",
              "        <path d=\"M19 3H5c-1.1 0-2 .9-2 2v14c0 1.1.9 2 2 2h14c1.1 0 2-.9 2-2V5c0-1.1-.9-2-2-2zM9 17H7v-7h2v7zm4 0h-2V7h2v10zm4 0h-2v-4h2v4z\"/>\n",
              "    </g>\n",
              "</svg>\n",
              "  </button>\n",
              "\n",
              "<style>\n",
              "  .colab-df-quickchart {\n",
              "      --bg-color: #E8F0FE;\n",
              "      --fill-color: #1967D2;\n",
              "      --hover-bg-color: #E2EBFA;\n",
              "      --hover-fill-color: #174EA6;\n",
              "      --disabled-fill-color: #AAA;\n",
              "      --disabled-bg-color: #DDD;\n",
              "  }\n",
              "\n",
              "  [theme=dark] .colab-df-quickchart {\n",
              "      --bg-color: #3B4455;\n",
              "      --fill-color: #D2E3FC;\n",
              "      --hover-bg-color: #434B5C;\n",
              "      --hover-fill-color: #FFFFFF;\n",
              "      --disabled-bg-color: #3B4455;\n",
              "      --disabled-fill-color: #666;\n",
              "  }\n",
              "\n",
              "  .colab-df-quickchart {\n",
              "    background-color: var(--bg-color);\n",
              "    border: none;\n",
              "    border-radius: 50%;\n",
              "    cursor: pointer;\n",
              "    display: none;\n",
              "    fill: var(--fill-color);\n",
              "    height: 32px;\n",
              "    padding: 0;\n",
              "    width: 32px;\n",
              "  }\n",
              "\n",
              "  .colab-df-quickchart:hover {\n",
              "    background-color: var(--hover-bg-color);\n",
              "    box-shadow: 0 1px 2px rgba(60, 64, 67, 0.3), 0 1px 3px 1px rgba(60, 64, 67, 0.15);\n",
              "    fill: var(--button-hover-fill-color);\n",
              "  }\n",
              "\n",
              "  .colab-df-quickchart-complete:disabled,\n",
              "  .colab-df-quickchart-complete:disabled:hover {\n",
              "    background-color: var(--disabled-bg-color);\n",
              "    fill: var(--disabled-fill-color);\n",
              "    box-shadow: none;\n",
              "  }\n",
              "\n",
              "  .colab-df-spinner {\n",
              "    border: 2px solid var(--fill-color);\n",
              "    border-color: transparent;\n",
              "    border-bottom-color: var(--fill-color);\n",
              "    animation:\n",
              "      spin 1s steps(1) infinite;\n",
              "  }\n",
              "\n",
              "  @keyframes spin {\n",
              "    0% {\n",
              "      border-color: transparent;\n",
              "      border-bottom-color: var(--fill-color);\n",
              "      border-left-color: var(--fill-color);\n",
              "    }\n",
              "    20% {\n",
              "      border-color: transparent;\n",
              "      border-left-color: var(--fill-color);\n",
              "      border-top-color: var(--fill-color);\n",
              "    }\n",
              "    30% {\n",
              "      border-color: transparent;\n",
              "      border-left-color: var(--fill-color);\n",
              "      border-top-color: var(--fill-color);\n",
              "      border-right-color: var(--fill-color);\n",
              "    }\n",
              "    40% {\n",
              "      border-color: transparent;\n",
              "      border-right-color: var(--fill-color);\n",
              "      border-top-color: var(--fill-color);\n",
              "    }\n",
              "    60% {\n",
              "      border-color: transparent;\n",
              "      border-right-color: var(--fill-color);\n",
              "    }\n",
              "    80% {\n",
              "      border-color: transparent;\n",
              "      border-right-color: var(--fill-color);\n",
              "      border-bottom-color: var(--fill-color);\n",
              "    }\n",
              "    90% {\n",
              "      border-color: transparent;\n",
              "      border-bottom-color: var(--fill-color);\n",
              "    }\n",
              "  }\n",
              "</style>\n",
              "\n",
              "  <script>\n",
              "    async function quickchart(key) {\n",
              "      const quickchartButtonEl =\n",
              "        document.querySelector('#' + key + ' button');\n",
              "      quickchartButtonEl.disabled = true;  // To prevent multiple clicks.\n",
              "      quickchartButtonEl.classList.add('colab-df-spinner');\n",
              "      try {\n",
              "        const charts = await google.colab.kernel.invokeFunction(\n",
              "            'suggestCharts', [key], {});\n",
              "      } catch (error) {\n",
              "        console.error('Error during call to suggestCharts:', error);\n",
              "      }\n",
              "      quickchartButtonEl.classList.remove('colab-df-spinner');\n",
              "      quickchartButtonEl.classList.add('colab-df-quickchart-complete');\n",
              "    }\n",
              "    (() => {\n",
              "      let quickchartButtonEl =\n",
              "        document.querySelector('#df-b64b1b87-76cd-451d-a279-838a8f5dd6fc button');\n",
              "      quickchartButtonEl.style.display =\n",
              "        google.colab.kernel.accessAllowed ? 'block' : 'none';\n",
              "    })();\n",
              "  </script>\n",
              "</div>\n",
              "    </div>\n",
              "  </div>\n"
            ],
            "application/vnd.google.colaboratory.intrinsic+json": {
              "type": "dataframe",
              "summary": "{\n  \"name\": \" \",\n  \"rows\": 16,\n  \"fields\": [\n    {\n      \"column\": \"Gender\",\n      \"properties\": {\n        \"dtype\": \"category\",\n        \"num_unique_values\": 2,\n        \"samples\": [\n          \"Male\",\n          \"Female\"\n        ],\n        \"semantic_type\": \"\",\n        \"description\": \"\"\n      }\n    },\n    {\n      \"column\": \"HasTension\",\n      \"properties\": {\n        \"dtype\": \"category\",\n        \"num_unique_values\": 2,\n        \"samples\": [\n          \"Yes\",\n          \"No\"\n        ],\n        \"semantic_type\": \"\",\n        \"description\": \"\"\n      }\n    },\n    {\n      \"column\": \"AnyHeartDisease\",\n      \"properties\": {\n        \"dtype\": \"category\",\n        \"num_unique_values\": 2,\n        \"samples\": [\n          \"Yes\",\n          \"No\"\n        ],\n        \"semantic_type\": \"\",\n        \"description\": \"\"\n      }\n    },\n    {\n      \"column\": \"NeverMarried\",\n      \"properties\": {\n        \"dtype\": \"category\",\n        \"num_unique_values\": 2,\n        \"samples\": [\n          \"No\",\n          \"Yes\"\n        ],\n        \"semantic_type\": \"\",\n        \"description\": \"\"\n      }\n    },\n    {\n      \"column\": \"PatientCount\",\n      \"properties\": {\n        \"dtype\": \"number\",\n        \"std\": 280,\n        \"min\": 1,\n        \"max\": 1017,\n        \"num_unique_values\": 16,\n        \"samples\": [\n          1017,\n          596\n        ],\n        \"semantic_type\": \"\",\n        \"description\": \"\"\n      }\n    }\n  ]\n}"
            }
          },
          "metadata": {},
          "execution_count": 204
        }
      ]
    },
    {
      "cell_type": "markdown",
      "metadata": {
        "id": "w4FM8l9sNQEo"
      },
      "source": [
        "### Q.6 [MSQ][2 Marks] Select columns with categorical values:\n",
        "\n",
        " A) Gender\n",
        "\n",
        " B) BMI\n",
        "\n",
        " C) NeverMarried\n",
        "\n",
        " D) SmokingStatus\n",
        "\n",
        " E) GlucoseLevel\n",
        "\n",
        " F) HeartAttack\n",
        "\n",
        " G) None of these\n",
        "\n",
        " Answer for all sets:\n",
        "\n",
        " Option A, C, D, F"
      ]
    },
    {
      "cell_type": "code",
      "source": [
        "data.columns"
      ],
      "metadata": {
        "colab": {
          "base_uri": "https://localhost:8080/"
        },
        "id": "ERvgYEfN6xcQ",
        "outputId": "34a66174-f25c-42c4-c4ef-dfca47c0109c"
      },
      "execution_count": null,
      "outputs": [
        {
          "output_type": "execute_result",
          "data": {
            "text/plain": [
              "Index(['Gender', 'Age', 'HasTension', 'AnyHeartDisease', 'NeverMarried',\n",
              "       'Occupation', 'LivesIn', 'GlucoseLevel', 'BMI', 'SmokingStatus',\n",
              "       'HeartAttack'],\n",
              "      dtype='object')"
            ]
          },
          "metadata": {},
          "execution_count": 205
        }
      ]
    },
    {
      "cell_type": "markdown",
      "metadata": {
        "id": "P8cjy45jEJ-x"
      },
      "source": [
        "###Q.7 [MCQ][2 Marks] 'HeartAttack' is the target column. What is the distribution count of \"No\" and \"Yes\" classes?\n",
        "\n",
        "\n",
        "(a) 3025, 455\n",
        "\n",
        "(b) 3797, 203\n",
        "\n",
        "(c) 3806, 194\n",
        "\n",
        "(d) 3804, 196\n",
        "\n",
        "(e) None of these\n",
        "Answer:\n",
        "\n",
        "- V1 : C\n",
        "- V2 : D\n",
        "- V3 : B"
      ]
    },
    {
      "cell_type": "code",
      "source": [
        "data.HeartAttack.value_counts()"
      ],
      "metadata": {
        "colab": {
          "base_uri": "https://localhost:8080/"
        },
        "id": "9hhXCmN4SVOd",
        "outputId": "2086c312-1506-4726-f8d4-14459fa43cb7"
      },
      "execution_count": null,
      "outputs": [
        {
          "output_type": "execute_result",
          "data": {
            "text/plain": [
              "HeartAttack\n",
              "No     3797\n",
              "Yes     203\n",
              "Name: count, dtype: int64"
            ]
          },
          "metadata": {},
          "execution_count": 206
        }
      ]
    },
    {
      "cell_type": "markdown",
      "source": [
        "## Divide the data into training and test sets\n",
        "<!-- - Replace the respective missing or unknown values in features room count, riverside and age with `np.nan`. -->\n",
        "- Keep 30% of the data as test set.\n",
        "- Use random_state as 0\n",
        "- `HeartAttack` is the target, rest of the columns are the features.\n",
        "- For the label/target vector, replace \"Yes\" with 1 and \"No\" with 0.\n",
        "\n",
        "- Divide the dataset into training and test sets keeping target(y) in **stratified** manner.\n",
        "\n",
        "\n",
        "**Hint**: look for the documentation of the usual function that divides the data into training and test datasets."
      ],
      "metadata": {
        "id": "dA87OWQg-Xsp"
      }
    },
    {
      "cell_type": "code",
      "execution_count": null,
      "metadata": {
        "id": "473_BCbbOMXa"
      },
      "outputs": [],
      "source": [
        "X = data.iloc[:, 0:-1]\n",
        "y = data[[data.columns[-1]]]"
      ]
    },
    {
      "cell_type": "code",
      "source": [
        "y.HeartAttack=y.HeartAttack.apply(lambda x: 1 if x=='Yes' else 0)"
      ],
      "metadata": {
        "colab": {
          "base_uri": "https://localhost:8080/"
        },
        "id": "GY4CwSVoA36d",
        "outputId": "31b2ad8d-ea68-48f0-d623-7c12b0e4e24d"
      },
      "execution_count": null,
      "outputs": [
        {
          "output_type": "stream",
          "name": "stderr",
          "text": [
            "<ipython-input-208-375512ee5e49>:1: SettingWithCopyWarning: \n",
            "A value is trying to be set on a copy of a slice from a DataFrame.\n",
            "Try using .loc[row_indexer,col_indexer] = value instead\n",
            "\n",
            "See the caveats in the documentation: https://pandas.pydata.org/pandas-docs/stable/user_guide/indexing.html#returning-a-view-versus-a-copy\n",
            "  y.HeartAttack=y.HeartAttack.apply(lambda x: 1 if x=='Yes' else 0)\n"
          ]
        }
      ]
    },
    {
      "cell_type": "markdown",
      "metadata": {
        "id": "mPLlAE-Bgt1d"
      },
      "source": [
        "## Prepare a data preprocessing pipeline to process features in following order:\n",
        "\n",
        "1. `Gender`: Impute with most frequent then ordinally encode.\n",
        "2. `Age`: Impute with mean then standard scale.\n",
        "3. `HasTension`: Ordinally encode.\n",
        "4. `AnyHeartDisease`:Ordinally encode.\n",
        "5. `NeverMarried`:Ordinally encode.\n",
        "6. `Occupation`: One hot encode.\n",
        "7. `LivesIn`: Impute with most frequent then ordinally encode.\n",
        "8. `GlucoseLevel`: Impute with mean, then min-max scaling.\n",
        "9. `BMI`: Impute with mean, then standard scale.\n",
        "10. `SmokingStatus`: Impute with most frequent, then one hot encode.\n",
        "\n",
        "Hint: After transformation, your feature matrix must have columns in following order:\n",
        "\n",
        "0. Gender\n",
        "1. Age\n",
        "2. HasTension\n",
        "3. AnyHeartDisease\n",
        "4. NeverMarried\n",
        "5. Occupation_Govt_job\n",
        "6. Occupation_Never_worked\n",
        "7. Occupation_Private\n",
        "8. Occupation_Self-employed\n",
        "9. Occupation_children\n",
        "10. LivesIn\n",
        "11. GlucoseLevel\n",
        "12. BMI\n",
        "13. SmokingStatus_formerly smoked\n",
        "14. SmokingStatus_never smoked\n",
        "15. SmokingStatus_smokes\n",
        "\n",
        "NOTE:\n",
        "1. Make sure to preprocess the features in the above order exactly. Answer(s) of later question(s) depend(s) upon correct order of featuring processing.\n",
        "2. You may have to use multiple instances of a trasnformer for this question."
      ]
    },
    {
      "cell_type": "code",
      "execution_count": null,
      "metadata": {
        "id": "gPRRIuqvdWk0"
      },
      "outputs": [],
      "source": [
        "from sklearn.preprocessing import StandardScaler, OneHotEncoder, MinMaxScaler, OrdinalEncoder\n",
        "from sklearn.impute import SimpleImputer\n",
        "from sklearn.pipeline import Pipeline\n",
        "from sklearn.compose import ColumnTransformer"
      ]
    },
    {
      "cell_type": "code",
      "source": [
        "genderPipe = Pipeline([(\"imputer\", SimpleImputer(missing_values = \"Unknown\", strategy=\"most_frequent\")),\n",
        "                       (\"encode\", OrdinalEncoder())])\n",
        "\n",
        "livesInPipe = Pipeline([(\"imputer\",SimpleImputer(missing_values = \"Unknown\", strategy=\"most_frequent\")),\n",
        "                        (\"encode\", OrdinalEncoder())])\n",
        "\n",
        "agePipe = Pipeline([(\"imputer\",SimpleImputer(missing_values = -3, strategy=\"mean\")),\n",
        "                    (\"scaler\", StandardScaler())])\n",
        "\n",
        "bmiPipe = Pipeline([(\"imputer\",SimpleImputer(strategy=\"mean\")),\n",
        "                    (\"scaler\", StandardScaler())])\n",
        "\n",
        "glucosePipe = Pipeline([(\"imputer\",SimpleImputer(missing_values = -2, strategy=\"mean\")),\n",
        "                        (\"scaler\", MinMaxScaler())])\n",
        "\n",
        "smokingStatusPipe = Pipeline([(\"imputer\",SimpleImputer(missing_values = \"Unknown\", strategy=\"most_frequent\")),\n",
        "                              (\"encode\", OneHotEncoder(sparse_output=False))])\n",
        "\n",
        "ct = ColumnTransformer(\n",
        "        transformers=[(\"GenderPipe\", genderPipe, [\"Gender\"]),\n",
        "                      (\"AgePipe\", agePipe, [\"Age\"]),\n",
        "                      (\"HasTension\", OrdinalEncoder(), [\"HasTension\"]),\n",
        "                      (\"AnyHeartDisease\",  OrdinalEncoder(), [\"AnyHeartDisease\"]),\n",
        "                      (\"NeverMarried\",  OrdinalEncoder(), [\"NeverMarried\"]),\n",
        "                      (\"Occupation\", OneHotEncoder(sparse_output=False), [\"Occupation\"]),\n",
        "                      (\"LivesIn\", livesInPipe, [\"LivesIn\"]),\n",
        "                      (\"GlucoseLevel\", glucosePipe, [\"GlucoseLevel\"]),\n",
        "                      (\"BMI\", bmiPipe, [\"BMI\"]),\n",
        "                      (\"SmokingStatus\", smokingStatusPipe, [\"SmokingStatus\"]),\n",
        "                      ],\n",
        "        remainder='drop',\n",
        "        verbose_feature_names_out=False\n",
        "    ).set_output(transform = 'pandas')"
      ],
      "metadata": {
        "id": "_cNqPQzeDkre"
      },
      "execution_count": null,
      "outputs": []
    },
    {
      "cell_type": "code",
      "execution_count": null,
      "metadata": {
        "id": "upUKuyztTyZ9"
      },
      "outputs": [],
      "source": [
        "from sklearn.model_selection import train_test_split\n",
        "X_train, X_test, y_train, y_test = train_test_split(X, y,\n",
        "                                                    test_size = 0.3,\n",
        "                                                    stratify = y,\n",
        "                                                    random_state = 0)"
      ]
    },
    {
      "cell_type": "code",
      "source": [
        "X_train_transformed = ct.fit_transform(X_train)\n",
        "X_test_transformed  = ct.transform(X_test)"
      ],
      "metadata": {
        "id": "QH3AGIyGwjZt"
      },
      "execution_count": null,
      "outputs": []
    },
    {
      "cell_type": "code",
      "source": [
        "# # save the dataset\n",
        "# train_data = np.concatenate((X_train_transformed,\n",
        "#                              y_train.values.reshape(-1,1)),\n",
        "#                             axis = 1)\n",
        "# test_data = np.concatenate((X_test_transformed,\n",
        "#                             y_test.values.reshape(-1,1)),\n",
        "#                            axis = 1)\n",
        "\n",
        "# modelBuildingData = np.concatenate((train_data, test_data),\n",
        "#                                    axis = 0)\n",
        "\n",
        "# mb_df = pd.DataFrame(modelBuildingData)\n",
        "# mb_df.to_csv(f'{datasets_path}/T124OPPE2_ModelBuilding_V{dataset_id}.csv',\n",
        "#                                        index=False)"
      ],
      "metadata": {
        "id": "0_oBUhl_wvid"
      },
      "execution_count": null,
      "outputs": []
    },
    {
      "cell_type": "code",
      "source": [
        "# save the dataset\n",
        "train_data = pd.concat((X_train_transformed,\n",
        "                             y_train),\n",
        "                            axis = 1)\n",
        "test_data = pd.concat((X_test_transformed,\n",
        "                            y_test),\n",
        "                           axis = 1)\n",
        "\n",
        "mb_df = pd.concat((train_data, test_data),\n",
        "                                   axis = 0).reset_index(drop=True)\n",
        "\n",
        "mb_df.to_csv(f'{datasets_path}/T124OPPE2_ModelBuilding_V{dataset_id}.csv',\n",
        "                                       index=False)"
      ],
      "metadata": {
        "id": "k6eo8QusbzyS"
      },
      "execution_count": null,
      "outputs": []
    },
    {
      "cell_type": "markdown",
      "metadata": {
        "id": "yxAFg89IGKUY"
      },
      "source": [
        "## Q.8 [MCQ][2 Mark] Calculate the shape of the feature matrix of training dataset.\n",
        "\n",
        "(a) (2800, 16)\n",
        "\n",
        "(b) (2000, 16)\n",
        "\n",
        "(c) (3000, 16)\n",
        "\n",
        "(d) (3200, 16)\n",
        "\n",
        "Answer:\n",
        "\n",
        "V1: A\n",
        "\n",
        "V2: A\n",
        "\n",
        "V3: A\n",
        "\n",
        "\n"
      ]
    },
    {
      "cell_type": "code",
      "source": [
        "X_train_transformed.shape"
      ],
      "metadata": {
        "colab": {
          "base_uri": "https://localhost:8080/"
        },
        "id": "SnXAC6HFTiSG",
        "outputId": "3814f5bd-63d4-4484-de4e-d1079a44e4ae"
      },
      "execution_count": null,
      "outputs": [
        {
          "output_type": "execute_result",
          "data": {
            "text/plain": [
              "(2800, 16)"
            ]
          },
          "metadata": {},
          "execution_count": 215
        }
      ]
    },
    {
      "cell_type": "markdown",
      "source": [
        "## Q.9 [NAT][6 marks] What is the mean of the transformed test data (features only)?\n",
        "\n",
        "Note : Compute the mean of the whole feature matrix i.e. mean of all values in the transformed test feature matrix\n",
        "\n",
        "Ans:\n",
        "\n",
        "V1: 0.2462 [Range: 0.241 to 0.251]\n",
        "\n",
        "V2: 0.2506 [Range: 0.245 to 0.255]\n",
        "\n",
        "V3: 0.3870 [Range: 0.382 to 0.392]\n"
      ],
      "metadata": {
        "id": "R_oZ2wEcmAKT"
      }
    },
    {
      "cell_type": "code",
      "source": [
        "np.mean(X_test_transformed)"
      ],
      "metadata": {
        "colab": {
          "base_uri": "https://localhost:8080/"
        },
        "id": "oQA_N4clTj_o",
        "outputId": "967119fc-922b-4e74-cd6d-f21b86401d74"
      },
      "execution_count": null,
      "outputs": [
        {
          "output_type": "execute_result",
          "data": {
            "text/plain": [
              "0.24884288268986798"
            ]
          },
          "metadata": {},
          "execution_count": 216
        }
      ]
    },
    {
      "cell_type": "markdown",
      "metadata": {
        "id": "ExbMhZ96-fc1"
      },
      "source": [
        "## Q.10 [NAT][6 marks] If you eliminate 1 feature with recursive feature elimination, which feature will be eliminated?\n",
        "- Type the index of the eliminated feature (index starts from 0).\n",
        "- Use `LogisticRegression` model with random state as 1729 and rest of the  parameters with default values, as an estimator.\n",
        "-  Use processed training data.\n",
        "\n",
        "V1: 15\n",
        "\n",
        "V2: 6\n",
        "\n",
        "V3: 6\n",
        "\n",
        "No range needed for this question."
      ]
    },
    {
      "cell_type": "code",
      "execution_count": null,
      "metadata": {
        "colab": {
          "base_uri": "https://localhost:8080/",
          "height": 205
        },
        "outputId": "a486d4fe-1145-4798-f719-5db41321d08a",
        "id": "WFlYycwG-fc1"
      },
      "outputs": [
        {
          "output_type": "stream",
          "name": "stderr",
          "text": [
            "/usr/local/lib/python3.10/dist-packages/sklearn/utils/validation.py:1143: DataConversionWarning: A column-vector y was passed when a 1d array was expected. Please change the shape of y to (n_samples, ), for example using ravel().\n",
            "  y = column_or_1d(y, warn=True)\n",
            "/usr/local/lib/python3.10/dist-packages/sklearn/utils/validation.py:1143: DataConversionWarning: A column-vector y was passed when a 1d array was expected. Please change the shape of y to (n_samples, ), for example using ravel().\n",
            "  y = column_or_1d(y, warn=True)\n"
          ]
        },
        {
          "output_type": "execute_result",
          "data": {
            "text/plain": [
              "RFE(estimator=LogisticRegression(), n_features_to_select=15)"
            ],
            "text/html": [
              "<style>#sk-container-id-10 {color: black;background-color: white;}#sk-container-id-10 pre{padding: 0;}#sk-container-id-10 div.sk-toggleable {background-color: white;}#sk-container-id-10 label.sk-toggleable__label {cursor: pointer;display: block;width: 100%;margin-bottom: 0;padding: 0.3em;box-sizing: border-box;text-align: center;}#sk-container-id-10 label.sk-toggleable__label-arrow:before {content: \"▸\";float: left;margin-right: 0.25em;color: #696969;}#sk-container-id-10 label.sk-toggleable__label-arrow:hover:before {color: black;}#sk-container-id-10 div.sk-estimator:hover label.sk-toggleable__label-arrow:before {color: black;}#sk-container-id-10 div.sk-toggleable__content {max-height: 0;max-width: 0;overflow: hidden;text-align: left;background-color: #f0f8ff;}#sk-container-id-10 div.sk-toggleable__content pre {margin: 0.2em;color: black;border-radius: 0.25em;background-color: #f0f8ff;}#sk-container-id-10 input.sk-toggleable__control:checked~div.sk-toggleable__content {max-height: 200px;max-width: 100%;overflow: auto;}#sk-container-id-10 input.sk-toggleable__control:checked~label.sk-toggleable__label-arrow:before {content: \"▾\";}#sk-container-id-10 div.sk-estimator input.sk-toggleable__control:checked~label.sk-toggleable__label {background-color: #d4ebff;}#sk-container-id-10 div.sk-label input.sk-toggleable__control:checked~label.sk-toggleable__label {background-color: #d4ebff;}#sk-container-id-10 input.sk-hidden--visually {border: 0;clip: rect(1px 1px 1px 1px);clip: rect(1px, 1px, 1px, 1px);height: 1px;margin: -1px;overflow: hidden;padding: 0;position: absolute;width: 1px;}#sk-container-id-10 div.sk-estimator {font-family: monospace;background-color: #f0f8ff;border: 1px dotted black;border-radius: 0.25em;box-sizing: border-box;margin-bottom: 0.5em;}#sk-container-id-10 div.sk-estimator:hover {background-color: #d4ebff;}#sk-container-id-10 div.sk-parallel-item::after {content: \"\";width: 100%;border-bottom: 1px solid gray;flex-grow: 1;}#sk-container-id-10 div.sk-label:hover label.sk-toggleable__label {background-color: #d4ebff;}#sk-container-id-10 div.sk-serial::before {content: \"\";position: absolute;border-left: 1px solid gray;box-sizing: border-box;top: 0;bottom: 0;left: 50%;z-index: 0;}#sk-container-id-10 div.sk-serial {display: flex;flex-direction: column;align-items: center;background-color: white;padding-right: 0.2em;padding-left: 0.2em;position: relative;}#sk-container-id-10 div.sk-item {position: relative;z-index: 1;}#sk-container-id-10 div.sk-parallel {display: flex;align-items: stretch;justify-content: center;background-color: white;position: relative;}#sk-container-id-10 div.sk-item::before, #sk-container-id-10 div.sk-parallel-item::before {content: \"\";position: absolute;border-left: 1px solid gray;box-sizing: border-box;top: 0;bottom: 0;left: 50%;z-index: -1;}#sk-container-id-10 div.sk-parallel-item {display: flex;flex-direction: column;z-index: 1;position: relative;background-color: white;}#sk-container-id-10 div.sk-parallel-item:first-child::after {align-self: flex-end;width: 50%;}#sk-container-id-10 div.sk-parallel-item:last-child::after {align-self: flex-start;width: 50%;}#sk-container-id-10 div.sk-parallel-item:only-child::after {width: 0;}#sk-container-id-10 div.sk-dashed-wrapped {border: 1px dashed gray;margin: 0 0.4em 0.5em 0.4em;box-sizing: border-box;padding-bottom: 0.4em;background-color: white;}#sk-container-id-10 div.sk-label label {font-family: monospace;font-weight: bold;display: inline-block;line-height: 1.2em;}#sk-container-id-10 div.sk-label-container {text-align: center;}#sk-container-id-10 div.sk-container {/* jupyter's `normalize.less` sets `[hidden] { display: none; }` but bootstrap.min.css set `[hidden] { display: none !important; }` so we also need the `!important` here to be able to override the default hidden behavior on the sphinx rendered scikit-learn.org. See: https://github.com/scikit-learn/scikit-learn/issues/21755 */display: inline-block !important;position: relative;}#sk-container-id-10 div.sk-text-repr-fallback {display: none;}</style><div id=\"sk-container-id-10\" class=\"sk-top-container\"><div class=\"sk-text-repr-fallback\"><pre>RFE(estimator=LogisticRegression(), n_features_to_select=15)</pre><b>In a Jupyter environment, please rerun this cell to show the HTML representation or trust the notebook. <br />On GitHub, the HTML representation is unable to render, please try loading this page with nbviewer.org.</b></div><div class=\"sk-container\" hidden><div class=\"sk-item sk-dashed-wrapped\"><div class=\"sk-label-container\"><div class=\"sk-label sk-toggleable\"><input class=\"sk-toggleable__control sk-hidden--visually\" id=\"sk-estimator-id-16\" type=\"checkbox\" ><label for=\"sk-estimator-id-16\" class=\"sk-toggleable__label sk-toggleable__label-arrow\">RFE</label><div class=\"sk-toggleable__content\"><pre>RFE(estimator=LogisticRegression(), n_features_to_select=15)</pre></div></div></div><div class=\"sk-parallel\"><div class=\"sk-parallel-item\"><div class=\"sk-item\"><div class=\"sk-label-container\"><div class=\"sk-label sk-toggleable\"><input class=\"sk-toggleable__control sk-hidden--visually\" id=\"sk-estimator-id-17\" type=\"checkbox\" ><label for=\"sk-estimator-id-17\" class=\"sk-toggleable__label sk-toggleable__label-arrow\">estimator: LogisticRegression</label><div class=\"sk-toggleable__content\"><pre>LogisticRegression()</pre></div></div></div><div class=\"sk-serial\"><div class=\"sk-item\"><div class=\"sk-estimator sk-toggleable\"><input class=\"sk-toggleable__control sk-hidden--visually\" id=\"sk-estimator-id-18\" type=\"checkbox\" ><label for=\"sk-estimator-id-18\" class=\"sk-toggleable__label sk-toggleable__label-arrow\">LogisticRegression</label><div class=\"sk-toggleable__content\"><pre>LogisticRegression()</pre></div></div></div></div></div></div></div></div></div></div>"
            ]
          },
          "metadata": {},
          "execution_count": 217
        }
      ],
      "source": [
        "from sklearn.feature_selection import RFE\n",
        "from sklearn.linear_model import LogisticRegression\n",
        "\n",
        "num_features_select = X_train_transformed.shape[1]\n",
        "\n",
        "rfe = RFE(LogisticRegression(),\n",
        "          n_features_to_select=num_features_select-1)\n",
        "rfe.fit(X_train_transformed, y_train)"
      ]
    },
    {
      "cell_type": "code",
      "source": [
        "print(rfe.ranking_)\n",
        "np.argmax(rfe.ranking_)"
      ],
      "metadata": {
        "colab": {
          "base_uri": "https://localhost:8080/"
        },
        "id": "KjiBWl7f_5Gb",
        "outputId": "24f603ef-136c-402a-dddd-8de99decad64"
      },
      "execution_count": null,
      "outputs": [
        {
          "output_type": "stream",
          "name": "stdout",
          "text": [
            "[1 1 1 1 1 1 2 1 1 1 1 1 1 1 1 1]\n"
          ]
        },
        {
          "output_type": "execute_result",
          "data": {
            "text/plain": [
              "6"
            ]
          },
          "metadata": {},
          "execution_count": 218
        }
      ]
    },
    {
      "cell_type": "markdown",
      "source": [
        "# Model building"
      ],
      "metadata": {
        "id": "tvEbIu7GyDn4"
      }
    },
    {
      "cell_type": "markdown",
      "source": [
        "### **Note**: For numerical type questions, always enter the answer correct upto 3 decimal places without rounding off, unless otherwise stated."
      ],
      "metadata": {
        "id": "OTxCPconXM6k"
      }
    },
    {
      "cell_type": "markdown",
      "source": [
        "Load the dataset.\n",
        "- The last column is the target column.\n",
        "- Last 30% rows of the dataset constitute test set and remaining rows form the training set.\n",
        "- Do not shuffle the dataset while splitting\n",
        "- You must have to use only training set to train all the estimator in questions below.\n",
        "- First row of the file has column names/ids, and it has no index column."
      ],
      "metadata": {
        "id": "Cfu5AafK7aTo"
      }
    },
    {
      "cell_type": "code",
      "source": [
        "data = pd.read_csv(f'{datasets_path}/T124OPPE2_ModelBuilding_V{dataset_id}.csv')"
      ],
      "metadata": {
        "id": "TlhvOmWAlNX9"
      },
      "execution_count": null,
      "outputs": []
    },
    {
      "cell_type": "code",
      "source": [],
      "metadata": {
        "id": "olzYVDPi4KGf"
      },
      "execution_count": null,
      "outputs": []
    },
    {
      "cell_type": "code",
      "source": [
        "data.columns"
      ],
      "metadata": {
        "colab": {
          "base_uri": "https://localhost:8080/"
        },
        "id": "_0MEnNJXgNWb",
        "outputId": "d1a88973-b25e-4207-f9d7-ef98966eda13"
      },
      "execution_count": null,
      "outputs": [
        {
          "output_type": "execute_result",
          "data": {
            "text/plain": [
              "Index(['Gender', 'Age', 'HasTension', 'AnyHeartDisease', 'NeverMarried',\n",
              "       'Occupation_Govt_job', 'Occupation_Never_worked', 'Occupation_Private',\n",
              "       'Occupation_Self-employed', 'Occupation_children', 'LivesIn',\n",
              "       'GlucoseLevel', 'BMI', 'SmokingStatus_formerly smoked',\n",
              "       'SmokingStatus_never smoked', 'SmokingStatus_smokes', 'HeartAttack'],\n",
              "      dtype='object')"
            ]
          },
          "metadata": {},
          "execution_count": 36
        }
      ]
    },
    {
      "cell_type": "code",
      "source": [
        "training_set_size = int(len(data)*0.70)\n",
        "test_set_size = int(len(data)*0.30)\n",
        "num_columns = data.shape[1]\n",
        "\n",
        "X_train = data.iloc[0:training_set_size,0:num_columns-1]\n",
        "X_test = data.iloc[training_set_size:,0:num_columns-1]\n",
        "\n",
        "y_train = data.iloc[0:training_set_size,-1]\n",
        "y_test = data.iloc[training_set_size:,-1]"
      ],
      "metadata": {
        "id": "eejMzqUlBsRs"
      },
      "execution_count": null,
      "outputs": []
    },
    {
      "cell_type": "markdown",
      "source": [
        "### Q.1 [MCQ][0 Mark] Which dataset are you using for this exam? Write the last two letters of the dataset file name.\n",
        "\n",
        "A) V1\n",
        "\n",
        "B) V2\n",
        "\n",
        "C) V3\n",
        "\n",
        "Answer:\n",
        "\n",
        "V1: A\n",
        "\n",
        "V2: B\n",
        "\n",
        "V3: C"
      ],
      "metadata": {
        "id": "QzT_qLXSkUg4"
      }
    },
    {
      "cell_type": "code",
      "execution_count": null,
      "metadata": {
        "id": "qBVMx3VrMB5z"
      },
      "outputs": [],
      "source": [
        "import pandas as pd\n",
        "import numpy as np\n",
        "\n",
        "from sklearn.linear_model import Perceptron\n",
        "import seaborn as sns\n",
        "import matplotlib.pyplot as plt"
      ]
    },
    {
      "cell_type": "markdown",
      "metadata": {
        "id": "SDAdp9zq74mr"
      },
      "source": [
        "#Week 6"
      ]
    },
    {
      "cell_type": "markdown",
      "source": [
        "### Instructions (Q2-Q3)\n",
        "Instantiate a perceptron classifier that with following parameters:\n",
        "  * random_state = 1729\n",
        "  * learning rate = 1\n",
        "  * Train for appropriate number of iterations\n",
        "  * Do not shuffle the dataset for each iteration.\n",
        "  * Include the intercept (bias) term.\n",
        "  * Use 10% of the data for validation fraction.\n",
        "  * Do not apply regularization.\n",
        "  * Set warm start to true.\n",
        "\n",
        "Hint: one iteration of training indicates going over each sample exactly once.\n",
        "\n",
        "Train the classifier on the training data."
      ],
      "metadata": {
        "id": "1KOMUvuGrQw7"
      }
    },
    {
      "cell_type": "markdown",
      "metadata": {
        "id": "7dnMuDPd8R_m"
      },
      "source": [
        "### Q.2 [NAT] [4 Marks] Train the perceptron classifier for 5 iterations. What is value of bias (intercept) after 5th iteration?\n",
        "\n",
        "\n",
        "Answer:\n",
        "\n",
        "V1: -3.0, range: -2.995 to -3.005\n",
        "\n",
        "V2: -4.0, range: -3.995 to -4.005\n",
        "\n",
        "V3: -6.0, range: -5.995 to -6.005"
      ]
    },
    {
      "cell_type": "code",
      "execution_count": null,
      "metadata": {
        "id": "tvRWSfS2O20G"
      },
      "outputs": [],
      "source": [
        "clf = Perceptron(random_state=1729,\n",
        "                 eta0=1,\n",
        "                 max_iter=1,\n",
        "                 shuffle=False,\n",
        "                 validation_fraction=0.1,\n",
        "                 fit_intercept=True,\n",
        "                 penalty=None,\n",
        "                 warm_start=True)"
      ]
    },
    {
      "cell_type": "code",
      "execution_count": null,
      "metadata": {
        "id": "ozZ6uSIwO3sp",
        "colab": {
          "base_uri": "https://localhost:8080/"
        },
        "outputId": "72ebf33a-c3e0-401c-b145-29588ec1e1d8"
      },
      "outputs": [
        {
          "output_type": "stream",
          "name": "stderr",
          "text": [
            "/usr/local/lib/python3.10/dist-packages/sklearn/linear_model/_stochastic_gradient.py:702: ConvergenceWarning: Maximum number of iteration reached before convergence. Consider increasing max_iter to improve the fit.\n",
            "  warnings.warn(\n",
            "/usr/local/lib/python3.10/dist-packages/sklearn/linear_model/_stochastic_gradient.py:702: ConvergenceWarning: Maximum number of iteration reached before convergence. Consider increasing max_iter to improve the fit.\n",
            "  warnings.warn(\n",
            "/usr/local/lib/python3.10/dist-packages/sklearn/linear_model/_stochastic_gradient.py:702: ConvergenceWarning: Maximum number of iteration reached before convergence. Consider increasing max_iter to improve the fit.\n",
            "  warnings.warn(\n"
          ]
        },
        {
          "output_type": "stream",
          "name": "stdout",
          "text": [
            "The value of after bias 5th updates:  -6.0\n"
          ]
        },
        {
          "output_type": "stream",
          "name": "stderr",
          "text": [
            "/usr/local/lib/python3.10/dist-packages/sklearn/linear_model/_stochastic_gradient.py:702: ConvergenceWarning: Maximum number of iteration reached before convergence. Consider increasing max_iter to improve the fit.\n",
            "  warnings.warn(\n",
            "/usr/local/lib/python3.10/dist-packages/sklearn/linear_model/_stochastic_gradient.py:702: ConvergenceWarning: Maximum number of iteration reached before convergence. Consider increasing max_iter to improve the fit.\n",
            "  warnings.warn(\n"
          ]
        }
      ],
      "source": [
        "updates = []\n",
        "for i in range(5):\n",
        "  clf.fit(X_train, y_train)#,classes=np.unique(y_train))\n",
        "  updates.append(clf.intercept_[0])\n",
        "print('The value of after bias 5th updates: ',updates[-1])"
      ]
    },
    {
      "cell_type": "markdown",
      "metadata": {
        "id": "JDH_v3tk8SEE"
      },
      "source": [
        "###Q.3 [MCQ][5 Marks] In continuation of the previous question, compute precision accurate upto 2 decimal places on training data for positive class (i.e. class value 1), after 5 iterations.\n",
        "\n",
        "[Hint: Use estimator trained from the previous question]\n",
        "\n",
        "\n",
        "Answer:\n",
        "\n",
        "V1: 0.666, range: 0.661 to 0.671\n",
        "\n",
        "V2: 0.1238, range: 0.118 to 0.128\n",
        "\n",
        "V3: 0.0, range: 0.0 to 0.005"
      ]
    },
    {
      "cell_type": "code",
      "execution_count": null,
      "metadata": {
        "id": "n1jANChr-Qi-"
      },
      "outputs": [],
      "source": [
        "from sklearn.metrics import precision_score, confusion_matrix, ConfusionMatrixDisplay, classification_report"
      ]
    },
    {
      "cell_type": "code",
      "source": [
        "print(precision_score(y_train, clf.predict(X_train)))"
      ],
      "metadata": {
        "colab": {
          "base_uri": "https://localhost:8080/"
        },
        "id": "Yn4Zzp0MGcTZ",
        "outputId": "2647cf70-4b75-4147-f99e-d61909b5c0ce"
      },
      "execution_count": null,
      "outputs": [
        {
          "output_type": "stream",
          "name": "stdout",
          "text": [
            "0.0\n"
          ]
        },
        {
          "output_type": "stream",
          "name": "stderr",
          "text": [
            "/usr/local/lib/python3.10/dist-packages/sklearn/metrics/_classification.py:1344: UndefinedMetricWarning: Precision is ill-defined and being set to 0.0 due to no predicted samples. Use `zero_division` parameter to control this behavior.\n",
            "  _warn_prf(average, modifier, msg_start, len(result))\n"
          ]
        }
      ]
    },
    {
      "cell_type": "markdown",
      "metadata": {
        "id": "TMD4z7zOKzsp"
      },
      "source": [
        "### Q.4 [NAT][5 Marks] Train (on training data only) logistic regression using `SGDClassifier`. Use the following parameters:\n",
        "\n",
        "1. Choose appropriate loss value to obtain logistic regression\n",
        "2. penalty='l2',\n",
        "3. eta0=0.001,\n",
        "4. alpha=0,\n",
        "5. learning_rate='constant'\n",
        "6. random_state=1729.\n",
        "7. warm_start = True\n",
        "\n",
        "Train the classifier for 5 iterations and note the value of the loss in each iteration. What will be the loss value after second iteration? Answer upto three decimal places.\n",
        "\n",
        "**Note:** Set the remaining parameters, if any, accordingly to be able to get the loss value after second iteration. Also note that the classifier has to be trained for 5 iterations.\n",
        "\n",
        "Answer:\n",
        "\n",
        "V1: 0.2082 Range: 0.203 to 0.213\n",
        "\n",
        "V2: 0.2096 Range: 0.204 to 0.214\n",
        "\n",
        "V3: 0.2111 Range: 0.206 to 0.216"
      ]
    },
    {
      "cell_type": "code",
      "execution_count": null,
      "metadata": {
        "id": "T2rAHOmTNC8y"
      },
      "outputs": [],
      "source": [
        "from sklearn.linear_model import SGDClassifier\n",
        "\n",
        "logistic_sgd = SGDClassifier(loss='log_loss',\n",
        "                             penalty='l2',\n",
        "                             max_iter=1,\n",
        "                             warm_start=True,\n",
        "                             eta0=0.001,\n",
        "                             alpha=0,\n",
        "                             learning_rate='constant',\n",
        "                             random_state=1729)"
      ]
    },
    {
      "cell_type": "code",
      "execution_count": null,
      "metadata": {
        "id": "jrPUk6rtNlcn",
        "colab": {
          "base_uri": "https://localhost:8080/"
        },
        "outputId": "eecb3e69-13da-472c-f011-191e14683e7d"
      },
      "outputs": [
        {
          "output_type": "stream",
          "name": "stdout",
          "text": [
            "0.21114161434140175\n"
          ]
        },
        {
          "output_type": "stream",
          "name": "stderr",
          "text": [
            "/usr/local/lib/python3.10/dist-packages/sklearn/linear_model/_stochastic_gradient.py:702: ConvergenceWarning: Maximum number of iteration reached before convergence. Consider increasing max_iter to improve the fit.\n",
            "  warnings.warn(\n",
            "/usr/local/lib/python3.10/dist-packages/sklearn/linear_model/_stochastic_gradient.py:702: ConvergenceWarning: Maximum number of iteration reached before convergence. Consider increasing max_iter to improve the fit.\n",
            "  warnings.warn(\n",
            "/usr/local/lib/python3.10/dist-packages/sklearn/linear_model/_stochastic_gradient.py:702: ConvergenceWarning: Maximum number of iteration reached before convergence. Consider increasing max_iter to improve the fit.\n",
            "  warnings.warn(\n",
            "/usr/local/lib/python3.10/dist-packages/sklearn/linear_model/_stochastic_gradient.py:702: ConvergenceWarning: Maximum number of iteration reached before convergence. Consider increasing max_iter to improve the fit.\n",
            "  warnings.warn(\n",
            "/usr/local/lib/python3.10/dist-packages/sklearn/linear_model/_stochastic_gradient.py:702: ConvergenceWarning: Maximum number of iteration reached before convergence. Consider increasing max_iter to improve the fit.\n",
            "  warnings.warn(\n"
          ]
        }
      ],
      "source": [
        "from sklearn.metrics import log_loss\n",
        "Loss = []\n",
        "iterations = 5\n",
        "for i in range(iterations):\n",
        "  logistic_sgd.fit(X_train,y_train)\n",
        "  y_pred = logistic_sgd.predict_proba(X_train)\n",
        "  Loss.append(log_loss(y_train,y_pred))\n",
        "\n",
        "print(Loss[1])"
      ]
    },
    {
      "cell_type": "markdown",
      "metadata": {
        "id": "VK0GGQFbOnFL"
      },
      "source": [
        "### Q.5 [MCQ][5 marks] Use GridSearchCV with SGDClassifier. Following are the classifier's parameters:\n",
        "\n",
        "- `loss = 'log_loss'`\n",
        "- `learning_rate = 'constant'`\n",
        "- `random_state = 1729`\n",
        "\n",
        "Following are parameters to examine:\n",
        "-  `alpha = [0.0001, 0.0005, 0.001, 0.005]`\n",
        "- `eta0 = [0.01, 0.05, 0.1, 0.5]`\n",
        "\n",
        "What are the best values of alpha and eta0 respectively?\n",
        "\n",
        "A. 0.0001, 0.01\n",
        "\n",
        "B. 0.001, 0.01\n",
        "\n",
        "C. 0.0001, 0.5\n",
        "\n",
        "D. 0.0005, 0.01\n",
        "\n",
        "E. 0.005, 0.5\n",
        "\n",
        "F 0.05, 0.1\n",
        "\n",
        "Answer:\n",
        "\n",
        "V1: A\n",
        "\n",
        "V2: A\n",
        "\n",
        "V3: F"
      ]
    },
    {
      "cell_type": "code",
      "execution_count": null,
      "metadata": {
        "id": "tZ7IqLaXPInz",
        "colab": {
          "base_uri": "https://localhost:8080/"
        },
        "outputId": "dd08bc78-a1f4-4c95-ef0d-ed089866c244"
      },
      "outputs": [
        {
          "output_type": "stream",
          "name": "stdout",
          "text": [
            "{'alpha': 0.005, 'eta0': 0.1}\n"
          ]
        }
      ],
      "source": [
        "from sklearn.model_selection import GridSearchCV\n",
        "import pandas as pd\n",
        "\n",
        "alpha = [0.0001, 0.0005, 0.001, 0.005]\n",
        "eta0 = [0.01, 0.05, 0.1, 0.5]\n",
        "\n",
        "param_grid = {\"eta0\":eta0,\"alpha\":alpha}\n",
        "\n",
        "clf_gscv = GridSearchCV(SGDClassifier(loss = 'log_loss',\n",
        "                                      learning_rate = 'constant',\n",
        "                                      random_state = 1729),\n",
        "                        param_grid = param_grid,\n",
        "                        # scoring='recall',\n",
        "                        cv=5)\n",
        "clf_gscv.fit(X_train,y_train)\n",
        "\n",
        "best_params = clf_gscv.best_params_\n",
        "\n",
        "print(best_params)\n",
        "\n",
        "# columns = [\"param_{name}\" for name in param_grid.keys()]\n",
        "# columns += [\"mean_test_score\", \"std_test_score\"]\n",
        "# cv_results = pd.DataFrame(clf_gscv.cv_results_)\n",
        "# # cv_results[\"mean_test_score\"] = clf_gscv.cv_results_[\"mean_test_score\"]\n",
        "# # cv_results[\"std_test_score\"] = clf_gscv.cv_results_[\"std_test_score\"]\n",
        "# # cv_results[columns].sort_values(by=\"mean_test_score\")\n",
        "\n",
        "# cv_results[columns]\n",
        "\n",
        "# clf_gscv.cv_results_"
      ]
    },
    {
      "cell_type": "markdown",
      "metadata": {
        "id": "4AnQlvHCA4yk"
      },
      "source": [
        "### Q.6 [MCQ][5 Marks] Create a new estimator using SGDClassifier that uses the best parameters obtained in Gridsearch earlier ((learning rate to be constant, random_state to be '1729' and use appropriate loss for logistic regression)) and set the weight of class 0 to be 0.1 and the weight of class 1 to be 2. How many samples of class 1 from the test set are correctly predicted by this estimator?\n",
        "\n",
        "\n",
        "\n",
        "A. 47\n",
        "\n",
        "B. 46\n",
        "\n",
        "C. 55\n",
        "\n",
        "D. 40\n",
        "\n",
        "E. 41\n",
        "\n",
        "F. None of these\n",
        "\n",
        "Ans:\n",
        "\n",
        "V1: A\n",
        "\n",
        "V2: B\n",
        "\n",
        "V3: E"
      ]
    },
    {
      "cell_type": "code",
      "execution_count": null,
      "metadata": {
        "id": "GcChjE6rBJ4O",
        "colab": {
          "base_uri": "https://localhost:8080/",
          "height": 91
        },
        "outputId": "716f4161-f8da-4429-8fc7-cda9f8bbdae8"
      },
      "outputs": [
        {
          "output_type": "execute_result",
          "data": {
            "text/plain": [
              "SGDClassifier(alpha=0.005, class_weight={0: 0.1, 1: 2}, eta0=0.1,\n",
              "              learning_rate='constant', loss='log_loss', random_state=1729)"
            ],
            "text/html": [
              "<style>#sk-container-id-11 {color: black;background-color: white;}#sk-container-id-11 pre{padding: 0;}#sk-container-id-11 div.sk-toggleable {background-color: white;}#sk-container-id-11 label.sk-toggleable__label {cursor: pointer;display: block;width: 100%;margin-bottom: 0;padding: 0.3em;box-sizing: border-box;text-align: center;}#sk-container-id-11 label.sk-toggleable__label-arrow:before {content: \"▸\";float: left;margin-right: 0.25em;color: #696969;}#sk-container-id-11 label.sk-toggleable__label-arrow:hover:before {color: black;}#sk-container-id-11 div.sk-estimator:hover label.sk-toggleable__label-arrow:before {color: black;}#sk-container-id-11 div.sk-toggleable__content {max-height: 0;max-width: 0;overflow: hidden;text-align: left;background-color: #f0f8ff;}#sk-container-id-11 div.sk-toggleable__content pre {margin: 0.2em;color: black;border-radius: 0.25em;background-color: #f0f8ff;}#sk-container-id-11 input.sk-toggleable__control:checked~div.sk-toggleable__content {max-height: 200px;max-width: 100%;overflow: auto;}#sk-container-id-11 input.sk-toggleable__control:checked~label.sk-toggleable__label-arrow:before {content: \"▾\";}#sk-container-id-11 div.sk-estimator input.sk-toggleable__control:checked~label.sk-toggleable__label {background-color: #d4ebff;}#sk-container-id-11 div.sk-label input.sk-toggleable__control:checked~label.sk-toggleable__label {background-color: #d4ebff;}#sk-container-id-11 input.sk-hidden--visually {border: 0;clip: rect(1px 1px 1px 1px);clip: rect(1px, 1px, 1px, 1px);height: 1px;margin: -1px;overflow: hidden;padding: 0;position: absolute;width: 1px;}#sk-container-id-11 div.sk-estimator {font-family: monospace;background-color: #f0f8ff;border: 1px dotted black;border-radius: 0.25em;box-sizing: border-box;margin-bottom: 0.5em;}#sk-container-id-11 div.sk-estimator:hover {background-color: #d4ebff;}#sk-container-id-11 div.sk-parallel-item::after {content: \"\";width: 100%;border-bottom: 1px solid gray;flex-grow: 1;}#sk-container-id-11 div.sk-label:hover label.sk-toggleable__label {background-color: #d4ebff;}#sk-container-id-11 div.sk-serial::before {content: \"\";position: absolute;border-left: 1px solid gray;box-sizing: border-box;top: 0;bottom: 0;left: 50%;z-index: 0;}#sk-container-id-11 div.sk-serial {display: flex;flex-direction: column;align-items: center;background-color: white;padding-right: 0.2em;padding-left: 0.2em;position: relative;}#sk-container-id-11 div.sk-item {position: relative;z-index: 1;}#sk-container-id-11 div.sk-parallel {display: flex;align-items: stretch;justify-content: center;background-color: white;position: relative;}#sk-container-id-11 div.sk-item::before, #sk-container-id-11 div.sk-parallel-item::before {content: \"\";position: absolute;border-left: 1px solid gray;box-sizing: border-box;top: 0;bottom: 0;left: 50%;z-index: -1;}#sk-container-id-11 div.sk-parallel-item {display: flex;flex-direction: column;z-index: 1;position: relative;background-color: white;}#sk-container-id-11 div.sk-parallel-item:first-child::after {align-self: flex-end;width: 50%;}#sk-container-id-11 div.sk-parallel-item:last-child::after {align-self: flex-start;width: 50%;}#sk-container-id-11 div.sk-parallel-item:only-child::after {width: 0;}#sk-container-id-11 div.sk-dashed-wrapped {border: 1px dashed gray;margin: 0 0.4em 0.5em 0.4em;box-sizing: border-box;padding-bottom: 0.4em;background-color: white;}#sk-container-id-11 div.sk-label label {font-family: monospace;font-weight: bold;display: inline-block;line-height: 1.2em;}#sk-container-id-11 div.sk-label-container {text-align: center;}#sk-container-id-11 div.sk-container {/* jupyter's `normalize.less` sets `[hidden] { display: none; }` but bootstrap.min.css set `[hidden] { display: none !important; }` so we also need the `!important` here to be able to override the default hidden behavior on the sphinx rendered scikit-learn.org. See: https://github.com/scikit-learn/scikit-learn/issues/21755 */display: inline-block !important;position: relative;}#sk-container-id-11 div.sk-text-repr-fallback {display: none;}</style><div id=\"sk-container-id-11\" class=\"sk-top-container\"><div class=\"sk-text-repr-fallback\"><pre>SGDClassifier(alpha=0.005, class_weight={0: 0.1, 1: 2}, eta0=0.1,\n",
              "              learning_rate=&#x27;constant&#x27;, loss=&#x27;log_loss&#x27;, random_state=1729)</pre><b>In a Jupyter environment, please rerun this cell to show the HTML representation or trust the notebook. <br />On GitHub, the HTML representation is unable to render, please try loading this page with nbviewer.org.</b></div><div class=\"sk-container\" hidden><div class=\"sk-item\"><div class=\"sk-estimator sk-toggleable\"><input class=\"sk-toggleable__control sk-hidden--visually\" id=\"sk-estimator-id-19\" type=\"checkbox\" checked><label for=\"sk-estimator-id-19\" class=\"sk-toggleable__label sk-toggleable__label-arrow\">SGDClassifier</label><div class=\"sk-toggleable__content\"><pre>SGDClassifier(alpha=0.005, class_weight={0: 0.1, 1: 2}, eta0=0.1,\n",
              "              learning_rate=&#x27;constant&#x27;, loss=&#x27;log_loss&#x27;, random_state=1729)</pre></div></div></div></div></div>"
            ]
          },
          "metadata": {},
          "execution_count": 230
        }
      ],
      "source": [
        "# estimator2 = SGDClassifier(loss='log', learning_rate = 'constant', alpha = 0.0001, eta0 = 0.5, class_weight = 'balanced', random_state = rs)\n",
        "estimator2 = SGDClassifier(loss='log_loss',\n",
        "                           learning_rate = 'constant',\n",
        "                           **best_params,\n",
        "                           class_weight = {1:2, 0:0.1},\n",
        "                           random_state = 1729)\n",
        "\n",
        "estimator2.fit(X_train, y_train)"
      ]
    },
    {
      "cell_type": "code",
      "source": [
        "estimator2.score(X_test, y_test)\n",
        "\n",
        "predictions = estimator2.predict(X_test)\n",
        "cm = confusion_matrix(y_test, predictions, labels=clf.classes_)\n",
        "disp = ConfusionMatrixDisplay(confusion_matrix=cm,\n",
        "                              display_labels=clf.classes_)\n",
        "disp.plot()\n",
        "plt.show()"
      ],
      "metadata": {
        "colab": {
          "base_uri": "https://localhost:8080/",
          "height": 449
        },
        "id": "JAPL0GbDEqNM",
        "outputId": "c432738a-7aaf-4590-ddb2-8f8bc9f5ad41"
      },
      "execution_count": null,
      "outputs": [
        {
          "output_type": "display_data",
          "data": {
            "text/plain": [
              "<Figure size 640x480 with 2 Axes>"
            ],
            "image/png": "[encoded data removed]"
          },
          "metadata": {}
        }
      ]
    },
    {
      "cell_type": "markdown",
      "metadata": {
        "id": "MoJnB1yf74vt"
      },
      "source": [
        "#Week 8"
      ]
    },
    {
      "cell_type": "code",
      "execution_count": null,
      "metadata": {
        "id": "dxoEEJPdXdXA"
      },
      "outputs": [],
      "source": [
        "import pandas as pd\n",
        "import matplotlib.pyplot as plt\n",
        "import seaborn as sns\n",
        "import numpy as np\n",
        "from sklearn import datasets\n",
        "from pandas.plotting import scatter_matrix\n",
        "from sklearn.preprocessing import OrdinalEncoder\n",
        "from sklearn.model_selection import train_test_split\n",
        "# Import the libraries for performing classification\n",
        "from sklearn.svm import SVC\n",
        "from sklearn.metrics import confusion_matrix, ConfusionMatrixDisplay\n",
        "from sklearn.metrics import classification_report\n",
        "# from sklearn.metrics import plot_roc_curve\n",
        "from sklearn.metrics import roc_auc_score\n",
        "from sklearn.preprocessing import StandardScaler, MinMaxScaler\n",
        "from sklearn.pipeline import Pipeline\n",
        "from sklearn import metrics\n",
        "from sklearn.model_selection import cross_val_score\n",
        "from sklearn.model_selection  import GridSearchCV\n",
        "from sklearn.model_selection import train_test_split\n",
        "from sklearn.model_selection import StratifiedShuffleSplit"
      ]
    },
    {
      "cell_type": "markdown",
      "metadata": {
        "id": "vVyTFPuCVNuj"
      },
      "source": [
        "###Q.7 [MCQ][ 5 Marks] Fit an SVM classifier with following parameters:\n",
        "\n",
        "- `kernel='rbf'`\n",
        "- `decision_function_shape='ovr'`\n",
        "- random_state=`1729`  \n",
        "- `C=1`\n",
        "\n",
        "Train the model on training data, and print the confusion matrix on test data.\n",
        "\n",
        "(MCQ)\n",
        "\n",
        "Options:\n",
        "\n",
        "(a) [[1142    0]\n",
        " [  58    0]]\n",
        "\n",
        " (b)  [[1141    0]\n",
        " [  59    0]]\n",
        "\n",
        "\n",
        " (c)  [[1139    0]\n",
        " [  61    0]]\n",
        "\n",
        " (d) [[1150   0]\n",
        " [ 50   0]]\n",
        "\n",
        " (e) [[1000    0]\n",
        " [ 200    0]]\n",
        "\n",
        "\n",
        "Answer\n",
        "\n",
        "V1: A\n",
        "\n",
        "V2: B\n",
        "\n",
        "V3: C"
      ]
    },
    {
      "cell_type": "code",
      "execution_count": null,
      "metadata": {
        "id": "HxbDFOcAUZAr",
        "colab": {
          "base_uri": "https://localhost:8080/"
        },
        "outputId": "1f927ee6-2385-42b6-8c3c-74ea438a6a0a"
      },
      "outputs": [
        {
          "output_type": "stream",
          "name": "stdout",
          "text": [
            "Confusion matrix : \n",
            " [[1139    0]\n",
            " [  61    0]]\n"
          ]
        }
      ],
      "source": [
        "svc =  SVC(kernel='rbf',\n",
        "           decision_function_shape='ovr',\n",
        "           C=1,\n",
        "           random_state=1729)\n",
        "\n",
        "svc.fit(X_train,y_train)\n",
        "\n",
        "\n",
        "y_pred = svc.predict(X_test)\n",
        "\n",
        "cm = confusion_matrix(y_test, y_pred)\n",
        "print('Confusion matrix : \\n', cm)\n"
      ]
    },
    {
      "cell_type": "markdown",
      "metadata": {
        "id": "ttKqeMkr74x0"
      },
      "source": [
        "#Week 9"
      ]
    },
    {
      "cell_type": "markdown",
      "metadata": {
        "id": "soNA0inKfA6l"
      },
      "source": [
        "###Instructions for Q8-10\n",
        "Train a Decision Tree Classifier with the following properties:\n",
        "\n",
        "- criterion = 'entropy',\n",
        "- splitter = 'random',\n",
        "- min_samples_split = 4,\n",
        "- min_impurity_decrease = 0.0001,\n",
        "- random_state = 1729\n",
        "\n"
      ]
    },
    {
      "cell_type": "code",
      "execution_count": null,
      "metadata": {
        "id": "HyXpBScUfge8",
        "colab": {
          "base_uri": "https://localhost:8080/",
          "height": 109
        },
        "outputId": "c9b9399b-5f73-400a-e23c-326a734a0f2c"
      },
      "outputs": [
        {
          "output_type": "execute_result",
          "data": {
            "text/plain": [
              "DecisionTreeClassifier(criterion='entropy', min_impurity_decrease=0.0001,\n",
              "                       min_samples_split=4, random_state=1729,\n",
              "                       splitter='random')"
            ],
            "text/html": [
              "<style>#sk-container-id-8 {color: black;background-color: white;}#sk-container-id-8 pre{padding: 0;}#sk-container-id-8 div.sk-toggleable {background-color: white;}#sk-container-id-8 label.sk-toggleable__label {cursor: pointer;display: block;width: 100%;margin-bottom: 0;padding: 0.3em;box-sizing: border-box;text-align: center;}#sk-container-id-8 label.sk-toggleable__label-arrow:before {content: \"▸\";float: left;margin-right: 0.25em;color: #696969;}#sk-container-id-8 label.sk-toggleable__label-arrow:hover:before {color: black;}#sk-container-id-8 div.sk-estimator:hover label.sk-toggleable__label-arrow:before {color: black;}#sk-container-id-8 div.sk-toggleable__content {max-height: 0;max-width: 0;overflow: hidden;text-align: left;background-color: #f0f8ff;}#sk-container-id-8 div.sk-toggleable__content pre {margin: 0.2em;color: black;border-radius: 0.25em;background-color: #f0f8ff;}#sk-container-id-8 input.sk-toggleable__control:checked~div.sk-toggleable__content {max-height: 200px;max-width: 100%;overflow: auto;}#sk-container-id-8 input.sk-toggleable__control:checked~label.sk-toggleable__label-arrow:before {content: \"▾\";}#sk-container-id-8 div.sk-estimator input.sk-toggleable__control:checked~label.sk-toggleable__label {background-color: #d4ebff;}#sk-container-id-8 div.sk-label input.sk-toggleable__control:checked~label.sk-toggleable__label {background-color: #d4ebff;}#sk-container-id-8 input.sk-hidden--visually {border: 0;clip: rect(1px 1px 1px 1px);clip: rect(1px, 1px, 1px, 1px);height: 1px;margin: -1px;overflow: hidden;padding: 0;position: absolute;width: 1px;}#sk-container-id-8 div.sk-estimator {font-family: monospace;background-color: #f0f8ff;border: 1px dotted black;border-radius: 0.25em;box-sizing: border-box;margin-bottom: 0.5em;}#sk-container-id-8 div.sk-estimator:hover {background-color: #d4ebff;}#sk-container-id-8 div.sk-parallel-item::after {content: \"\";width: 100%;border-bottom: 1px solid gray;flex-grow: 1;}#sk-container-id-8 div.sk-label:hover label.sk-toggleable__label {background-color: #d4ebff;}#sk-container-id-8 div.sk-serial::before {content: \"\";position: absolute;border-left: 1px solid gray;box-sizing: border-box;top: 0;bottom: 0;left: 50%;z-index: 0;}#sk-container-id-8 div.sk-serial {display: flex;flex-direction: column;align-items: center;background-color: white;padding-right: 0.2em;padding-left: 0.2em;position: relative;}#sk-container-id-8 div.sk-item {position: relative;z-index: 1;}#sk-container-id-8 div.sk-parallel {display: flex;align-items: stretch;justify-content: center;background-color: white;position: relative;}#sk-container-id-8 div.sk-item::before, #sk-container-id-8 div.sk-parallel-item::before {content: \"\";position: absolute;border-left: 1px solid gray;box-sizing: border-box;top: 0;bottom: 0;left: 50%;z-index: -1;}#sk-container-id-8 div.sk-parallel-item {display: flex;flex-direction: column;z-index: 1;position: relative;background-color: white;}#sk-container-id-8 div.sk-parallel-item:first-child::after {align-self: flex-end;width: 50%;}#sk-container-id-8 div.sk-parallel-item:last-child::after {align-self: flex-start;width: 50%;}#sk-container-id-8 div.sk-parallel-item:only-child::after {width: 0;}#sk-container-id-8 div.sk-dashed-wrapped {border: 1px dashed gray;margin: 0 0.4em 0.5em 0.4em;box-sizing: border-box;padding-bottom: 0.4em;background-color: white;}#sk-container-id-8 div.sk-label label {font-family: monospace;font-weight: bold;display: inline-block;line-height: 1.2em;}#sk-container-id-8 div.sk-label-container {text-align: center;}#sk-container-id-8 div.sk-container {/* jupyter's `normalize.less` sets `[hidden] { display: none; }` but bootstrap.min.css set `[hidden] { display: none !important; }` so we also need the `!important` here to be able to override the default hidden behavior on the sphinx rendered scikit-learn.org. See: https://github.com/scikit-learn/scikit-learn/issues/21755 */display: inline-block !important;position: relative;}#sk-container-id-8 div.sk-text-repr-fallback {display: none;}</style><div id=\"sk-container-id-8\" class=\"sk-top-container\"><div class=\"sk-text-repr-fallback\"><pre>DecisionTreeClassifier(criterion=&#x27;entropy&#x27;, min_impurity_decrease=0.0001,\n",
              "                       min_samples_split=4, random_state=1729,\n",
              "                       splitter=&#x27;random&#x27;)</pre><b>In a Jupyter environment, please rerun this cell to show the HTML representation or trust the notebook. <br />On GitHub, the HTML representation is unable to render, please try loading this page with nbviewer.org.</b></div><div class=\"sk-container\" hidden><div class=\"sk-item\"><div class=\"sk-estimator sk-toggleable\"><input class=\"sk-toggleable__control sk-hidden--visually\" id=\"sk-estimator-id-8\" type=\"checkbox\" checked><label for=\"sk-estimator-id-8\" class=\"sk-toggleable__label sk-toggleable__label-arrow\">DecisionTreeClassifier</label><div class=\"sk-toggleable__content\"><pre>DecisionTreeClassifier(criterion=&#x27;entropy&#x27;, min_impurity_decrease=0.0001,\n",
              "                       min_samples_split=4, random_state=1729,\n",
              "                       splitter=&#x27;random&#x27;)</pre></div></div></div></div></div>"
            ]
          },
          "metadata": {},
          "execution_count": 52
        }
      ],
      "source": [
        "from sklearn.tree import DecisionTreeClassifier\n",
        "model_DT = DecisionTreeClassifier(criterion = 'entropy',\n",
        "                                  splitter = 'random',\n",
        "                                  min_samples_split = 4,\n",
        "                                  min_impurity_decrease = 0.0001,\n",
        "                                  random_state = 1729)\n",
        "model_DT.fit(X_train, y_train)"
      ]
    },
    {
      "cell_type": "markdown",
      "metadata": {
        "id": "XVrUzdVQiSqC"
      },
      "source": [
        "###Q.8 [MCQ][5 Marks] What is the resultant depth of the tree?\n",
        "\n",
        "\n",
        "A. 18\n",
        "\n",
        "B. 20\n",
        "\n",
        "C. 21\n",
        "\n",
        "D. 24\n",
        "\n",
        "E. 26\n",
        "\n",
        "Answer:\n",
        "\n",
        "V1: B\n",
        "\n",
        "V2: B\n",
        "\n",
        "V3: A"
      ]
    },
    {
      "cell_type": "code",
      "execution_count": null,
      "metadata": {
        "id": "hSR1g6dvha_y",
        "colab": {
          "base_uri": "https://localhost:8080/"
        },
        "outputId": "82fe773f-ab55-4277-9879-290ae5ef8abf"
      },
      "outputs": [
        {
          "output_type": "execute_result",
          "data": {
            "text/plain": [
              "18"
            ]
          },
          "metadata": {},
          "execution_count": 235
        }
      ],
      "source": [
        "model_DT.get_depth()"
      ]
    },
    {
      "cell_type": "markdown",
      "metadata": {
        "id": "ZRSqxvhTiXCM"
      },
      "source": [
        "### Q.9 [MCQ][Marks 5] How many nodes are there in the tree?\n",
        "\n",
        "\n",
        "A. 495\n",
        "\n",
        "B. 515\n",
        "\n",
        "C. 491\n",
        "\n",
        "D. 589\n",
        "\n",
        "E. 571\n",
        "\n",
        "Answer:\n",
        "\n",
        "V1: B (515)\n",
        "\n",
        "V2: A (495)\n",
        "\n",
        "V3: C (491)"
      ]
    },
    {
      "cell_type": "code",
      "execution_count": null,
      "metadata": {
        "id": "aANWRdkOjnJ2",
        "colab": {
          "base_uri": "https://localhost:8080/"
        },
        "outputId": "477de653-4645-4c1d-bcc3-adba38a1fb10"
      },
      "outputs": [
        {
          "output_type": "execute_result",
          "data": {
            "text/plain": [
              "491"
            ]
          },
          "metadata": {},
          "execution_count": 53
        }
      ],
      "source": [
        "model_DT.tree_.node_count"
      ]
    },
    {
      "cell_type": "markdown",
      "metadata": {
        "id": "Xu1JYuqJiaN8"
      },
      "source": [
        "###Q.10 [NAT][5 Marks] What is the value of entropy at the left child of root?\n",
        "\n",
        "Answer:\n",
        "\n",
        "V1: 0.025 Range:0.0245 to 0.0255\n",
        "\n",
        "V2: 0.032 Range: 0.027 to 0.037\n",
        "\n",
        "V3: 0.025 Range:0.0245 to 0.0255"
      ]
    },
    {
      "cell_type": "code",
      "source": [
        "# print(model_DT.score(X_train, y_train))\n",
        "# print(model_DT.score(X_test, y_test))"
      ],
      "metadata": {
        "id": "l34SAJntPCFo"
      },
      "execution_count": null,
      "outputs": []
    },
    {
      "cell_type": "code",
      "execution_count": null,
      "metadata": {
        "id": "hoXfPUcBflxV",
        "colab": {
          "base_uri": "https://localhost:8080/",
          "height": 364
        },
        "outputId": "d1ec7f9a-e3f0-4c67-d9d8-b2d8bb5b8abf"
      },
      "outputs": [
        {
          "output_type": "display_data",
          "data": {
            "text/plain": [
              "<Figure size 2000x800 with 1 Axes>"
            ],
            "image/png": "[encoded data removed]"
          },
          "metadata": {}
        }
      ],
      "source": [
        "from sklearn import tree\n",
        "\n",
        "plt.figure(figsize=(20,8), facecolor ='w')\n",
        "\n",
        "# feature_names = df.feature_names\n",
        "#create the tree plot\n",
        "tree.plot_tree(model_DT,\n",
        "                   #use the feature names stored\n",
        "                   #feature_names = feature_names,\n",
        "                   #use the class names stored\n",
        "               rounded = True,\n",
        "               max_depth = 3,\n",
        "               filled = True,\n",
        "               fontsize=12)\n",
        "#show the plot\n",
        "plt.show()"
      ]
    },
    {
      "cell_type": "markdown",
      "metadata": {
        "id": "-fc8nfRL74z8"
      },
      "source": [
        "#Week 10"
      ]
    },
    {
      "cell_type": "code",
      "execution_count": null,
      "metadata": {
        "id": "9D7uOmkRtfuw"
      },
      "outputs": [],
      "source": [
        "from sklearn.ensemble import BaggingClassifier\n",
        "from sklearn.ensemble import RandomForestClassifier\n",
        "from sklearn.ensemble import GradientBoostingClassifier\n",
        "from sklearn.ensemble import AdaBoostClassifier"
      ]
    },
    {
      "cell_type": "markdown",
      "metadata": {
        "id": "8Y63j8AR5mKE"
      },
      "source": [
        "###Q. 11 [MCQ][8 Marks] Out of DecisionTreeClassifier, KNeighborsClassifier and LogisticRegression, which one performs the best when used as base estimator in BaggingClassifier on the test data in terms of accuracy score when 20 base estimators are used ?\n",
        "\n",
        "(Use random state 1729 for BaggingClassifier, DecisionTreeClassifier and LogisticRegression)\n",
        "\n",
        "The metric for best performance will be the lowest 'absolute' difference in the train and test score.\n",
        "\n",
        "A. DecisionTreeClassifier\n",
        "\n",
        "B. KNeighborsClassifier\n",
        "\n",
        "C. LogisticRegression\n",
        "\n",
        "Answer:\n",
        "\n",
        "V1: C\n",
        "\n",
        "V2: C\n",
        "\n",
        "V3: C\n",
        "\n"
      ]
    },
    {
      "cell_type": "code",
      "execution_count": null,
      "metadata": {
        "id": "_ebagqS36CKp"
      },
      "outputs": [],
      "source": [
        "from sklearn.neighbors import KNeighborsClassifier\n",
        "from sklearn.linear_model import LogisticRegression\n",
        "m1 = BaggingClassifier(base_estimator = DecisionTreeClassifier(random_state = 1729),\n",
        "                       n_estimators = 20,\n",
        "                       random_state = 1729)\n",
        "m2 = BaggingClassifier(base_estimator = KNeighborsClassifier(),\n",
        "                       n_estimators = 20,\n",
        "                       random_state = 1729)\n",
        "m3 = BaggingClassifier(base_estimator = LogisticRegression(random_state = 1729),\n",
        "                       n_estimators = 20,\n",
        "                       random_state = 1729)"
      ]
    },
    {
      "cell_type": "code",
      "execution_count": null,
      "metadata": {
        "id": "Fk1I6hBC-okB",
        "colab": {
          "base_uri": "https://localhost:8080/"
        },
        "outputId": "0bd7d11e-8cc3-45bb-8dac-47cb9e9188a9"
      },
      "outputs": [
        {
          "output_type": "stream",
          "name": "stderr",
          "text": [
            "/usr/local/lib/python3.10/dist-packages/sklearn/ensemble/_base.py:166: FutureWarning: `base_estimator` was renamed to `estimator` in version 1.2 and will be removed in 1.4.\n",
            "  warnings.warn(\n",
            "/usr/local/lib/python3.10/dist-packages/sklearn/ensemble/_base.py:166: FutureWarning: `base_estimator` was renamed to `estimator` in version 1.2 and will be removed in 1.4.\n",
            "  warnings.warn(\n",
            "/usr/local/lib/python3.10/dist-packages/sklearn/ensemble/_base.py:166: FutureWarning: `base_estimator` was renamed to `estimator` in version 1.2 and will be removed in 1.4.\n",
            "  warnings.warn(\n"
          ]
        },
        {
          "output_type": "stream",
          "name": "stdout",
          "text": [
            "0.0569047619047619\n",
            "0.011666666666666714\n",
            "0.0004761904761904079\n"
          ]
        }
      ],
      "source": [
        "m1.fit(X_train, y_train)\n",
        "m2.fit(X_train, y_train)\n",
        "m3.fit(X_train, y_train)\n",
        "\n",
        "print(np.abs(m1.score(X_train, y_train)-m1.score(X_test, y_test)))\n",
        "print(np.abs(m2.score(X_train, y_train)-m2.score(X_test, y_test)))\n",
        "print(np.abs(m3.score(X_train, y_train)-m3.score(X_test, y_test)))"
      ]
    },
    {
      "cell_type": "markdown",
      "metadata": {
        "id": "XrhFb06E6bSQ"
      },
      "source": [
        "### Q. 12 [NAT] [8 Marks] When the above three individual classifiers (with same settings) are used in VotingClassifier, how much absolute difference do we obtain in train and test scores? Enter your answer correct upto 4 decimal places.\n",
        "\n",
        "Answer:\n",
        "\n",
        "V1: 0.0042 Range : 0.0037 to 0.0047\n",
        "\n",
        "V2: 0.00654 range: 0.006 to 0.007\n",
        "\n",
        "V3: 0.00821 Range: 0.0077 0.0087"
      ]
    },
    {
      "cell_type": "code",
      "execution_count": null,
      "metadata": {
        "id": "oC1FfX5GAF5y",
        "colab": {
          "base_uri": "https://localhost:8080/"
        },
        "outputId": "e77cdf3b-66ff-4a20-fc9e-0a3b64b992e8"
      },
      "outputs": [
        {
          "output_type": "stream",
          "name": "stdout",
          "text": [
            "0.00821428571428573\n"
          ]
        }
      ],
      "source": [
        "from sklearn.ensemble import VotingClassifier\n",
        "\n",
        "m1 = DecisionTreeClassifier(random_state = 1729)\n",
        "m2 = KNeighborsClassifier()\n",
        "m3 = LogisticRegression(random_state = 1729)\n",
        "\n",
        "vc = VotingClassifier(estimators = [('DT', m1),\n",
        "                                    ('KN', m2),\n",
        "                                    ('LR', m3)],\n",
        "                      voting = 'hard')\n",
        "\n",
        "vc.fit(X_train, y_train)\n",
        "\n",
        "print(vc.score(X_train, y_train)-vc.score(X_test, y_test))"
      ]
    }
  ],
  "metadata": {
    "colab": {
      "provenance": [],
      "include_colab_link": true
    },
    "kernelspec": {
      "display_name": "Python 3",
      "name": "python3"
    },
    "language_info": {
      "name": "python"
    }
  },
  "nbformat": 4,
  "nbformat_minor": 0
}
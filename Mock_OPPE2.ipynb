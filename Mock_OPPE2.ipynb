{
  "nbformat": 4,
  "nbformat_minor": 0,
  "metadata": {
    "colab": {
      "provenance": [],
      "authorship_tag": "ABX9TyO2SakDOCa3b5q7JE/Wb43T",
      "include_colab_link": true
    },
    "kernelspec": {
      "name": "python3",
      "display_name": "Python 3"
    },
    "language_info": {
      "name": "python"
    }
  },
  "cells": [
    {
      "cell_type": "markdown",
      "metadata": {
        "id": "view-in-github",
        "colab_type": "text"
      },
      "source": [
        "<a href=\"https://colab.research.google.com/github/Mohd-Talha0/MLP/blob/main/Mock_OPPE2.ipynb\" target=\"_parent\"><img src=\"https://colab.research.google.com/assets/colab-badge.svg\" alt=\"Open In Colab\"/></a>"
      ]
    },
    {
      "cell_type": "code",
      "execution_count": 3,
      "metadata": {
        "colab": {
          "base_uri": "https://localhost:8080/"
        },
        "id": "Hagrrg3PO5NZ",
        "outputId": "d8d81b42-131b-43d8-9e2d-0126fb7163cd"
      },
      "outputs": [
        {
          "output_type": "execute_result",
          "data": {
            "text/plain": [
              "(20000, 15)"
            ]
          },
          "metadata": {},
          "execution_count": 3
        }
      ],
      "source": [
        "import pandas as pd\n",
        "data = pd.read_csv('/content/V1.csv')\n",
        "\n",
        "data.shape"
      ]
    },
    {
      "cell_type": "code",
      "source": [
        "data.head()"
      ],
      "metadata": {
        "colab": {
          "base_uri": "https://localhost:8080/",
          "height": 365
        },
        "id": "8EMbz6f6Wwfl",
        "outputId": "5d1a74d2-db57-47f6-e18a-0a205f413f11"
      },
      "execution_count": 32,
      "outputs": [
        {
          "output_type": "execute_result",
          "data": {
            "text/plain": [
              "   age          workclass  fnlwgt   education  education-num  \\\n",
              "0   62   Self-emp-not-inc   26911     7th-8th              4   \n",
              "1   18            Private  208103        11th              7   \n",
              "2   25            Private  102476   Bachelors             13   \n",
              "3   33            Private  511517     HS-grad              9   \n",
              "4   36            Private  292570        11th              7   \n",
              "\n",
              "        marital-status          occupation     relationship    race      sex  \\\n",
              "0              Widowed       Other-service    Not-in-family   White   Female   \n",
              "1        Never-married       Other-service   Other-relative   White     Male   \n",
              "2        Never-married     Farming-fishing        Own-child   White     Male   \n",
              "3   Married-civ-spouse      Prof-specialty          Husband   White     Male   \n",
              "4        Never-married   Machine-op-inspct        Unmarried   White   Female   \n",
              "\n",
              "   capital-gain  capital-loss  hours-per-week  native-country IncomeGroup  \n",
              "0             0             0              66   United-States       <=50K  \n",
              "1             0             0              25   United-States       <=50K  \n",
              "2         27828             0              50   United-States        >50K  \n",
              "3             0             0              40   United-States       <=50K  \n",
              "4             0             0              40   United-States       <=50K  "
            ],
            "text/html": [
              "\n",
              "  <div id=\"df-5ceca5f9-7b11-4f62-8c7b-006ee46010b7\" class=\"colab-df-container\">\n",
              "    <div>\n",
              "<style scoped>\n",
              "    .dataframe tbody tr th:only-of-type {\n",
              "        vertical-align: middle;\n",
              "    }\n",
              "\n",
              "    .dataframe tbody tr th {\n",
              "        vertical-align: top;\n",
              "    }\n",
              "\n",
              "    .dataframe thead th {\n",
              "        text-align: right;\n",
              "    }\n",
              "</style>\n",
              "<table border=\"1\" class=\"dataframe\">\n",
              "  <thead>\n",
              "    <tr style=\"text-align: right;\">\n",
              "      <th></th>\n",
              "      <th>age</th>\n",
              "      <th>workclass</th>\n",
              "      <th>fnlwgt</th>\n",
              "      <th>education</th>\n",
              "      <th>education-num</th>\n",
              "      <th>marital-status</th>\n",
              "      <th>occupation</th>\n",
              "      <th>relationship</th>\n",
              "      <th>race</th>\n",
              "      <th>sex</th>\n",
              "      <th>capital-gain</th>\n",
              "      <th>capital-loss</th>\n",
              "      <th>hours-per-week</th>\n",
              "      <th>native-country</th>\n",
              "      <th>IncomeGroup</th>\n",
              "    </tr>\n",
              "  </thead>\n",
              "  <tbody>\n",
              "    <tr>\n",
              "      <th>0</th>\n",
              "      <td>62</td>\n",
              "      <td>Self-emp-not-inc</td>\n",
              "      <td>26911</td>\n",
              "      <td>7th-8th</td>\n",
              "      <td>4</td>\n",
              "      <td>Widowed</td>\n",
              "      <td>Other-service</td>\n",
              "      <td>Not-in-family</td>\n",
              "      <td>White</td>\n",
              "      <td>Female</td>\n",
              "      <td>0</td>\n",
              "      <td>0</td>\n",
              "      <td>66</td>\n",
              "      <td>United-States</td>\n",
              "      <td>&lt;=50K</td>\n",
              "    </tr>\n",
              "    <tr>\n",
              "      <th>1</th>\n",
              "      <td>18</td>\n",
              "      <td>Private</td>\n",
              "      <td>208103</td>\n",
              "      <td>11th</td>\n",
              "      <td>7</td>\n",
              "      <td>Never-married</td>\n",
              "      <td>Other-service</td>\n",
              "      <td>Other-relative</td>\n",
              "      <td>White</td>\n",
              "      <td>Male</td>\n",
              "      <td>0</td>\n",
              "      <td>0</td>\n",
              "      <td>25</td>\n",
              "      <td>United-States</td>\n",
              "      <td>&lt;=50K</td>\n",
              "    </tr>\n",
              "    <tr>\n",
              "      <th>2</th>\n",
              "      <td>25</td>\n",
              "      <td>Private</td>\n",
              "      <td>102476</td>\n",
              "      <td>Bachelors</td>\n",
              "      <td>13</td>\n",
              "      <td>Never-married</td>\n",
              "      <td>Farming-fishing</td>\n",
              "      <td>Own-child</td>\n",
              "      <td>White</td>\n",
              "      <td>Male</td>\n",
              "      <td>27828</td>\n",
              "      <td>0</td>\n",
              "      <td>50</td>\n",
              "      <td>United-States</td>\n",
              "      <td>&gt;50K</td>\n",
              "    </tr>\n",
              "    <tr>\n",
              "      <th>3</th>\n",
              "      <td>33</td>\n",
              "      <td>Private</td>\n",
              "      <td>511517</td>\n",
              "      <td>HS-grad</td>\n",
              "      <td>9</td>\n",
              "      <td>Married-civ-spouse</td>\n",
              "      <td>Prof-specialty</td>\n",
              "      <td>Husband</td>\n",
              "      <td>White</td>\n",
              "      <td>Male</td>\n",
              "      <td>0</td>\n",
              "      <td>0</td>\n",
              "      <td>40</td>\n",
              "      <td>United-States</td>\n",
              "      <td>&lt;=50K</td>\n",
              "    </tr>\n",
              "    <tr>\n",
              "      <th>4</th>\n",
              "      <td>36</td>\n",
              "      <td>Private</td>\n",
              "      <td>292570</td>\n",
              "      <td>11th</td>\n",
              "      <td>7</td>\n",
              "      <td>Never-married</td>\n",
              "      <td>Machine-op-inspct</td>\n",
              "      <td>Unmarried</td>\n",
              "      <td>White</td>\n",
              "      <td>Female</td>\n",
              "      <td>0</td>\n",
              "      <td>0</td>\n",
              "      <td>40</td>\n",
              "      <td>United-States</td>\n",
              "      <td>&lt;=50K</td>\n",
              "    </tr>\n",
              "  </tbody>\n",
              "</table>\n",
              "</div>\n",
              "    <div class=\"colab-df-buttons\">\n",
              "\n",
              "  <div class=\"colab-df-container\">\n",
              "    <button class=\"colab-df-convert\" onclick=\"convertToInteractive('df-5ceca5f9-7b11-4f62-8c7b-006ee46010b7')\"\n",
              "            title=\"Convert this dataframe to an interactive table.\"\n",
              "            style=\"display:none;\">\n",
              "\n",
              "  <svg xmlns=\"http://www.w3.org/2000/svg\" height=\"24px\" viewBox=\"0 -960 960 960\">\n",
              "    <path d=\"M120-120v-720h720v720H120Zm60-500h600v-160H180v160Zm220 220h160v-160H400v160Zm0 220h160v-160H400v160ZM180-400h160v-160H180v160Zm440 0h160v-160H620v160ZM180-180h160v-160H180v160Zm440 0h160v-160H620v160Z\"/>\n",
              "  </svg>\n",
              "    </button>\n",
              "\n",
              "  <style>\n",
              "    .colab-df-container {\n",
              "      display:flex;\n",
              "      gap: 12px;\n",
              "    }\n",
              "\n",
              "    .colab-df-convert {\n",
              "      background-color: #E8F0FE;\n",
              "      border: none;\n",
              "      border-radius: 50%;\n",
              "      cursor: pointer;\n",
              "      display: none;\n",
              "      fill: #1967D2;\n",
              "      height: 32px;\n",
              "      padding: 0 0 0 0;\n",
              "      width: 32px;\n",
              "    }\n",
              "\n",
              "    .colab-df-convert:hover {\n",
              "      background-color: #E2EBFA;\n",
              "      box-shadow: 0px 1px 2px rgba(60, 64, 67, 0.3), 0px 1px 3px 1px rgba(60, 64, 67, 0.15);\n",
              "      fill: #174EA6;\n",
              "    }\n",
              "\n",
              "    .colab-df-buttons div {\n",
              "      margin-bottom: 4px;\n",
              "    }\n",
              "\n",
              "    [theme=dark] .colab-df-convert {\n",
              "      background-color: #3B4455;\n",
              "      fill: #D2E3FC;\n",
              "    }\n",
              "\n",
              "    [theme=dark] .colab-df-convert:hover {\n",
              "      background-color: #434B5C;\n",
              "      box-shadow: 0px 1px 3px 1px rgba(0, 0, 0, 0.15);\n",
              "      filter: drop-shadow(0px 1px 2px rgba(0, 0, 0, 0.3));\n",
              "      fill: #FFFFFF;\n",
              "    }\n",
              "  </style>\n",
              "\n",
              "    <script>\n",
              "      const buttonEl =\n",
              "        document.querySelector('#df-5ceca5f9-7b11-4f62-8c7b-006ee46010b7 button.colab-df-convert');\n",
              "      buttonEl.style.display =\n",
              "        google.colab.kernel.accessAllowed ? 'block' : 'none';\n",
              "\n",
              "      async function convertToInteractive(key) {\n",
              "        const element = document.querySelector('#df-5ceca5f9-7b11-4f62-8c7b-006ee46010b7');\n",
              "        const dataTable =\n",
              "          await google.colab.kernel.invokeFunction('convertToInteractive',\n",
              "                                                    [key], {});\n",
              "        if (!dataTable) return;\n",
              "\n",
              "        const docLinkHtml = 'Like what you see? Visit the ' +\n",
              "          '<a target=\"_blank\" href=https://colab.research.google.com/notebooks/data_table.ipynb>data table notebook</a>'\n",
              "          + ' to learn more about interactive tables.';\n",
              "        element.innerHTML = '';\n",
              "        dataTable['output_type'] = 'display_data';\n",
              "        await google.colab.output.renderOutput(dataTable, element);\n",
              "        const docLink = document.createElement('div');\n",
              "        docLink.innerHTML = docLinkHtml;\n",
              "        element.appendChild(docLink);\n",
              "      }\n",
              "    </script>\n",
              "  </div>\n",
              "\n",
              "\n",
              "<div id=\"df-db20c23f-2f57-4168-9ec3-96c5da21fa8c\">\n",
              "  <button class=\"colab-df-quickchart\" onclick=\"quickchart('df-db20c23f-2f57-4168-9ec3-96c5da21fa8c')\"\n",
              "            title=\"Suggest charts\"\n",
              "            style=\"display:none;\">\n",
              "\n",
              "<svg xmlns=\"http://www.w3.org/2000/svg\" height=\"24px\"viewBox=\"0 0 24 24\"\n",
              "     width=\"24px\">\n",
              "    <g>\n",
              "        <path d=\"M19 3H5c-1.1 0-2 .9-2 2v14c0 1.1.9 2 2 2h14c1.1 0 2-.9 2-2V5c0-1.1-.9-2-2-2zM9 17H7v-7h2v7zm4 0h-2V7h2v10zm4 0h-2v-4h2v4z\"/>\n",
              "    </g>\n",
              "</svg>\n",
              "  </button>\n",
              "\n",
              "<style>\n",
              "  .colab-df-quickchart {\n",
              "      --bg-color: #E8F0FE;\n",
              "      --fill-color: #1967D2;\n",
              "      --hover-bg-color: #E2EBFA;\n",
              "      --hover-fill-color: #174EA6;\n",
              "      --disabled-fill-color: #AAA;\n",
              "      --disabled-bg-color: #DDD;\n",
              "  }\n",
              "\n",
              "  [theme=dark] .colab-df-quickchart {\n",
              "      --bg-color: #3B4455;\n",
              "      --fill-color: #D2E3FC;\n",
              "      --hover-bg-color: #434B5C;\n",
              "      --hover-fill-color: #FFFFFF;\n",
              "      --disabled-bg-color: #3B4455;\n",
              "      --disabled-fill-color: #666;\n",
              "  }\n",
              "\n",
              "  .colab-df-quickchart {\n",
              "    background-color: var(--bg-color);\n",
              "    border: none;\n",
              "    border-radius: 50%;\n",
              "    cursor: pointer;\n",
              "    display: none;\n",
              "    fill: var(--fill-color);\n",
              "    height: 32px;\n",
              "    padding: 0;\n",
              "    width: 32px;\n",
              "  }\n",
              "\n",
              "  .colab-df-quickchart:hover {\n",
              "    background-color: var(--hover-bg-color);\n",
              "    box-shadow: 0 1px 2px rgba(60, 64, 67, 0.3), 0 1px 3px 1px rgba(60, 64, 67, 0.15);\n",
              "    fill: var(--button-hover-fill-color);\n",
              "  }\n",
              "\n",
              "  .colab-df-quickchart-complete:disabled,\n",
              "  .colab-df-quickchart-complete:disabled:hover {\n",
              "    background-color: var(--disabled-bg-color);\n",
              "    fill: var(--disabled-fill-color);\n",
              "    box-shadow: none;\n",
              "  }\n",
              "\n",
              "  .colab-df-spinner {\n",
              "    border: 2px solid var(--fill-color);\n",
              "    border-color: transparent;\n",
              "    border-bottom-color: var(--fill-color);\n",
              "    animation:\n",
              "      spin 1s steps(1) infinite;\n",
              "  }\n",
              "\n",
              "  @keyframes spin {\n",
              "    0% {\n",
              "      border-color: transparent;\n",
              "      border-bottom-color: var(--fill-color);\n",
              "      border-left-color: var(--fill-color);\n",
              "    }\n",
              "    20% {\n",
              "      border-color: transparent;\n",
              "      border-left-color: var(--fill-color);\n",
              "      border-top-color: var(--fill-color);\n",
              "    }\n",
              "    30% {\n",
              "      border-color: transparent;\n",
              "      border-left-color: var(--fill-color);\n",
              "      border-top-color: var(--fill-color);\n",
              "      border-right-color: var(--fill-color);\n",
              "    }\n",
              "    40% {\n",
              "      border-color: transparent;\n",
              "      border-right-color: var(--fill-color);\n",
              "      border-top-color: var(--fill-color);\n",
              "    }\n",
              "    60% {\n",
              "      border-color: transparent;\n",
              "      border-right-color: var(--fill-color);\n",
              "    }\n",
              "    80% {\n",
              "      border-color: transparent;\n",
              "      border-right-color: var(--fill-color);\n",
              "      border-bottom-color: var(--fill-color);\n",
              "    }\n",
              "    90% {\n",
              "      border-color: transparent;\n",
              "      border-bottom-color: var(--fill-color);\n",
              "    }\n",
              "  }\n",
              "</style>\n",
              "\n",
              "  <script>\n",
              "    async function quickchart(key) {\n",
              "      const quickchartButtonEl =\n",
              "        document.querySelector('#' + key + ' button');\n",
              "      quickchartButtonEl.disabled = true;  // To prevent multiple clicks.\n",
              "      quickchartButtonEl.classList.add('colab-df-spinner');\n",
              "      try {\n",
              "        const charts = await google.colab.kernel.invokeFunction(\n",
              "            'suggestCharts', [key], {});\n",
              "      } catch (error) {\n",
              "        console.error('Error during call to suggestCharts:', error);\n",
              "      }\n",
              "      quickchartButtonEl.classList.remove('colab-df-spinner');\n",
              "      quickchartButtonEl.classList.add('colab-df-quickchart-complete');\n",
              "    }\n",
              "    (() => {\n",
              "      let quickchartButtonEl =\n",
              "        document.querySelector('#df-db20c23f-2f57-4168-9ec3-96c5da21fa8c button');\n",
              "      quickchartButtonEl.style.display =\n",
              "        google.colab.kernel.accessAllowed ? 'block' : 'none';\n",
              "    })();\n",
              "  </script>\n",
              "</div>\n",
              "\n",
              "    </div>\n",
              "  </div>\n"
            ],
            "application/vnd.google.colaboratory.intrinsic+json": {
              "type": "dataframe",
              "variable_name": "data",
              "summary": "{\n  \"name\": \"data\",\n  \"rows\": 20000,\n  \"fields\": [\n    {\n      \"column\": \"age\",\n      \"properties\": {\n        \"dtype\": \"number\",\n        \"std\": 13,\n        \"min\": 17,\n        \"max\": 90,\n        \"num_unique_values\": 70,\n        \"samples\": [\n          45,\n          62,\n          67\n        ],\n        \"semantic_type\": \"\",\n        \"description\": \"\"\n      }\n    },\n    {\n      \"column\": \"workclass\",\n      \"properties\": {\n        \"dtype\": \"category\",\n        \"num_unique_values\": 8,\n        \"samples\": [\n          \" Private\",\n          \" State-gov\",\n          \" Self-emp-not-inc\"\n        ],\n        \"semantic_type\": \"\",\n        \"description\": \"\"\n      }\n    },\n    {\n      \"column\": \"fnlwgt\",\n      \"properties\": {\n        \"dtype\": \"number\",\n        \"std\": 105659,\n        \"min\": 12285,\n        \"max\": 1484705,\n        \"num_unique_values\": 15129,\n        \"samples\": [\n          144114,\n          223732,\n          110946\n        ],\n        \"semantic_type\": \"\",\n        \"description\": \"\"\n      }\n    },\n    {\n      \"column\": \"education\",\n      \"properties\": {\n        \"dtype\": \"category\",\n        \"num_unique_values\": 16,\n        \"samples\": [\n          \" 7th-8th\",\n          \" 11th\",\n          \" Masters\"\n        ],\n        \"semantic_type\": \"\",\n        \"description\": \"\"\n      }\n    },\n    {\n      \"column\": \"education-num\",\n      \"properties\": {\n        \"dtype\": \"number\",\n        \"std\": 2,\n        \"min\": 1,\n        \"max\": 16,\n        \"num_unique_values\": 16,\n        \"samples\": [\n          4,\n          7,\n          14\n        ],\n        \"semantic_type\": \"\",\n        \"description\": \"\"\n      }\n    },\n    {\n      \"column\": \"marital-status\",\n      \"properties\": {\n        \"dtype\": \"category\",\n        \"num_unique_values\": 7,\n        \"samples\": [\n          \" Widowed\",\n          \" Never-married\",\n          \" Married-spouse-absent\"\n        ],\n        \"semantic_type\": \"\",\n        \"description\": \"\"\n      }\n    },\n    {\n      \"column\": \"occupation\",\n      \"properties\": {\n        \"dtype\": \"category\",\n        \"num_unique_values\": 14,\n        \"samples\": [\n          \" Transport-moving\",\n          \" Priv-house-serv\",\n          \" Other-service\"\n        ],\n        \"semantic_type\": \"\",\n        \"description\": \"\"\n      }\n    },\n    {\n      \"column\": \"relationship\",\n      \"properties\": {\n        \"dtype\": \"category\",\n        \"num_unique_values\": 6,\n        \"samples\": [\n          \" Not-in-family\",\n          \" Other-relative\",\n          \" Wife\"\n        ],\n        \"semantic_type\": \"\",\n        \"description\": \"\"\n      }\n    },\n    {\n      \"column\": \"race\",\n      \"properties\": {\n        \"dtype\": \"category\",\n        \"num_unique_values\": 5,\n        \"samples\": [\n          \" Black\",\n          \" Amer-Indian-Eskimo\",\n          \" Asian-Pac-Islander\"\n        ],\n        \"semantic_type\": \"\",\n        \"description\": \"\"\n      }\n    },\n    {\n      \"column\": \"sex\",\n      \"properties\": {\n        \"dtype\": \"category\",\n        \"num_unique_values\": 2,\n        \"samples\": [\n          \" Male\",\n          \" Female\"\n        ],\n        \"semantic_type\": \"\",\n        \"description\": \"\"\n      }\n    },\n    {\n      \"column\": \"capital-gain\",\n      \"properties\": {\n        \"dtype\": \"number\",\n        \"std\": 7487,\n        \"min\": 0,\n        \"max\": 99999,\n        \"num_unique_values\": 113,\n        \"samples\": [\n          2050,\n          3674\n        ],\n        \"semantic_type\": \"\",\n        \"description\": \"\"\n      }\n    },\n    {\n      \"column\": \"capital-loss\",\n      \"properties\": {\n        \"dtype\": \"number\",\n        \"std\": 403,\n        \"min\": 0,\n        \"max\": 4356,\n        \"num_unique_values\": 85,\n        \"samples\": [\n          1825,\n          0\n        ],\n        \"semantic_type\": \"\",\n        \"description\": \"\"\n      }\n    },\n    {\n      \"column\": \"hours-per-week\",\n      \"properties\": {\n        \"dtype\": \"number\",\n        \"std\": 12,\n        \"min\": 1,\n        \"max\": 99,\n        \"num_unique_values\": 88,\n        \"samples\": [\n          95,\n          66\n        ],\n        \"semantic_type\": \"\",\n        \"description\": \"\"\n      }\n    },\n    {\n      \"column\": \"native-country\",\n      \"properties\": {\n        \"dtype\": \"category\",\n        \"num_unique_values\": 41,\n        \"samples\": [\n          \" Cambodia\",\n          \" Puerto-Rico\"\n        ],\n        \"semantic_type\": \"\",\n        \"description\": \"\"\n      }\n    },\n    {\n      \"column\": \"IncomeGroup\",\n      \"properties\": {\n        \"dtype\": \"category\",\n        \"num_unique_values\": 2,\n        \"samples\": [\n          \" >50K\",\n          \" <=50K\"\n        ],\n        \"semantic_type\": \"\",\n        \"description\": \"\"\n      }\n    }\n  ]\n}"
            }
          },
          "metadata": {},
          "execution_count": 32
        }
      ]
    },
    {
      "cell_type": "markdown",
      "source": [
        "- Is there any Missing values in the given dataset ?"
      ],
      "metadata": {
        "id": "lN0Z5dzfP6or"
      }
    },
    {
      "cell_type": "code",
      "source": [
        "missing_values = data.isnull()\n",
        "missing_counts = missing_values.sum()\n",
        "print(\"Columns with missing values:\")\n",
        "print(missing_counts[missing_counts > 0])"
      ],
      "metadata": {
        "colab": {
          "base_uri": "https://localhost:8080/"
        },
        "id": "En_X17NVP5Mj",
        "outputId": "7b9a61e9-1ab2-4398-c4cc-fc8b84990b06"
      },
      "execution_count": 26,
      "outputs": [
        {
          "output_type": "stream",
          "name": "stdout",
          "text": [
            "Columns with missing values:\n",
            "workclass         1137\n",
            "occupation        1140\n",
            "native-country     354\n",
            "dtype: int64\n"
          ]
        }
      ]
    },
    {
      "cell_type": "markdown",
      "source": [
        "- Q4 - Check all \" ?\" symbol in the dataset and replace it with \"np.nan\" value . Which of the columns in the dataset have null values?"
      ],
      "metadata": {
        "id": "U1KOLwAQSFbD"
      }
    },
    {
      "cell_type": "code",
      "source": [
        "import numpy as np\n",
        "\n",
        "data.replace(\" ?\", np.nan, inplace=True)\n",
        "columns_with_null = data.columns[data.isnull().any()].tolist()\n",
        "\n",
        "print(\"Columns with null values:\")\n",
        "print(columns_with_null)"
      ],
      "metadata": {
        "colab": {
          "base_uri": "https://localhost:8080/"
        },
        "id": "YsFKzgzsSMRT",
        "outputId": "4bcbe49c-88fd-4348-fc05-0704149906cb"
      },
      "execution_count": 29,
      "outputs": [
        {
          "output_type": "stream",
          "name": "stdout",
          "text": [
            "Columns with null values:\n",
            "['workclass', 'occupation', 'native-country']\n"
          ]
        }
      ]
    },
    {
      "cell_type": "markdown",
      "source": [
        "- Q5 What fraction of total samples (in percentage) have missing value in occupation column?"
      ],
      "metadata": {
        "id": "EffYCoq8Vh6t"
      }
    },
    {
      "cell_type": "code",
      "source": [
        "answer= 100*1140/20000\n",
        "answer"
      ],
      "metadata": {
        "colab": {
          "base_uri": "https://localhost:8080/"
        },
        "id": "FDhLBQaaSpCz",
        "outputId": "68fdecfe-4f56-44ac-d591-332cd858a28b"
      },
      "execution_count": 31,
      "outputs": [
        {
          "output_type": "execute_result",
          "data": {
            "text/plain": [
              "5.7"
            ]
          },
          "metadata": {},
          "execution_count": 31
        }
      ]
    },
    {
      "cell_type": "markdown",
      "source": [
        "- Q6 What fraction of total samples(In percentage) have income <= 50k in the given dataset? (round the value upto 2 decimal places)."
      ],
      "metadata": {
        "id": "74Wf6-6vWL1t"
      }
    },
    {
      "cell_type": "code",
      "source": [
        "criteria = data.IncomeGroup == \" <=50K\"\n",
        "data.loc[criteria]"
      ],
      "metadata": {
        "colab": {
          "base_uri": "https://localhost:8080/",
          "height": 704
        },
        "id": "2WUTYZ2oWSEN",
        "outputId": "77e32263-474c-49d9-bc88-123ef0fe7540"
      },
      "execution_count": 37,
      "outputs": [
        {
          "output_type": "execute_result",
          "data": {
            "text/plain": [
              "       age          workclass  fnlwgt      education  education-num  \\\n",
              "0       62   Self-emp-not-inc   26911        7th-8th              4   \n",
              "1       18            Private  208103           11th              7   \n",
              "3       33            Private  511517        HS-grad              9   \n",
              "4       36            Private  292570           11th              7   \n",
              "6       43            Private  334946        HS-grad              9   \n",
              "...    ...                ...     ...            ...            ...   \n",
              "19993   51   Self-emp-not-inc  171924   Some-college             10   \n",
              "19994   62            Private  252668        Masters             14   \n",
              "19996   62            Private   57970        7th-8th              4   \n",
              "19998   25            Private   29020     Assoc-acdm             12   \n",
              "19999   55            Private  256953        HS-grad              9   \n",
              "\n",
              "            marital-status          occupation     relationship    race  \\\n",
              "0                  Widowed       Other-service    Not-in-family   White   \n",
              "1            Never-married       Other-service   Other-relative   White   \n",
              "3       Married-civ-spouse      Prof-specialty          Husband   White   \n",
              "4            Never-married   Machine-op-inspct        Unmarried   White   \n",
              "6       Married-civ-spouse   Handlers-cleaners          Husband   Black   \n",
              "...                    ...                 ...              ...     ...   \n",
              "19993   Married-civ-spouse               Sales          Husband   White   \n",
              "19994        Never-married      Prof-specialty    Not-in-family   White   \n",
              "19996             Divorced   Handlers-cleaners    Not-in-family   White   \n",
              "19998             Divorced        Adm-clerical    Not-in-family   Black   \n",
              "19999              Widowed   Machine-op-inspct        Unmarried   Black   \n",
              "\n",
              "           sex  capital-gain  capital-loss  hours-per-week  native-country  \\\n",
              "0       Female             0             0              66   United-States   \n",
              "1         Male             0             0              25   United-States   \n",
              "3         Male             0             0              40   United-States   \n",
              "4       Female             0             0              40   United-States   \n",
              "6         Male             0             0              40   United-States   \n",
              "...        ...           ...           ...             ...             ...   \n",
              "19993     Male             0             0              50   United-States   \n",
              "19994     Male             0             0              70   United-States   \n",
              "19996     Male             0             0              40   United-States   \n",
              "19998   Female             0             0              45   United-States   \n",
              "19999   Female             0             0              44   United-States   \n",
              "\n",
              "      IncomeGroup  \n",
              "0           <=50K  \n",
              "1           <=50K  \n",
              "3           <=50K  \n",
              "4           <=50K  \n",
              "6           <=50K  \n",
              "...           ...  \n",
              "19993       <=50K  \n",
              "19994       <=50K  \n",
              "19996       <=50K  \n",
              "19998       <=50K  \n",
              "19999       <=50K  \n",
              "\n",
              "[15302 rows x 15 columns]"
            ],
            "text/html": [
              "\n",
              "  <div id=\"df-828a28fb-4f67-465f-aa4d-f64f72115a67\" class=\"colab-df-container\">\n",
              "    <div>\n",
              "<style scoped>\n",
              "    .dataframe tbody tr th:only-of-type {\n",
              "        vertical-align: middle;\n",
              "    }\n",
              "\n",
              "    .dataframe tbody tr th {\n",
              "        vertical-align: top;\n",
              "    }\n",
              "\n",
              "    .dataframe thead th {\n",
              "        text-align: right;\n",
              "    }\n",
              "</style>\n",
              "<table border=\"1\" class=\"dataframe\">\n",
              "  <thead>\n",
              "    <tr style=\"text-align: right;\">\n",
              "      <th></th>\n",
              "      <th>age</th>\n",
              "      <th>workclass</th>\n",
              "      <th>fnlwgt</th>\n",
              "      <th>education</th>\n",
              "      <th>education-num</th>\n",
              "      <th>marital-status</th>\n",
              "      <th>occupation</th>\n",
              "      <th>relationship</th>\n",
              "      <th>race</th>\n",
              "      <th>sex</th>\n",
              "      <th>capital-gain</th>\n",
              "      <th>capital-loss</th>\n",
              "      <th>hours-per-week</th>\n",
              "      <th>native-country</th>\n",
              "      <th>IncomeGroup</th>\n",
              "    </tr>\n",
              "  </thead>\n",
              "  <tbody>\n",
              "    <tr>\n",
              "      <th>0</th>\n",
              "      <td>62</td>\n",
              "      <td>Self-emp-not-inc</td>\n",
              "      <td>26911</td>\n",
              "      <td>7th-8th</td>\n",
              "      <td>4</td>\n",
              "      <td>Widowed</td>\n",
              "      <td>Other-service</td>\n",
              "      <td>Not-in-family</td>\n",
              "      <td>White</td>\n",
              "      <td>Female</td>\n",
              "      <td>0</td>\n",
              "      <td>0</td>\n",
              "      <td>66</td>\n",
              "      <td>United-States</td>\n",
              "      <td>&lt;=50K</td>\n",
              "    </tr>\n",
              "    <tr>\n",
              "      <th>1</th>\n",
              "      <td>18</td>\n",
              "      <td>Private</td>\n",
              "      <td>208103</td>\n",
              "      <td>11th</td>\n",
              "      <td>7</td>\n",
              "      <td>Never-married</td>\n",
              "      <td>Other-service</td>\n",
              "      <td>Other-relative</td>\n",
              "      <td>White</td>\n",
              "      <td>Male</td>\n",
              "      <td>0</td>\n",
              "      <td>0</td>\n",
              "      <td>25</td>\n",
              "      <td>United-States</td>\n",
              "      <td>&lt;=50K</td>\n",
              "    </tr>\n",
              "    <tr>\n",
              "      <th>3</th>\n",
              "      <td>33</td>\n",
              "      <td>Private</td>\n",
              "      <td>511517</td>\n",
              "      <td>HS-grad</td>\n",
              "      <td>9</td>\n",
              "      <td>Married-civ-spouse</td>\n",
              "      <td>Prof-specialty</td>\n",
              "      <td>Husband</td>\n",
              "      <td>White</td>\n",
              "      <td>Male</td>\n",
              "      <td>0</td>\n",
              "      <td>0</td>\n",
              "      <td>40</td>\n",
              "      <td>United-States</td>\n",
              "      <td>&lt;=50K</td>\n",
              "    </tr>\n",
              "    <tr>\n",
              "      <th>4</th>\n",
              "      <td>36</td>\n",
              "      <td>Private</td>\n",
              "      <td>292570</td>\n",
              "      <td>11th</td>\n",
              "      <td>7</td>\n",
              "      <td>Never-married</td>\n",
              "      <td>Machine-op-inspct</td>\n",
              "      <td>Unmarried</td>\n",
              "      <td>White</td>\n",
              "      <td>Female</td>\n",
              "      <td>0</td>\n",
              "      <td>0</td>\n",
              "      <td>40</td>\n",
              "      <td>United-States</td>\n",
              "      <td>&lt;=50K</td>\n",
              "    </tr>\n",
              "    <tr>\n",
              "      <th>6</th>\n",
              "      <td>43</td>\n",
              "      <td>Private</td>\n",
              "      <td>334946</td>\n",
              "      <td>HS-grad</td>\n",
              "      <td>9</td>\n",
              "      <td>Married-civ-spouse</td>\n",
              "      <td>Handlers-cleaners</td>\n",
              "      <td>Husband</td>\n",
              "      <td>Black</td>\n",
              "      <td>Male</td>\n",
              "      <td>0</td>\n",
              "      <td>0</td>\n",
              "      <td>40</td>\n",
              "      <td>United-States</td>\n",
              "      <td>&lt;=50K</td>\n",
              "    </tr>\n",
              "    <tr>\n",
              "      <th>...</th>\n",
              "      <td>...</td>\n",
              "      <td>...</td>\n",
              "      <td>...</td>\n",
              "      <td>...</td>\n",
              "      <td>...</td>\n",
              "      <td>...</td>\n",
              "      <td>...</td>\n",
              "      <td>...</td>\n",
              "      <td>...</td>\n",
              "      <td>...</td>\n",
              "      <td>...</td>\n",
              "      <td>...</td>\n",
              "      <td>...</td>\n",
              "      <td>...</td>\n",
              "      <td>...</td>\n",
              "    </tr>\n",
              "    <tr>\n",
              "      <th>19993</th>\n",
              "      <td>51</td>\n",
              "      <td>Self-emp-not-inc</td>\n",
              "      <td>171924</td>\n",
              "      <td>Some-college</td>\n",
              "      <td>10</td>\n",
              "      <td>Married-civ-spouse</td>\n",
              "      <td>Sales</td>\n",
              "      <td>Husband</td>\n",
              "      <td>White</td>\n",
              "      <td>Male</td>\n",
              "      <td>0</td>\n",
              "      <td>0</td>\n",
              "      <td>50</td>\n",
              "      <td>United-States</td>\n",
              "      <td>&lt;=50K</td>\n",
              "    </tr>\n",
              "    <tr>\n",
              "      <th>19994</th>\n",
              "      <td>62</td>\n",
              "      <td>Private</td>\n",
              "      <td>252668</td>\n",
              "      <td>Masters</td>\n",
              "      <td>14</td>\n",
              "      <td>Never-married</td>\n",
              "      <td>Prof-specialty</td>\n",
              "      <td>Not-in-family</td>\n",
              "      <td>White</td>\n",
              "      <td>Male</td>\n",
              "      <td>0</td>\n",
              "      <td>0</td>\n",
              "      <td>70</td>\n",
              "      <td>United-States</td>\n",
              "      <td>&lt;=50K</td>\n",
              "    </tr>\n",
              "    <tr>\n",
              "      <th>19996</th>\n",
              "      <td>62</td>\n",
              "      <td>Private</td>\n",
              "      <td>57970</td>\n",
              "      <td>7th-8th</td>\n",
              "      <td>4</td>\n",
              "      <td>Divorced</td>\n",
              "      <td>Handlers-cleaners</td>\n",
              "      <td>Not-in-family</td>\n",
              "      <td>White</td>\n",
              "      <td>Male</td>\n",
              "      <td>0</td>\n",
              "      <td>0</td>\n",
              "      <td>40</td>\n",
              "      <td>United-States</td>\n",
              "      <td>&lt;=50K</td>\n",
              "    </tr>\n",
              "    <tr>\n",
              "      <th>19998</th>\n",
              "      <td>25</td>\n",
              "      <td>Private</td>\n",
              "      <td>29020</td>\n",
              "      <td>Assoc-acdm</td>\n",
              "      <td>12</td>\n",
              "      <td>Divorced</td>\n",
              "      <td>Adm-clerical</td>\n",
              "      <td>Not-in-family</td>\n",
              "      <td>Black</td>\n",
              "      <td>Female</td>\n",
              "      <td>0</td>\n",
              "      <td>0</td>\n",
              "      <td>45</td>\n",
              "      <td>United-States</td>\n",
              "      <td>&lt;=50K</td>\n",
              "    </tr>\n",
              "    <tr>\n",
              "      <th>19999</th>\n",
              "      <td>55</td>\n",
              "      <td>Private</td>\n",
              "      <td>256953</td>\n",
              "      <td>HS-grad</td>\n",
              "      <td>9</td>\n",
              "      <td>Widowed</td>\n",
              "      <td>Machine-op-inspct</td>\n",
              "      <td>Unmarried</td>\n",
              "      <td>Black</td>\n",
              "      <td>Female</td>\n",
              "      <td>0</td>\n",
              "      <td>0</td>\n",
              "      <td>44</td>\n",
              "      <td>United-States</td>\n",
              "      <td>&lt;=50K</td>\n",
              "    </tr>\n",
              "  </tbody>\n",
              "</table>\n",
              "<p>15302 rows × 15 columns</p>\n",
              "</div>\n",
              "    <div class=\"colab-df-buttons\">\n",
              "\n",
              "  <div class=\"colab-df-container\">\n",
              "    <button class=\"colab-df-convert\" onclick=\"convertToInteractive('df-828a28fb-4f67-465f-aa4d-f64f72115a67')\"\n",
              "            title=\"Convert this dataframe to an interactive table.\"\n",
              "            style=\"display:none;\">\n",
              "\n",
              "  <svg xmlns=\"http://www.w3.org/2000/svg\" height=\"24px\" viewBox=\"0 -960 960 960\">\n",
              "    <path d=\"M120-120v-720h720v720H120Zm60-500h600v-160H180v160Zm220 220h160v-160H400v160Zm0 220h160v-160H400v160ZM180-400h160v-160H180v160Zm440 0h160v-160H620v160ZM180-180h160v-160H180v160Zm440 0h160v-160H620v160Z\"/>\n",
              "  </svg>\n",
              "    </button>\n",
              "\n",
              "  <style>\n",
              "    .colab-df-container {\n",
              "      display:flex;\n",
              "      gap: 12px;\n",
              "    }\n",
              "\n",
              "    .colab-df-convert {\n",
              "      background-color: #E8F0FE;\n",
              "      border: none;\n",
              "      border-radius: 50%;\n",
              "      cursor: pointer;\n",
              "      display: none;\n",
              "      fill: #1967D2;\n",
              "      height: 32px;\n",
              "      padding: 0 0 0 0;\n",
              "      width: 32px;\n",
              "    }\n",
              "\n",
              "    .colab-df-convert:hover {\n",
              "      background-color: #E2EBFA;\n",
              "      box-shadow: 0px 1px 2px rgba(60, 64, 67, 0.3), 0px 1px 3px 1px rgba(60, 64, 67, 0.15);\n",
              "      fill: #174EA6;\n",
              "    }\n",
              "\n",
              "    .colab-df-buttons div {\n",
              "      margin-bottom: 4px;\n",
              "    }\n",
              "\n",
              "    [theme=dark] .colab-df-convert {\n",
              "      background-color: #3B4455;\n",
              "      fill: #D2E3FC;\n",
              "    }\n",
              "\n",
              "    [theme=dark] .colab-df-convert:hover {\n",
              "      background-color: #434B5C;\n",
              "      box-shadow: 0px 1px 3px 1px rgba(0, 0, 0, 0.15);\n",
              "      filter: drop-shadow(0px 1px 2px rgba(0, 0, 0, 0.3));\n",
              "      fill: #FFFFFF;\n",
              "    }\n",
              "  </style>\n",
              "\n",
              "    <script>\n",
              "      const buttonEl =\n",
              "        document.querySelector('#df-828a28fb-4f67-465f-aa4d-f64f72115a67 button.colab-df-convert');\n",
              "      buttonEl.style.display =\n",
              "        google.colab.kernel.accessAllowed ? 'block' : 'none';\n",
              "\n",
              "      async function convertToInteractive(key) {\n",
              "        const element = document.querySelector('#df-828a28fb-4f67-465f-aa4d-f64f72115a67');\n",
              "        const dataTable =\n",
              "          await google.colab.kernel.invokeFunction('convertToInteractive',\n",
              "                                                    [key], {});\n",
              "        if (!dataTable) return;\n",
              "\n",
              "        const docLinkHtml = 'Like what you see? Visit the ' +\n",
              "          '<a target=\"_blank\" href=https://colab.research.google.com/notebooks/data_table.ipynb>data table notebook</a>'\n",
              "          + ' to learn more about interactive tables.';\n",
              "        element.innerHTML = '';\n",
              "        dataTable['output_type'] = 'display_data';\n",
              "        await google.colab.output.renderOutput(dataTable, element);\n",
              "        const docLink = document.createElement('div');\n",
              "        docLink.innerHTML = docLinkHtml;\n",
              "        element.appendChild(docLink);\n",
              "      }\n",
              "    </script>\n",
              "  </div>\n",
              "\n",
              "\n",
              "<div id=\"df-aa0df912-6f8d-4066-8eef-6382eda2d8ee\">\n",
              "  <button class=\"colab-df-quickchart\" onclick=\"quickchart('df-aa0df912-6f8d-4066-8eef-6382eda2d8ee')\"\n",
              "            title=\"Suggest charts\"\n",
              "            style=\"display:none;\">\n",
              "\n",
              "<svg xmlns=\"http://www.w3.org/2000/svg\" height=\"24px\"viewBox=\"0 0 24 24\"\n",
              "     width=\"24px\">\n",
              "    <g>\n",
              "        <path d=\"M19 3H5c-1.1 0-2 .9-2 2v14c0 1.1.9 2 2 2h14c1.1 0 2-.9 2-2V5c0-1.1-.9-2-2-2zM9 17H7v-7h2v7zm4 0h-2V7h2v10zm4 0h-2v-4h2v4z\"/>\n",
              "    </g>\n",
              "</svg>\n",
              "  </button>\n",
              "\n",
              "<style>\n",
              "  .colab-df-quickchart {\n",
              "      --bg-color: #E8F0FE;\n",
              "      --fill-color: #1967D2;\n",
              "      --hover-bg-color: #E2EBFA;\n",
              "      --hover-fill-color: #174EA6;\n",
              "      --disabled-fill-color: #AAA;\n",
              "      --disabled-bg-color: #DDD;\n",
              "  }\n",
              "\n",
              "  [theme=dark] .colab-df-quickchart {\n",
              "      --bg-color: #3B4455;\n",
              "      --fill-color: #D2E3FC;\n",
              "      --hover-bg-color: #434B5C;\n",
              "      --hover-fill-color: #FFFFFF;\n",
              "      --disabled-bg-color: #3B4455;\n",
              "      --disabled-fill-color: #666;\n",
              "  }\n",
              "\n",
              "  .colab-df-quickchart {\n",
              "    background-color: var(--bg-color);\n",
              "    border: none;\n",
              "    border-radius: 50%;\n",
              "    cursor: pointer;\n",
              "    display: none;\n",
              "    fill: var(--fill-color);\n",
              "    height: 32px;\n",
              "    padding: 0;\n",
              "    width: 32px;\n",
              "  }\n",
              "\n",
              "  .colab-df-quickchart:hover {\n",
              "    background-color: var(--hover-bg-color);\n",
              "    box-shadow: 0 1px 2px rgba(60, 64, 67, 0.3), 0 1px 3px 1px rgba(60, 64, 67, 0.15);\n",
              "    fill: var(--button-hover-fill-color);\n",
              "  }\n",
              "\n",
              "  .colab-df-quickchart-complete:disabled,\n",
              "  .colab-df-quickchart-complete:disabled:hover {\n",
              "    background-color: var(--disabled-bg-color);\n",
              "    fill: var(--disabled-fill-color);\n",
              "    box-shadow: none;\n",
              "  }\n",
              "\n",
              "  .colab-df-spinner {\n",
              "    border: 2px solid var(--fill-color);\n",
              "    border-color: transparent;\n",
              "    border-bottom-color: var(--fill-color);\n",
              "    animation:\n",
              "      spin 1s steps(1) infinite;\n",
              "  }\n",
              "\n",
              "  @keyframes spin {\n",
              "    0% {\n",
              "      border-color: transparent;\n",
              "      border-bottom-color: var(--fill-color);\n",
              "      border-left-color: var(--fill-color);\n",
              "    }\n",
              "    20% {\n",
              "      border-color: transparent;\n",
              "      border-left-color: var(--fill-color);\n",
              "      border-top-color: var(--fill-color);\n",
              "    }\n",
              "    30% {\n",
              "      border-color: transparent;\n",
              "      border-left-color: var(--fill-color);\n",
              "      border-top-color: var(--fill-color);\n",
              "      border-right-color: var(--fill-color);\n",
              "    }\n",
              "    40% {\n",
              "      border-color: transparent;\n",
              "      border-right-color: var(--fill-color);\n",
              "      border-top-color: var(--fill-color);\n",
              "    }\n",
              "    60% {\n",
              "      border-color: transparent;\n",
              "      border-right-color: var(--fill-color);\n",
              "    }\n",
              "    80% {\n",
              "      border-color: transparent;\n",
              "      border-right-color: var(--fill-color);\n",
              "      border-bottom-color: var(--fill-color);\n",
              "    }\n",
              "    90% {\n",
              "      border-color: transparent;\n",
              "      border-bottom-color: var(--fill-color);\n",
              "    }\n",
              "  }\n",
              "</style>\n",
              "\n",
              "  <script>\n",
              "    async function quickchart(key) {\n",
              "      const quickchartButtonEl =\n",
              "        document.querySelector('#' + key + ' button');\n",
              "      quickchartButtonEl.disabled = true;  // To prevent multiple clicks.\n",
              "      quickchartButtonEl.classList.add('colab-df-spinner');\n",
              "      try {\n",
              "        const charts = await google.colab.kernel.invokeFunction(\n",
              "            'suggestCharts', [key], {});\n",
              "      } catch (error) {\n",
              "        console.error('Error during call to suggestCharts:', error);\n",
              "      }\n",
              "      quickchartButtonEl.classList.remove('colab-df-spinner');\n",
              "      quickchartButtonEl.classList.add('colab-df-quickchart-complete');\n",
              "    }\n",
              "    (() => {\n",
              "      let quickchartButtonEl =\n",
              "        document.querySelector('#df-aa0df912-6f8d-4066-8eef-6382eda2d8ee button');\n",
              "      quickchartButtonEl.style.display =\n",
              "        google.colab.kernel.accessAllowed ? 'block' : 'none';\n",
              "    })();\n",
              "  </script>\n",
              "</div>\n",
              "\n",
              "    </div>\n",
              "  </div>\n"
            ],
            "application/vnd.google.colaboratory.intrinsic+json": {
              "type": "dataframe",
              "summary": "{\n  \"name\": \"data\",\n  \"rows\": 15302,\n  \"fields\": [\n    {\n      \"column\": \"age\",\n      \"properties\": {\n        \"dtype\": \"number\",\n        \"std\": 13,\n        \"min\": 17,\n        \"max\": 90,\n        \"num_unique_values\": 70,\n        \"samples\": [\n          64,\n          62,\n          54\n        ],\n        \"semantic_type\": \"\",\n        \"description\": \"\"\n      }\n    },\n    {\n      \"column\": \"workclass\",\n      \"properties\": {\n        \"dtype\": \"category\",\n        \"num_unique_values\": 8,\n        \"samples\": [\n          \" Private\",\n          \" Self-emp-inc\",\n          \" Self-emp-not-inc\"\n        ],\n        \"semantic_type\": \"\",\n        \"description\": \"\"\n      }\n    },\n    {\n      \"column\": \"fnlwgt\",\n      \"properties\": {\n        \"dtype\": \"number\",\n        \"std\": 106388,\n        \"min\": 12285,\n        \"max\": 1484705,\n        \"num_unique_values\": 12466,\n        \"samples\": [\n          213477,\n          32825,\n          195821\n        ],\n        \"semantic_type\": \"\",\n        \"description\": \"\"\n      }\n    },\n    {\n      \"column\": \"education\",\n      \"properties\": {\n        \"dtype\": \"category\",\n        \"num_unique_values\": 16,\n        \"samples\": [\n          \" 7th-8th\",\n          \" 11th\",\n          \" 5th-6th\"\n        ],\n        \"semantic_type\": \"\",\n        \"description\": \"\"\n      }\n    },\n    {\n      \"column\": \"education-num\",\n      \"properties\": {\n        \"dtype\": \"number\",\n        \"std\": 2,\n        \"min\": 1,\n        \"max\": 16,\n        \"num_unique_values\": 16,\n        \"samples\": [\n          4,\n          7,\n          3\n        ],\n        \"semantic_type\": \"\",\n        \"description\": \"\"\n      }\n    },\n    {\n      \"column\": \"marital-status\",\n      \"properties\": {\n        \"dtype\": \"category\",\n        \"num_unique_values\": 7,\n        \"samples\": [\n          \" Widowed\",\n          \" Never-married\",\n          \" Married-spouse-absent\"\n        ],\n        \"semantic_type\": \"\",\n        \"description\": \"\"\n      }\n    },\n    {\n      \"column\": \"occupation\",\n      \"properties\": {\n        \"dtype\": \"category\",\n        \"num_unique_values\": 14,\n        \"samples\": [\n          \" Transport-moving\",\n          \" Tech-support\",\n          \" Other-service\"\n        ],\n        \"semantic_type\": \"\",\n        \"description\": \"\"\n      }\n    },\n    {\n      \"column\": \"relationship\",\n      \"properties\": {\n        \"dtype\": \"category\",\n        \"num_unique_values\": 6,\n        \"samples\": [\n          \" Not-in-family\",\n          \" Other-relative\",\n          \" Wife\"\n        ],\n        \"semantic_type\": \"\",\n        \"description\": \"\"\n      }\n    },\n    {\n      \"column\": \"race\",\n      \"properties\": {\n        \"dtype\": \"category\",\n        \"num_unique_values\": 5,\n        \"samples\": [\n          \" Black\",\n          \" Amer-Indian-Eskimo\",\n          \" Asian-Pac-Islander\"\n        ],\n        \"semantic_type\": \"\",\n        \"description\": \"\"\n      }\n    },\n    {\n      \"column\": \"sex\",\n      \"properties\": {\n        \"dtype\": \"category\",\n        \"num_unique_values\": 2,\n        \"samples\": [\n          \" Male\",\n          \" Female\"\n        ],\n        \"semantic_type\": \"\",\n        \"description\": \"\"\n      }\n    },\n    {\n      \"column\": \"capital-gain\",\n      \"properties\": {\n        \"dtype\": \"number\",\n        \"std\": 1013,\n        \"min\": 0,\n        \"max\": 41310,\n        \"num_unique_values\": 84,\n        \"samples\": [\n          991,\n          0\n        ],\n        \"semantic_type\": \"\",\n        \"description\": \"\"\n      }\n    },\n    {\n      \"column\": \"capital-loss\",\n      \"properties\": {\n        \"dtype\": \"number\",\n        \"std\": 313,\n        \"min\": 0,\n        \"max\": 4356,\n        \"num_unique_values\": 65,\n        \"samples\": [\n          2489,\n          2238\n        ],\n        \"semantic_type\": \"\",\n        \"description\": \"\"\n      }\n    },\n    {\n      \"column\": \"hours-per-week\",\n      \"properties\": {\n        \"dtype\": \"number\",\n        \"std\": 12,\n        \"min\": 1,\n        \"max\": 99,\n        \"num_unique_values\": 87,\n        \"samples\": [\n          81,\n          66\n        ],\n        \"semantic_type\": \"\",\n        \"description\": \"\"\n      }\n    },\n    {\n      \"column\": \"native-country\",\n      \"properties\": {\n        \"dtype\": \"category\",\n        \"num_unique_values\": 41,\n        \"samples\": [\n          \" Columbia\",\n          \" France\"\n        ],\n        \"semantic_type\": \"\",\n        \"description\": \"\"\n      }\n    },\n    {\n      \"column\": \"IncomeGroup\",\n      \"properties\": {\n        \"dtype\": \"category\",\n        \"num_unique_values\": 1,\n        \"samples\": [\n          \" <=50K\"\n        ],\n        \"semantic_type\": \"\",\n        \"description\": \"\"\n      }\n    }\n  ]\n}"
            }
          },
          "metadata": {},
          "execution_count": 37
        }
      ]
    },
    {
      "cell_type": "markdown",
      "source": [
        "- Q7 What is the mean age of the samples given in the dataset(mark the closest integer from the given options)?"
      ],
      "metadata": {
        "id": "8cAhTjUAXXke"
      }
    },
    {
      "cell_type": "code",
      "source": [
        "data.age.mean()"
      ],
      "metadata": {
        "colab": {
          "base_uri": "https://localhost:8080/"
        },
        "id": "i7dFIm90XbZ1",
        "outputId": "179aaae7-39b6-4ded-e370-5fae83536d4b"
      },
      "execution_count": 39,
      "outputs": [
        {
          "output_type": "execute_result",
          "data": {
            "text/plain": [
              "38.553"
            ]
          },
          "metadata": {},
          "execution_count": 39
        }
      ]
    },
    {
      "cell_type": "markdown",
      "source": [
        "- Q8 How many people have completed their education upto \"Preschool\" only ?"
      ],
      "metadata": {
        "id": "pj4AcwUQXmgt"
      }
    },
    {
      "cell_type": "code",
      "source": [
        "criteria2 = data.education == \" Preschool\"\n",
        "data.loc[criteria2].count()"
      ],
      "metadata": {
        "colab": {
          "base_uri": "https://localhost:8080/"
        },
        "id": "-VsIRH5hXqLd",
        "outputId": "935719d0-a956-421e-92e7-4b8925c69c77"
      },
      "execution_count": 42,
      "outputs": [
        {
          "output_type": "execute_result",
          "data": {
            "text/plain": [
              "age               32\n",
              "workclass         28\n",
              "fnlwgt            32\n",
              "education         32\n",
              "education-num     32\n",
              "marital-status    32\n",
              "occupation        28\n",
              "relationship      32\n",
              "race              32\n",
              "sex               32\n",
              "capital-gain      32\n",
              "capital-loss      32\n",
              "hours-per-week    32\n",
              "native-country    31\n",
              "IncomeGroup       32\n",
              "dtype: int64"
            ]
          },
          "metadata": {},
          "execution_count": 42
        }
      ]
    },
    {
      "cell_type": "markdown",
      "source": [
        "- Q9 What is the correlation cofficient between column \"education-num\" and column \"capital-gain\" ?"
      ],
      "metadata": {
        "id": "V8kWaZ5VZSQW"
      }
    },
    {
      "cell_type": "code",
      "source": [
        "data['capital-gain']"
      ],
      "metadata": {
        "colab": {
          "base_uri": "https://localhost:8080/"
        },
        "id": "t0ZMFiDWZ-M1",
        "outputId": "842060ab-87d9-4337-cb14-a591b1d36172"
      },
      "execution_count": 45,
      "outputs": [
        {
          "output_type": "execute_result",
          "data": {
            "text/plain": [
              "0            0\n",
              "1            0\n",
              "2        27828\n",
              "3            0\n",
              "4            0\n",
              "         ...  \n",
              "19995        0\n",
              "19996        0\n",
              "19997        0\n",
              "19998        0\n",
              "19999        0\n",
              "Name: capital-gain, Length: 20000, dtype: int64"
            ]
          },
          "metadata": {},
          "execution_count": 45
        }
      ]
    },
    {
      "cell_type": "code",
      "source": [
        "correlation_coefficient = data['education-num'].corr(data['capital-gain'])\n",
        "\n",
        "print(\"Correlation coefficient between 'education-num' and 'capital-gain':\", correlation_coefficient)"
      ],
      "metadata": {
        "colab": {
          "base_uri": "https://localhost:8080/"
        },
        "id": "-6FMO7BaZXym",
        "outputId": "8e52cdbe-b555-4e84-87d1-3a1997ee0481"
      },
      "execution_count": 44,
      "outputs": [
        {
          "output_type": "stream",
          "name": "stdout",
          "text": [
            "Correlation coefficient between 'education-num' and 'capital-gain': 0.12456727883397226\n"
          ]
        }
      ]
    },
    {
      "cell_type": "markdown",
      "source": [
        "- Q10 Apply SimpleImputer with strategy = 'most_frequent' to replace all NaN value by mode of respective column in the original dataset.(Use this updated dataset only for all further questions)\n",
        "\n",
        "What is the mode of 'occupation' column of updated datset?"
      ],
      "metadata": {
        "id": "Oj5pebvxZ7yG"
      }
    },
    {
      "cell_type": "code",
      "source": [
        "from sklearn.impute import SimpleImputer\n",
        "\n",
        "imputer = SimpleImputer(strategy='most_frequent')\n",
        "imputer.fit(data)\n",
        "\n",
        "# Transform the dataset, replacing NaN values with the most frequent value of each column\n",
        "data_imputed = pd.DataFrame(imputer.transform(data), columns=data.columns)\n",
        "\n",
        "# Display the DataFrame with NaN values replaced by mode\n",
        "#print(\"DataFrame with NaN values replaced by mode:\")\n",
        "#print(data_imputed)"
      ],
      "metadata": {
        "colab": {
          "base_uri": "https://localhost:8080/"
        },
        "id": "OttGno-paQ43",
        "outputId": "a70053c8-f869-4b0a-bcea-0a107ff47015"
      },
      "execution_count": 49,
      "outputs": [
        {
          "output_type": "execute_result",
          "data": {
            "text/plain": [
              "age                                54\n",
              "workclass                Self-emp-inc\n",
              "fnlwgt                          99185\n",
              "education                   Doctorate\n",
              "education-num                      16\n",
              "marital-status     Married-civ-spouse\n",
              "occupation             Prof-specialty\n",
              "relationship                  Husband\n",
              "race                            White\n",
              "sex                              Male\n",
              "capital-gain                        0\n",
              "capital-loss                        0\n",
              "hours-per-week                     50\n",
              "native-country                    NaN\n",
              "IncomeGroup                      >50K\n",
              "Name: 16, dtype: object"
            ]
          },
          "metadata": {},
          "execution_count": 49
        }
      ]
    },
    {
      "cell_type": "code",
      "source": [
        "# Find the mode of the 'occupation' column\n",
        "occupation_mode = data_imputed['occupation'].mode()[0]\n",
        "\n",
        "print(\"Mode of 'occupation' column:\", occupation_mode)"
      ],
      "metadata": {
        "colab": {
          "base_uri": "https://localhost:8080/"
        },
        "id": "6oe45o8ablcP",
        "outputId": "c89e3a15-b27b-4008-8b93-70b05741318c"
      },
      "execution_count": 50,
      "outputs": [
        {
          "output_type": "stream",
          "name": "stdout",
          "text": [
            "Mode of 'occupation' column:  Prof-specialty\n"
          ]
        }
      ]
    },
    {
      "cell_type": "markdown",
      "source": [
        "- Q11 Split the dataset into X1, X2 and y, where X1 contains all Numerical features, X2 contains all categorical features(except \"IncomeGroup\") and save 'IncomeGroup' column in y variable. Then apply OneHotEncoder on the categorical features(X2) with option (sparse = False) and StandardScaler on the numerical features (X2).\n",
        "\n",
        "What is the total number of columns in X1 and X2 variables respectively?"
      ],
      "metadata": {
        "id": "KXVksJubbvqH"
      }
    },
    {
      "cell_type": "code",
      "source": [
        "import pandas as pd\n",
        "from sklearn.preprocessing import OneHotEncoder, StandardScaler\n",
        "from sklearn.compose import ColumnTransformer\n",
        "from sklearn.model_selection import train_test_split\n",
        "\n",
        "#numeric_data = dataset.select_dtypes(include=[np.number])\n",
        "#categorical_data = dataset.select_dtypes(exclude=[np.number])\n",
        "\n",
        "numerical_features = ['age', 'fnlwgt', 'education-num', 'capital-gain', 'capital-loss', 'hours-per-week']\n",
        "categorical_features = ['workclass', 'education', 'marital-status', 'occupation', 'relationship', 'race', 'sex', 'native-country']\n",
        "\n",
        "X1 = data_imputed[numerical_features]\n",
        "X2 = data_imputed[categorical_features]\n",
        "y = data_imputed['IncomeGroup']\n",
        "# X1 = X1.to_numpy().reshape(-1, 1)\n",
        "# X2 = X2.to_numpy().reshape(-1, 1)\n",
        "\n",
        "#Apply OneHotEncoder on categorical features (X2)\n",
        "ohe = OneHotEncoder(handle_unknown='ignore', sparse=False)\n",
        "X2_encoded = ohe.fit_transform(X2)\n",
        "\n",
        "# Apply StandardScaler on numerical features (X1)\n",
        "scaler = StandardScaler()\n",
        "X1_scaled = scaler.fit_transform(X1)\n"
      ],
      "metadata": {
        "colab": {
          "base_uri": "https://localhost:8080/"
        },
        "id": "mb9M2lN_b4P_",
        "outputId": "19d418ec-6488-484a-a4af-582b63180924"
      },
      "execution_count": 101,
      "outputs": [
        {
          "output_type": "stream",
          "name": "stdout",
          "text": [
            "               workclass    education       marital-status  \\\n",
            "0       Self-emp-not-inc      7th-8th              Widowed   \n",
            "1                Private         11th        Never-married   \n",
            "2                Private    Bachelors        Never-married   \n",
            "3                Private      HS-grad   Married-civ-spouse   \n",
            "4                Private         11th        Never-married   \n",
            "...                  ...          ...                  ...   \n",
            "19995            Private    Bachelors   Married-civ-spouse   \n",
            "19996            Private      7th-8th             Divorced   \n",
            "19997            Private    Bachelors   Married-civ-spouse   \n",
            "19998            Private   Assoc-acdm             Divorced   \n",
            "19999            Private      HS-grad              Widowed   \n",
            "\n",
            "               occupation     relationship    race      sex  native-country  \n",
            "0           Other-service    Not-in-family   White   Female   United-States  \n",
            "1           Other-service   Other-relative   White     Male   United-States  \n",
            "2         Farming-fishing        Own-child   White     Male   United-States  \n",
            "3          Prof-specialty          Husband   White     Male   United-States  \n",
            "4       Machine-op-inspct        Unmarried   White   Female   United-States  \n",
            "...                   ...              ...     ...      ...             ...  \n",
            "19995               Sales             Wife   White   Female   United-States  \n",
            "19996   Handlers-cleaners    Not-in-family   White     Male   United-States  \n",
            "19997     Exec-managerial          Husband   White     Male   United-States  \n",
            "19998        Adm-clerical    Not-in-family   Black   Female   United-States  \n",
            "19999   Machine-op-inspct        Unmarried   Black   Female   United-States  \n",
            "\n",
            "[20000 rows x 8 columns]\n"
          ]
        },
        {
          "output_type": "stream",
          "name": "stderr",
          "text": [
            "/usr/local/lib/python3.10/dist-packages/sklearn/preprocessing/_encoders.py:868: FutureWarning: `sparse` was renamed to `sparse_output` in version 1.2 and will be removed in 1.4. `sparse_output` is ignored unless you leave `sparse` to its default value.\n",
            "  warnings.warn(\n"
          ]
        }
      ]
    },
    {
      "cell_type": "code",
      "source": [
        "from sklearn.preprocessing import OneHotEncoder, StandardScaler\n",
        "# Combine encoded categorical features and scaled numerical features\n",
        "X = pd.concat([pd.DataFrame(X1_scaled), pd.DataFrame(X2_encoded)], axis=1)\n",
        "\n",
        "# Split the data into train and test sets\n",
        "X_train, X_test, y_train, y_test = train_test_split(X, y, test_size=0.2, random_state=64)\n",
        "\n",
        "# Display the first few rows of X and y\n",
        "print(\"X (features) shape:\", X.shape)\n",
        "print(\"y (target) shape:\", y.shape)"
      ],
      "metadata": {
        "colab": {
          "base_uri": "https://localhost:8080/"
        },
        "id": "HTuS4F1ncdlP",
        "outputId": "ed549adf-0257-47e6-9c56-daf6d24280d5"
      },
      "execution_count": 107,
      "outputs": [
        {
          "output_type": "stream",
          "name": "stdout",
          "text": [
            "X (features) shape: (20000, 105)\n",
            "y (target) shape: (20000,)\n"
          ]
        },
        {
          "output_type": "execute_result",
          "data": {
            "text/plain": [
              "(16000, 105)"
            ]
          },
          "metadata": {},
          "execution_count": 107
        }
      ]
    },
    {
      "cell_type": "code",
      "source": [
        "X_test.shape"
      ],
      "metadata": {
        "colab": {
          "base_uri": "https://localhost:8080/"
        },
        "id": "GcAVNocn0175",
        "outputId": "cec91a28-ed5c-4b5b-e8c3-7d5b1b38830e"
      },
      "execution_count": 116,
      "outputs": [
        {
          "output_type": "execute_result",
          "data": {
            "text/plain": [
              "(4000, 105)"
            ]
          },
          "metadata": {},
          "execution_count": 116
        }
      ]
    },
    {
      "cell_type": "markdown",
      "source": [
        "#### Q15 Instantiate a perceptron classifier that with following parameters:-\n",
        "- Fit the intercept\n",
        "- Put warm start to be False\n",
        "- Fit this perceptron model with the training dataset and calculate the accuracy score for training data.\n",
        "Which of the following option matches with the score?"
      ],
      "metadata": {
        "id": "AI0oxMUg1Ovy"
      }
    },
    {
      "cell_type": "code",
      "source": [
        "from sklearn.linear_model import Perceptron\n",
        "from sklearn.metrics import accuracy_score\n",
        "\n",
        "# Instantiate Perceptron classifier with specified parameters\n",
        "perceptron_clf = Perceptron(fit_intercept=True, warm_start=False)\n",
        "\n",
        "# Fit the perceptron model with the training dataset\n",
        "perceptron_clf.fit(X_train, y_train)\n",
        "\n",
        "# Predict using the trained model on the training data\n",
        "y_pred = perceptron_clf.predict(X_train)\n",
        "\n",
        "# Calculate accuracy score for training data\n",
        "accuracy_train = accuracy_score(y_train, y_pred)\n",
        "print(\"Accuracy score for training data:\", accuracy_train)\n"
      ],
      "metadata": {
        "colab": {
          "base_uri": "https://localhost:8080/"
        },
        "id": "Qa07XzwI1NjZ",
        "outputId": "52909c58-0988-47a8-8ddd-00092dab2fc9"
      },
      "execution_count": 109,
      "outputs": [
        {
          "output_type": "stream",
          "name": "stdout",
          "text": [
            "Accuracy score for training data: 0.813\n"
          ]
        }
      ]
    },
    {
      "cell_type": "markdown",
      "source": [
        "#### Q16 Create a new Perceptron object with given settings in the instrunctions and train it on training set . What is the value of bias (intercept) (upto 1 decimal point) ?\n",
        "- Set early stopping and\n",
        "- fit intercept to be True\n",
        "- Put warm start to be False\n"
      ],
      "metadata": {
        "id": "EAwI9Su12mba"
      }
    },
    {
      "cell_type": "code",
      "source": [
        "perceptron_clf = Perceptron(fit_intercept=True, warm_start=False, early_stopping=True)\n",
        "\n",
        "# Fit the perceptron model with the training dataset\n",
        "perceptron_clf.fit(X_train, y_train)\n",
        "\n",
        "# Predict using the trained model on the training data\n",
        "#y_pred = perceptron_clf.predict(X_train)\n",
        "\n",
        "# Retrieve the intercept (bias) value\n",
        "intercept_value = perceptron_clf.intercept_[0]\n",
        "\n",
        "print(intercept_value)\n"
      ],
      "metadata": {
        "colab": {
          "base_uri": "https://localhost:8080/"
        },
        "id": "HuQ0fu9L2rQf",
        "outputId": "00835710-ba76-47ad-f434-e4f7ad3a9966"
      },
      "execution_count": 112,
      "outputs": [
        {
          "output_type": "stream",
          "name": "stdout",
          "text": [
            "-6.0\n"
          ]
        }
      ]
    },
    {
      "cell_type": "markdown",
      "source": [
        "#### Q17 Use SGDClassifier on the training dataset (X_train and y_train) to train the model. Use the following parameters:\n",
        "\n",
        "- log is the loss function to be used\n",
        "- apply ridge regularization,\n",
        "- maximum number of passes over the training data is 10\n",
        "- initial learning rate is 0.01,\n",
        "- regularization rate value is 0.001,\n",
        "- learning rate should not change during training.\n",
        "- Take random_state=64.\n",
        "- Set warm_state as False\n",
        "\n",
        "Note : Please ignore the convergence warning.\n",
        "\n",
        "Based on this operation, calculate and enter the correct value of accuracy (Upto 4 decimal points)."
      ],
      "metadata": {
        "id": "8GObmDam3a0y"
      }
    },
    {
      "cell_type": "code",
      "source": [
        "from sklearn.linear_model import SGDClassifier\n",
        "from sklearn.metrics import accuracy_score\n",
        "\n",
        "# Instantiate SGDClassifier with specified parameters\n",
        "sgd_clf = SGDClassifier(loss='log', penalty='l2', max_iter=10, learning_rate='constant', eta0=0.01, alpha=0.001, warm_start=False, random_state=64)\n",
        "\n",
        "# Train the model on the training dataset\n",
        "sgd_clf.fit(X_train, y_train)\n",
        "\n",
        "# Predict on the training set\n",
        "y_pred = sgd_clf.predict(X_train)\n",
        "\n",
        "# Calculate accuracy on the training set\n",
        "accuracy = accuracy_score(y_train, y_pred)\n",
        "\n",
        "print(\"Accuracy on training set:\", round(accuracy, 4))\n"
      ],
      "metadata": {
        "colab": {
          "base_uri": "https://localhost:8080/"
        },
        "id": "lC9nmbAo4v3D",
        "outputId": "09ae82bb-df09-4ff4-e993-c28e0a5c12d4"
      },
      "execution_count": 117,
      "outputs": [
        {
          "output_type": "stream",
          "name": "stderr",
          "text": [
            "/usr/local/lib/python3.10/dist-packages/sklearn/linear_model/_stochastic_gradient.py:163: FutureWarning: The loss 'log' was deprecated in v1.1 and will be removed in version 1.3. Use `loss='log_loss'` which is equivalent.\n",
            "  warnings.warn(\n"
          ]
        },
        {
          "output_type": "stream",
          "name": "stdout",
          "text": [
            "Accuracy on training set: 0.8511\n"
          ]
        }
      ]
    },
    {
      "cell_type": "markdown",
      "source": [
        "#### Q18 Take LogisticRegression estimator with following parameters for fitting on the training dataset:\n",
        "- Use sag as solver\n",
        "- Set random state to be equal to 64\n",
        "- Tolerance for stopping criteria to be 1e-3\n",
        "- Maximum number of iterations taken for the solvers to converge to be 100\n",
        "\n",
        "Enter the recall score you got for the given model (Take average as macro)."
      ],
      "metadata": {
        "id": "68JDeoTD5jJt"
      }
    },
    {
      "cell_type": "code",
      "source": [
        "from sklearn.linear_model import LogisticRegression\n",
        "from sklearn.metrics import recall_score\n",
        "\n",
        "# Instantiate LogisticRegression with specified parameters\n",
        "logistic_reg = LogisticRegression(solver='sag', random_state=64, tol=1e-3, max_iter=100)\n",
        "\n",
        "# Train the model on the training dataset\n",
        "logistic_reg.fit(X_train, y_train)\n",
        "\n",
        "# Predict on the training set\n",
        "y_pred = logistic_reg.predict(X_train)\n",
        "\n",
        "# Calculate recall score on the training set (average='macro')\n",
        "recall = recall_score(y_train, y_pred, average='macro')\n",
        "\n",
        "print(\"Recall score on training set:\", recall)\n"
      ],
      "metadata": {
        "colab": {
          "base_uri": "https://localhost:8080/"
        },
        "id": "mDdlsCo65wAp",
        "outputId": "525c364e-14d7-42b3-8605-b351d2ed0e43"
      },
      "execution_count": 118,
      "outputs": [
        {
          "output_type": "stream",
          "name": "stderr",
          "text": [
            "/usr/local/lib/python3.10/dist-packages/sklearn/linear_model/_sag.py:350: ConvergenceWarning: The max_iter was reached which means the coef_ did not converge\n",
            "  warnings.warn(\n"
          ]
        },
        {
          "output_type": "stream",
          "name": "stdout",
          "text": [
            "Recall score on training set: 0.7630706745050128\n"
          ]
        }
      ]
    },
    {
      "cell_type": "markdown",
      "source": [
        "#### Q19 Use Gridsearchcv with KNeighborsClassifier() being the estimator, accuracy as scoring parameter, cv value as 4 and consider [1,3,5,7] as \"number of neighbors\" to be examined.\n",
        "\n",
        "Consider following parameters for KNeighborsClassifier():\n",
        "\n",
        "Take metric as 'minkowski',\n",
        "Set P value as 2\n",
        "\n",
        "Keep other parameter values as default value.\n",
        "\n",
        "What is the best value of K you obtained using above instruction?\n"
      ],
      "metadata": {
        "id": "3gAnwiSp6Pr-"
      }
    },
    {
      "cell_type": "code",
      "source": [
        "from sklearn.model_selection import GridSearchCV\n",
        "from sklearn.neighbors import KNeighborsClassifier\n",
        "\n",
        "# Define the parameter grid\n",
        "param_grid = {'n_neighbors': [1, 3, 5, 7],\n",
        "              'metric': ['minkowski'],\n",
        "              'p': [2]}\n",
        "\n",
        "# Instantiate the KNeighborsClassifier\n",
        "knn = KNeighborsClassifier()\n",
        "\n",
        "# Instantiate GridSearchCV\n",
        "grid_search = GridSearchCV(estimator=knn, param_grid=param_grid, scoring='accuracy', cv=4)\n",
        "\n",
        "# Fit the grid search to the data\n",
        "grid_search.fit(X_train, y_train)\n",
        "\n",
        "# Get the best parameters\n",
        "best_k = grid_search.best_params_['n_neighbors']\n",
        "\n",
        "print(\"Best value of K:\", best_k)\n"
      ],
      "metadata": {
        "colab": {
          "base_uri": "https://localhost:8080/"
        },
        "id": "jkzm8RHR6reu",
        "outputId": "cae5b7fa-3572-4fae-dd9d-58bbc2299c4b"
      },
      "execution_count": 119,
      "outputs": [
        {
          "output_type": "stream",
          "name": "stdout",
          "text": [
            "Best value of K: 7\n"
          ]
        }
      ]
    },
    {
      "cell_type": "markdown",
      "source": [
        "#### Q20 Take DecisionTreeClassifier(random_state = 64) with GridSearchCV to train the model.Hyperparameter tuning to be done over the following parameters:\n",
        "\n",
        "- Use criterion as 'entropy' or 'gini'\n",
        "- Use splitter as 'random' or 'best'\n",
        "- Use minimum number of samples per leaf as [2,4,6,8,10]\n",
        "- Use maximum depth as [3,4,5,6]\n",
        "- Use cross validation = 4\n",
        "- Enter the value (up to 2 decimal points) of the 'score' on testing set using best model."
      ],
      "metadata": {
        "id": "MSO7EntE7tvM"
      }
    },
    {
      "cell_type": "code",
      "source": [
        "from sklearn.tree import DecisionTreeClassifier\n",
        "from sklearn.model_selection import GridSearchCV\n",
        "from sklearn.metrics import accuracy_score\n",
        "\n",
        "# Define the parameter grid\n",
        "param_grid = {\n",
        "    'criterion': ['entropy', 'gini'],\n",
        "    'splitter': ['random', 'best'],\n",
        "    'min_samples_leaf': [2, 4, 6, 8, 10],\n",
        "    'max_depth': [3, 4, 5, 6]\n",
        "}\n",
        "\n",
        "# Instantiate DecisionTreeClassifier\n",
        "dt_classifier = DecisionTreeClassifier(random_state=64)\n",
        "\n",
        "# Instantiate GridSearchCV\n",
        "grid_search = GridSearchCV(estimator=dt_classifier, param_grid=param_grid, scoring='accuracy', cv=4)\n",
        "\n",
        "# Fit the grid search to the data\n",
        "grid_search.fit(X_train, y_train)\n",
        "\n",
        "# Get the best model\n",
        "best_dt_model = grid_search.best_estimator_\n",
        "\n",
        "# Predict on the testing set\n",
        "y_pred = best_dt_model.predict(X_test)\n",
        "\n",
        "# Calculate accuracy on the testing set\n",
        "accuracy_test = accuracy_score(y_test, y_pred)\n",
        "\n",
        "print(\"Accuracy on testing set using best model:\", round(accuracy_test, 2))\n"
      ],
      "metadata": {
        "colab": {
          "base_uri": "https://localhost:8080/"
        },
        "id": "R2bbsm1q8SFV",
        "outputId": "2c696508-484f-4eee-86a2-573cba74dd7a"
      },
      "execution_count": 120,
      "outputs": [
        {
          "output_type": "stream",
          "name": "stdout",
          "text": [
            "Accuracy on testing set using best model: 0.85\n"
          ]
        }
      ]
    },
    {
      "cell_type": "markdown",
      "source": [
        "#### Q21 Enter the value of best max_depth of the model after training with GridSearchCV."
      ],
      "metadata": {
        "id": "Emll1aT_8tWU"
      }
    },
    {
      "cell_type": "code",
      "source": [
        "best_max_depth = grid_search.best_params_['max_depth']\n",
        "print(\"Best max_depth:\", best_max_depth)\n"
      ],
      "metadata": {
        "colab": {
          "base_uri": "https://localhost:8080/"
        },
        "id": "OrMZb_x985kL",
        "outputId": "5c7ec343-4930-4376-8873-aea87e181d2a"
      },
      "execution_count": 121,
      "outputs": [
        {
          "output_type": "stream",
          "name": "stdout",
          "text": [
            "Best max_depth: 6\n"
          ]
        }
      ]
    },
    {
      "cell_type": "markdown",
      "source": [
        "#### Q22 Enter the value of best min_samples_leaf of the model after training with GridSearchCV."
      ],
      "metadata": {
        "id": "yOJvR_gU9EwL"
      }
    },
    {
      "cell_type": "code",
      "source": [
        "best_min_samples_leaf = grid_search.best_params_['min_samples_leaf']\n",
        "print(\"Best min_samples_leaf:\", best_min_samples_leaf)\n"
      ],
      "metadata": {
        "colab": {
          "base_uri": "https://localhost:8080/"
        },
        "id": "8Up-q0Yb9Cq8",
        "outputId": "13d37fd4-4007-463e-bd1e-f182561d5501"
      },
      "execution_count": 122,
      "outputs": [
        {
          "output_type": "stream",
          "name": "stdout",
          "text": [
            "Best min_samples_leaf: 10\n"
          ]
        }
      ]
    },
    {
      "cell_type": "markdown",
      "source": [
        "#### Q23 What are the number of nodes in the optimal tree?"
      ],
      "metadata": {
        "id": "9pQXm9Fe9IQD"
      }
    },
    {
      "cell_type": "code",
      "source": [
        "best_dt_model = grid_search.best_estimator_\n",
        "number_of_nodes = best_dt_model.tree_.node_count\n",
        "print(\"Number of nodes in the optimal tree:\", number_of_nodes)\n"
      ],
      "metadata": {
        "colab": {
          "base_uri": "https://localhost:8080/"
        },
        "id": "JXJO6S2E9L67",
        "outputId": "42cbae42-f512-4c76-bb20-3a43e860e708"
      },
      "execution_count": 123,
      "outputs": [
        {
          "output_type": "stream",
          "name": "stdout",
          "text": [
            "Number of nodes in the optimal tree: 75\n"
          ]
        }
      ]
    },
    {
      "cell_type": "markdown",
      "source": [
        "#### 24 Take RandomForestClassifier (random state to be 64) with GridSearchCV to tune the number of decision trees with training set. The number of trees in forest can range from 5 to 10 (both inclusive). Mark the number of decision trees that will produce the best score on the training data."
      ],
      "metadata": {
        "id": "nxjTxne89RmL"
      }
    },
    {
      "cell_type": "code",
      "source": [
        "from sklearn.ensemble import RandomForestClassifier\n",
        "from sklearn.model_selection import GridSearchCV\n",
        "\n",
        "# Define the parameter grid\n",
        "param_grid = {'n_estimators': list(range(5, 11))}\n",
        "\n",
        "# Instantiate RandomForestClassifier\n",
        "rf_classifier = RandomForestClassifier(random_state=64)\n",
        "\n",
        "# Instantiate GridSearchCV\n",
        "grid_search = GridSearchCV(estimator=rf_classifier, param_grid=param_grid, scoring='accuracy', cv=4)\n",
        "\n",
        "# Fit the grid search to the data\n",
        "grid_search.fit(X_train, y_train)\n",
        "\n",
        "# Get the best number of trees\n",
        "best_n_estimators = grid_search.best_params_['n_estimators']\n",
        "\n",
        "print(\"Number of decision trees that produce the best score on the training data:\", best_n_estimators)\n"
      ],
      "metadata": {
        "colab": {
          "base_uri": "https://localhost:8080/"
        },
        "id": "lja99HNb9RKr",
        "outputId": "b38728f3-27ca-4954-c801-f2c9dfda4f8e"
      },
      "execution_count": 124,
      "outputs": [
        {
          "output_type": "stream",
          "name": "stdout",
          "text": [
            "Number of decision trees that produce the best score on the training data: 10\n"
          ]
        }
      ]
    },
    {
      "cell_type": "markdown",
      "source": [
        "#### 25 Take an adaboost model with following hyperparameter values and tune it using GridsearchCV.\n",
        "Use n_estimators as [10,20,30]\n",
        "random_state = 64\n",
        "Use learning_rate as [0.5,1,2]\n",
        "Take cv value= 4\n",
        "Train the 'model' using above instructions and enter the 'accuracy score' (up to 3 decimal points) on the test data."
      ],
      "metadata": {
        "id": "OR6ydDk29mzn"
      }
    },
    {
      "cell_type": "code",
      "source": [
        "from sklearn.ensemble import AdaBoostClassifier\n",
        "from sklearn.model_selection import GridSearchCV\n",
        "from sklearn.metrics import accuracy_score\n",
        "\n",
        "# Define the parameter grid\n",
        "param_grid = {\n",
        "    'n_estimators': [10, 20, 30],\n",
        "    'learning_rate': [0.5, 1, 2]\n",
        "}\n",
        "\n",
        "# Instantiate AdaBoostClassifier\n",
        "ada_boost = AdaBoostClassifier(random_state=64)\n",
        "\n",
        "# Instantiate GridSearchCV\n",
        "grid_search = GridSearchCV(estimator=ada_boost, param_grid=param_grid, scoring='accuracy', cv=4)\n",
        "\n",
        "# Fit the grid search to the data\n",
        "grid_search.fit(X_train, y_train)\n",
        "\n",
        "# Get the best model\n",
        "best_ada_boost_model = grid_search.best_estimator_\n",
        "\n",
        "# Predict on the testing set\n",
        "y_pred = best_ada_boost_model.predict(X_test)\n",
        "\n",
        "# Calculate accuracy on the testing set\n",
        "accuracy_test = accuracy_score(y_test, y_pred)\n",
        "\n",
        "print(\"Accuracy score on the test data:\", round(accuracy_test, 3))\n"
      ],
      "metadata": {
        "colab": {
          "base_uri": "https://localhost:8080/"
        },
        "id": "MuA0PozM900c",
        "outputId": "899f94f9-2722-4036-9da1-70a11638be23"
      },
      "execution_count": 125,
      "outputs": [
        {
          "output_type": "stream",
          "name": "stdout",
          "text": [
            "Accuracy score on the test data: 0.853\n"
          ]
        }
      ]
    },
    {
      "cell_type": "markdown",
      "source": [
        "#### 26\n",
        "Enter the value of best n_estimators of the model after training with GridSearchCV."
      ],
      "metadata": {
        "id": "rqPv2nak-IFk"
      }
    },
    {
      "cell_type": "code",
      "source": [
        "best_n_estimators = grid_search.best_params_['n_estimators']\n",
        "print(\"Best n_estimators:\", best_n_estimators)\n"
      ],
      "metadata": {
        "colab": {
          "base_uri": "https://localhost:8080/"
        },
        "id": "FQpM_0y9-Lp0",
        "outputId": "d8b006fa-8c6a-4e11-fcf0-424155be11cb"
      },
      "execution_count": 126,
      "outputs": [
        {
          "output_type": "stream",
          "name": "stdout",
          "text": [
            "Best n_estimators: 30\n"
          ]
        }
      ]
    },
    {
      "cell_type": "markdown",
      "source": [
        "#### Q27 Apply GridsearchCV and support vector machine (SVM)(kernel':('linear', 'rbf'), 'C':[1, 10]) on the training dataset X_train, y_train and calculate the best value of C and kernel. Which of the following options represent the best parameters. (Keep patience: It is common if it takes arround 5 min to complete the run.)"
      ],
      "metadata": {
        "id": "z3yL2yzY-T4D"
      }
    },
    {
      "cell_type": "code",
      "source": [
        "from sklearn.svm import SVC\n",
        "from sklearn.model_selection import GridSearchCV\n",
        "\n",
        "# Define the parameter grid\n",
        "param_grid = {'kernel': ['linear', 'rbf'], 'C': [1, 10]}\n",
        "\n",
        "# Instantiate SVM classifier\n",
        "svm_classifier = SVC()\n",
        "\n",
        "# Instantiate GridSearchCV\n",
        "grid_search = GridSearchCV(estimator=svm_classifier, param_grid=param_grid, scoring='accuracy', cv=4)\n",
        "\n",
        "# Fit the grid search to the training data\n",
        "grid_search.fit(X_train, y_train)\n",
        "\n",
        "# Get the best parameters\n",
        "best_params = grid_search.best_params_\n",
        "\n",
        "print(\"Best parameters:\", best_params)\n"
      ],
      "metadata": {
        "colab": {
          "base_uri": "https://localhost:8080/"
        },
        "id": "VTDgWwNg-Tfs",
        "outputId": "2a63444d-1bb2-4685-849b-882558253328"
      },
      "execution_count": 127,
      "outputs": [
        {
          "output_type": "stream",
          "name": "stdout",
          "text": [
            "Best parameters: {'C': 1, 'kernel': 'rbf'}\n"
          ]
        }
      ]
    }
  ]
}
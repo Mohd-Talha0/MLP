{
  "nbformat": 4,
  "nbformat_minor": 0,
  "metadata": {
    "colab": {
      "provenance": [],
      "authorship_tag": "ABX9TyO+ZWyPbfs4KeD37MhJIRd8",
      "include_colab_link": true
    },
    "kernelspec": {
      "name": "python3",
      "display_name": "Python 3"
    },
    "language_info": {
      "name": "python"
    }
  },
  "cells": [
    {
      "cell_type": "markdown",
      "metadata": {
        "id": "view-in-github",
        "colab_type": "text"
      },
      "source": [
        "<a href=\"https://colab.research.google.com/github/Mohd-Talha0/MLP/blob/main/Untitled8.ipynb\" target=\"_parent\"><img src=\"https://colab.research.google.com/assets/colab-badge.svg\" alt=\"Open In Colab\"/></a>"
      ]
    },
    {
      "cell_type": "code",
      "execution_count": 1,
      "metadata": {
        "id": "bAQJZw1YStW4"
      },
      "outputs": [],
      "source": [
        "from sklearn.datasets import fetch_openml\n",
        "from sklearn.utils import shuffle\n",
        "import numpy as np\n",
        "import matplotlib.pyplot as plt"
      ]
    },
    {
      "cell_type": "code",
      "source": [
        "X, y = fetch_openml('mnist_784', version=1, return_X_y=True)"
      ],
      "metadata": {
        "colab": {
          "base_uri": "https://localhost:8080/"
        },
        "id": "M2oxF_mlV5gD",
        "outputId": "14fa3538-7d62-41ba-a6c3-3bbb72bd86bf"
      },
      "execution_count": 2,
      "outputs": [
        {
          "output_type": "stream",
          "name": "stderr",
          "text": [
            "/usr/local/lib/python3.10/dist-packages/sklearn/datasets/_openml.py:968: FutureWarning: The default value of `parser` will change from `'liac-arff'` to `'auto'` in 1.4. You can set `parser='auto'` to silence this warning. Therefore, an `ImportError` will be raised from 1.4 if the dataset is dense and pandas is not installed. Note that the pandas parser may return different data types. See the Notes Section in fetch_openml's API doc for details.\n",
            "  warn(\n"
          ]
        }
      ]
    },
    {
      "cell_type": "code",
      "source": [
        "np.random.seed(42)"
      ],
      "metadata": {
        "id": "ybCAgfLBWKKC"
      },
      "execution_count": 3,
      "outputs": []
    },
    {
      "cell_type": "code",
      "source": [
        "X1 = X.to_numpy()\n",
        "y1 = y.to_numpy()"
      ],
      "metadata": {
        "id": "SPmWx1TLWL5q"
      },
      "execution_count": 4,
      "outputs": []
    },
    {
      "cell_type": "code",
      "source": [
        "X_train, X_test, y_train, y_test = X1[:49000], X1[49000:], y1[:49000], y1[49000:]"
      ],
      "metadata": {
        "id": "Bk4vLtb0WQd6"
      },
      "execution_count": 6,
      "outputs": []
    },
    {
      "cell_type": "code",
      "source": [
        "print(f'Label: {y_train[-1]}')\n",
        "plt.imshow(X_train[-1].reshape(28, 28))"
      ],
      "metadata": {
        "colab": {
          "base_uri": "https://localhost:8080/",
          "height": 465
        },
        "id": "Mj5aPVFCWriK",
        "outputId": "04744ffa-9262-48ad-c3d4-bd2373f7a23b"
      },
      "execution_count": 7,
      "outputs": [
        {
          "output_type": "stream",
          "name": "stdout",
          "text": [
            "Label: 6\n"
          ]
        },
        {
          "output_type": "execute_result",
          "data": {
            "text/plain": [
              "<matplotlib.image.AxesImage at 0x791ce0859b40>"
            ]
          },
          "metadata": {},
          "execution_count": 7
        },
        {
          "output_type": "display_data",
          "data": {
            "text/plain": [
              "<Figure size 640x480 with 1 Axes>"
            ],
            "image/png": "[encoded data removed]"
          },
          "metadata": {}
        }
      ]
    },
    {
      "cell_type": "code",
      "source": [
        "X_train_69 = np.row_stack((X_train[y_train == '6'], X_train[y_train == '9']))\n",
        "X_test_69 = np.row_stack((X_test[y_test == '6'], X_test[y_test == '9']))\n",
        "\n",
        "y_train_69 = np.concatenate(([1] * 4855, [0] * 4891))\n",
        "y_test_69 = np.concatenate(([1] * 2021, [0] * 2067))\n",
        "\n",
        "np.random.seed(1729)\n",
        "\n",
        "X_train_69, y_train_69 = shuffle(X_train_69, y_train_69, random_state=1729)\n",
        "X_test_69, y_test_69 = shuffle(X_test_69, y_test_69, random_state=1729)\n"
      ],
      "metadata": {
        "id": "_tpv7axJWwqi"
      },
      "execution_count": 8,
      "outputs": []
    },
    {
      "cell_type": "code",
      "source": [
        "print(y_train_69.sum(), y_test_69.sum())"
      ],
      "metadata": {
        "colab": {
          "base_uri": "https://localhost:8080/"
        },
        "id": "qbZfbSckY0zE",
        "outputId": "652febbc-a22e-476a-8562-a0755009756b"
      },
      "execution_count": 9,
      "outputs": [
        {
          "output_type": "stream",
          "name": "stdout",
          "text": [
            "4855 2021\n"
          ]
        }
      ]
    }
  ]
}